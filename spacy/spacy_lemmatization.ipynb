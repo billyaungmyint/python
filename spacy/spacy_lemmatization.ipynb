{
 "cells": [
  {
   "cell_type": "code",
   "execution_count": 1,
   "id": "a0084ed8-74e7-4c86-a1ac-9dbda56963e3",
   "metadata": {},
   "outputs": [],
   "source": [
    "import spacy\n",
    "nlp = spacy.load(\"en_core_web_sm\")\n",
    "doc = nlp(\"I am working but more like studying\")"
   ]
  },
  {
   "cell_type": "code",
   "execution_count": 2,
   "id": "63bbc40a-e2b3-41c0-be2f-a42569d80c43",
   "metadata": {},
   "outputs": [
    {
     "name": "stdout",
     "output_type": "stream",
     "text": [
      "I I\n",
      "am be\n",
      "working work\n",
      "but but\n",
      "more more\n",
      "like like\n",
      "studying study\n"
     ]
    }
   ],
   "source": [
    "for token in doc:\n",
    "    print(token.text , token.lemma_)"
   ]
  },
  {
   "cell_type": "code",
   "execution_count": null,
   "id": "c332706a-b5cc-4376-a93b-2f4c4a12ce89",
   "metadata": {},
   "outputs": [],
   "source": []
  }
 ],
 "metadata": {
  "kernelspec": {
   "display_name": "Python [conda env:nlp]",
   "language": "python",
   "name": "conda-env-nlp-py"
  },
  "language_info": {
   "codemirror_mode": {
    "name": "ipython",
    "version": 3
   },
   "file_extension": ".py",
   "mimetype": "text/x-python",
   "name": "python",
   "nbconvert_exporter": "python",
   "pygments_lexer": "ipython3",
   "version": "3.11.3"
  }
 },
 "nbformat": 4,
 "nbformat_minor": 5
}
