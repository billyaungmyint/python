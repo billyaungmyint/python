{
 "cells": [
  {
   "cell_type": "code",
   "execution_count": 1,
   "id": "46bd27f2-745f-4626-a26e-d58c6e2452b4",
   "metadata": {},
   "outputs": [],
   "source": [
    "import spacy\n",
    "nlp = spacy.load('en_core_web_sm')"
   ]
  },
  {
   "cell_type": "code",
   "execution_count": 3,
   "id": "26d7167d-32e8-41ef-8b7c-02639da93a51",
   "metadata": {},
   "outputs": [],
   "source": [
    "txt = \"This is a test from Microsoft\"\n",
    "doc = nlp(txt)"
   ]
  },
  {
   "cell_type": "code",
   "execution_count": 14,
   "id": "d83ce5fe-9515-4901-83d9-9c33745dac81",
   "metadata": {},
   "outputs": [
    {
     "name": "stdout",
     "output_type": "stream",
     "text": [
      "This PRON DT pronoun determiner\n",
      "is AUX VBZ auxiliary verb, 3rd person singular present\n",
      "a DET DT determiner determiner\n",
      "test NOUN NN noun noun, singular or mass\n",
      "from ADP IN adposition conjunction, subordinating or preposition\n",
      "Microsoft PROPN NNP proper noun noun, proper singular\n"
     ]
    }
   ],
   "source": [
    "for token in doc:\n",
    "    print(token.text , token.pos_ , token.tag_ , spacy.explain(token.pos_) , spacy.explain(token.tag_))"
   ]
  },
  {
   "cell_type": "code",
   "execution_count": null,
   "id": "40aa5ccf-8f38-42e0-b155-87d8e4d956c6",
   "metadata": {},
   "outputs": [],
   "source": []
  }
 ],
 "metadata": {
  "kernelspec": {
   "display_name": "Python [conda env:nlp]",
   "language": "python",
   "name": "conda-env-nlp-py"
  },
  "language_info": {
   "codemirror_mode": {
    "name": "ipython",
    "version": 3
   },
   "file_extension": ".py",
   "mimetype": "text/x-python",
   "name": "python",
   "nbconvert_exporter": "python",
   "pygments_lexer": "ipython3",
   "version": "3.11.3"
  }
 },
 "nbformat": 4,
 "nbformat_minor": 5
}
