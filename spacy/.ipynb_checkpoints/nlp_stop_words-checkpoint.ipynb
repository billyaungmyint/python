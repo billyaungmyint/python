{
 "cells": [
  {
   "cell_type": "code",
   "execution_count": 1,
   "id": "05395c85-f8e5-46b3-a5d0-b7732c976778",
   "metadata": {},
   "outputs": [],
   "source": [
    "import spacy\n",
    "nlp = spacy.load('en_core_web_sm')"
   ]
  },
  {
   "cell_type": "code",
   "execution_count": 32,
   "id": "4ea5dddb-3962-486e-801d-85ac20bf41a5",
   "metadata": {},
   "outputs": [],
   "source": [
    "STOP_WORDS = spacy.lang.en.stop_words.STOP_WORDS"
   ]
  },
  {
   "cell_type": "code",
   "execution_count": 33,
   "id": "86a9d6db-0182-4dc4-a6c6-b912e4546c95",
   "metadata": {},
   "outputs": [
    {
     "name": "stdout",
     "output_type": "stream",
     "text": [
      "{'ca', 'part', 'during', 'see', '‘s', 'someone', 'whither', 'and', 'much', 'unless', 'move', 'alone', 'often', 'toward', 'ten', 'while', 'either', 'thus', 'them', 'an', 'when', 'say', 'his', 'next', 'through', 'third', 'bottom', 'here', 'done', 'top', '’re', 'hence', 'anywhere', 'does', 'her', 'themselves', 'became', 'be', 'amount', 'former', 'sometimes', 'ourselves', '’d', 'hereby', 'everything', 'between', 'above', '‘ve', 'might', 'over', 'three', 'meanwhile', 'perhaps', 'nothing', 'therein', 'newtonian', 'their', 'such', 'using', 'side', 'him', 'serious', 'herself', 'the', 'thereafter', 'had', 'several', 'against', 'few', 'your', 'n‘t', 'whole', 'not', 'whoever', 'am', 'again', 'give', 'formerly', 'hereafter', 'which', 'but', 'whom', 'before', 'ours', 'hereupon', 'latter', 'become', 'if', 'yet', 'full', 'less', 'how', 'these', 'most', 'ever', 'in', 'across', 'towards', 'further', 'only', 'could', 'among', 'until', 'yours', 'first', 'eight', 'almost', 'get', 'fifteen', 'thereby', 'was', \"'d\", 'except', 'made', 'of', 'still', 'anyhow', 'keep', 'should', 'elsewhere', '’ve', '‘m', 'various', 'at', 'via', 'it', 'i', 'everyone', 'for', 'regarding', 'on', 'been', 'just', 'there', 'onto', '’m', 'anyway', 'they', 'enough', 'nevertheless', 'due', 'together', 'nine', 'up', 'whereafter', \"'s\", 'seems', 'many', 'therefore', 'by', 'my', 'has', '‘re', 'show', 'six', 'once', 'then', 'doing', 'eleven', 'moreover', 'under', 'from', 'please', 'this', 'beyond', 'seemed', 'since', 'me', 'after', 'amongst', 'neither', 'well', 'back', 'afterwards', 'down', 'who', '’ll', 'did', 'seeming', 'what', 'because', 'front', 'where', 'may', 'one', 'none', 'namely', 'four', 'himself', 'below', 'five', 'whenever', 'anyone', 're', 'nobody', 'have', 'to', 'per', 'why', 'whence', 'those', \"'ve\", \"n't\", 'beforehand', 'very', 'along', 'is', 'or', 'seem', 'with', 'twelve', 'call', 'yourself', 'another', 'any', 'already', 'will', 'a', 'take', 'twenty', 'however', 'as', 'name', 'something', 'its', 'other', 'thereupon', 'you', '’s', 'becomes', \"'m\", 'he', 'throughout', '‘d', 'somewhere', 'beside', 'becoming', 'least', 'mine', 'more', 'must', 'thence', 'every', 'whereupon', 'n’t', 'two', 'off', 'besides', 'whose', 'own', '‘ll', 'would', 'otherwise', 'wherever', 'were', 'do', 'yourselves', 'so', 'being', 'around', 'hers', 'others', 'into', 'empty', 'rather', 'also', 'both', 'about', 'whether', 'anything', 'thru', 'used', 'nowhere', 'too', 'though', 'make', 'else', 'within', 'our', \"'re\", 'now', 'us', 'even', 'itself', 'that', 'whatever', 'herein', 'never', 'out', 'sometime', 'mostly', 'noone', 'latterly', 'go', 'same', \"'ll\", 'sixty', 'each', 'no', 'everywhere', 'some', 'she', 'whereby', 'although', 'myself', 'somehow', 'fifty', 'nor', 'behind', 'can', 'always', 'than', 'add', 'put', 'last', 'quite', 'cannot', 'we', 'upon', 'indeed', 'whereas', 'wherein', 'hundred', 'really', 'forty', 'are', 'all', 'without'}\n"
     ]
    }
   ],
   "source": [
    "print(STOP_WORDS)"
   ]
  },
  {
   "cell_type": "code",
   "execution_count": 34,
   "id": "64063aaf-68bd-4d2b-a22e-1394d588317a",
   "metadata": {},
   "outputs": [
    {
     "name": "stdout",
     "output_type": "stream",
     "text": [
      "['newtonian']\n"
     ]
    }
   ],
   "source": [
    "print([x for x in STOP_WORDS if x.startswith('newt')]) "
   ]
  },
  {
   "cell_type": "code",
   "execution_count": 35,
   "id": "2f13b43c-b5ca-474c-931c-b17a9cd44096",
   "metadata": {},
   "outputs": [],
   "source": [
    "nlp.Defaults.stop_words.add(\"newtonian\") #  add a single stop word"
   ]
  },
  {
   "cell_type": "code",
   "execution_count": 36,
   "id": "4681670a-45e1-4a5a-9d2f-23fe0b9c210b",
   "metadata": {},
   "outputs": [
    {
     "name": "stdout",
     "output_type": "stream",
     "text": [
      "['newtonian']\n"
     ]
    }
   ],
   "source": [
    "print([x for x in STOP_WORDS if x.startswith('newt')])"
   ]
  },
  {
   "cell_type": "code",
   "execution_count": 37,
   "id": "f013ff09-1d0d-47c6-bc60-5a0fa0a5ee8a",
   "metadata": {},
   "outputs": [],
   "source": [
    "nlp.Defaults.stop_words |= {\"ali\" , \"baba\"} #add multiple stop words "
   ]
  },
  {
   "cell_type": "code",
   "execution_count": 40,
   "id": "d12b981c-60ab-4780-af06-6cc2ef6cd091",
   "metadata": {},
   "outputs": [
    {
     "name": "stdout",
     "output_type": "stream",
     "text": [
      "['ali', 'baba']\n"
     ]
    }
   ],
   "source": [
    "print([x for x in STOP_WORDS if x.startswith(('ali','baba'))])"
   ]
  },
  {
   "cell_type": "code",
   "execution_count": 41,
   "id": "e4071876-da26-466b-a7e5-0bdf0a320213",
   "metadata": {},
   "outputs": [],
   "source": [
    "nlp.Defaults.stop_words -= {\"newtonian\" , \"ali\" , \"baba\"} # remove multiple stop words "
   ]
  },
  {
   "cell_type": "code",
   "execution_count": 43,
   "id": "71825ef1-5b66-4c88-a7be-7438b1f0912b",
   "metadata": {},
   "outputs": [
    {
     "name": "stdout",
     "output_type": "stream",
     "text": [
      "[]\n"
     ]
    }
   ],
   "source": [
    "print([x for x in STOP_WORDS if x.startswith((\"newtonian\" , \"ali\" , \"baba\"))])"
   ]
  },
  {
   "cell_type": "code",
   "execution_count": null,
   "id": "86672733-dfae-426b-ac95-85dd49f44c80",
   "metadata": {},
   "outputs": [],
   "source": []
  }
 ],
 "metadata": {
  "kernelspec": {
   "display_name": "Python [conda env:nlp]",
   "language": "python",
   "name": "conda-env-nlp-py"
  },
  "language_info": {
   "codemirror_mode": {
    "name": "ipython",
    "version": 3
   },
   "file_extension": ".py",
   "mimetype": "text/x-python",
   "name": "python",
   "nbconvert_exporter": "python",
   "pygments_lexer": "ipython3",
   "version": "3.11.3"
  }
 },
 "nbformat": 4,
 "nbformat_minor": 5
}
