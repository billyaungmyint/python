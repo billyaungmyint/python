{
 "cells": [
  {
   "cell_type": "code",
   "execution_count": 1,
   "id": "af32445e-4402-4ef4-ac5c-f2d79facf848",
   "metadata": {},
   "outputs": [],
   "source": [
    "import spacy\n",
    "nlp = spacy.load('en_core_web_sm')"
   ]
  },
  {
   "cell_type": "code",
   "execution_count": 7,
   "id": "40730437-dfb7-4a0d-91c6-bc642d88440c",
   "metadata": {},
   "outputs": [
    {
     "name": "stdout",
     "output_type": "stream",
     "text": [
      "[Hello World!!, Goodbye - World's.]\n",
      "2\n"
     ]
    }
   ],
   "source": [
    "doc = nlp(\"Hello World!! Goodbye - World's.\")\n",
    "sentences = [sent for sent in doc.sents]\n",
    "print(sentences)\n",
    "print(len(sentences))"
   ]
  },
  {
   "cell_type": "code",
   "execution_count": 8,
   "id": "f7b80f9e-cde0-42f8-8c07-a5a2c3b6d4c1",
   "metadata": {},
   "outputs": [
    {
     "data": {
      "text/plain": [
       "Hello World!!"
      ]
     },
     "execution_count": 8,
     "metadata": {},
     "output_type": "execute_result"
    }
   ],
   "source": [
    "sentences[0]"
   ]
  },
  {
   "cell_type": "code",
   "execution_count": 9,
   "id": "be2f8b99-95b7-40ef-98e7-9e9def20a022",
   "metadata": {},
   "outputs": [
    {
     "data": {
      "text/plain": [
       "Goodbye - World's."
      ]
     },
     "execution_count": 9,
     "metadata": {},
     "output_type": "execute_result"
    }
   ],
   "source": [
    "sentences[1]"
   ]
  },
  {
   "cell_type": "code",
   "execution_count": null,
   "id": "122fe985-ec31-4fa6-8e14-39cfb9810b00",
   "metadata": {},
   "outputs": [],
   "source": []
  }
 ],
 "metadata": {
  "kernelspec": {
   "display_name": "Python [conda env:nlp]",
   "language": "python",
   "name": "conda-env-nlp-py"
  },
  "language_info": {
   "codemirror_mode": {
    "name": "ipython",
    "version": 3
   },
   "file_extension": ".py",
   "mimetype": "text/x-python",
   "name": "python",
   "nbconvert_exporter": "python",
   "pygments_lexer": "ipython3",
   "version": "3.11.3"
  }
 },
 "nbformat": 4,
 "nbformat_minor": 5
}
