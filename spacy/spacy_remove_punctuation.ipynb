{
 "cells": [
  {
   "cell_type": "code",
   "execution_count": 1,
   "id": "18a2b6ae-0957-4b43-9f7e-8817b7a0da2d",
   "metadata": {},
   "outputs": [],
   "source": [
    "import spacy\n",
    "nlp = spacy.load('en_core_web_sm')"
   ]
  },
  {
   "cell_type": "code",
   "execution_count": 2,
   "id": "26f20013-9b3c-42af-98aa-8e6908d514f0",
   "metadata": {},
   "outputs": [],
   "source": [
    "text = \"Hello's World!! Goodbye , World.\"\n",
    "doc = nlp(text)"
   ]
  },
  {
   "cell_type": "code",
   "execution_count": 3,
   "id": "43030aa6-0627-4ec1-a237-f6589d4948b8",
   "metadata": {},
   "outputs": [],
   "source": [
    "token_without_punct = [token for token in doc if not token.is_punct]"
   ]
  },
  {
   "cell_type": "code",
   "execution_count": 5,
   "id": "e42a7e0d-39fc-4db4-9762-199916a16ecf",
   "metadata": {},
   "outputs": [
    {
     "data": {
      "text/plain": [
       "[Hello, 's, World, Goodbye, World]"
      ]
     },
     "execution_count": 5,
     "metadata": {},
     "output_type": "execute_result"
    }
   ],
   "source": [
    "token_without_punct"
   ]
  },
  {
   "cell_type": "code",
   "execution_count": null,
   "id": "80120a07-197f-4fa6-90ed-71b2bdf3469c",
   "metadata": {},
   "outputs": [],
   "source": []
  }
 ],
 "metadata": {
  "kernelspec": {
   "display_name": "Python [conda env:nlp]",
   "language": "python",
   "name": "conda-env-nlp-py"
  },
  "language_info": {
   "codemirror_mode": {
    "name": "ipython",
    "version": 3
   },
   "file_extension": ".py",
   "mimetype": "text/x-python",
   "name": "python",
   "nbconvert_exporter": "python",
   "pygments_lexer": "ipython3",
   "version": "3.11.3"
  }
 },
 "nbformat": 4,
 "nbformat_minor": 5
}
