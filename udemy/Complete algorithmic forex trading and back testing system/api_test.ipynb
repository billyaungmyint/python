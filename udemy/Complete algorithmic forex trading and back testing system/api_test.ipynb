{
 "cells": [
  {
   "cell_type": "code",
   "execution_count": 1,
   "id": "23aeaf7a-99ae-4c42-a2aa-b67543df4486",
   "metadata": {},
   "outputs": [],
   "source": [
    "import requests\n",
    "import pandas as pd\n",
    "import json"
   ]
  },
  {
   "cell_type": "code",
   "execution_count": 2,
   "id": "13838f84-532e-47ef-ac03-85cefd846e25",
   "metadata": {},
   "outputs": [],
   "source": [
    "API_KEY = \"f7253483a31683d65cce33a524e65124-23ce159c5d900da50e6f3a8604b12ade\"\n",
    "ACCOUNT_ID = \"101-003-26402805-001\"\n",
    "OANDA_URL = \"https://api-fxpractice.oanda.com/v3\""
   ]
  },
  {
   "cell_type": "code",
   "execution_count": 3,
   "id": "67011be6-05c1-40fc-b2a6-19e35adeded2",
   "metadata": {},
   "outputs": [],
   "source": [
    "session = requests.Session()"
   ]
  },
  {
   "cell_type": "code",
   "execution_count": 4,
   "id": "a797caf7-349f-4e05-9922-b47979b46c6a",
   "metadata": {},
   "outputs": [],
   "source": [
    "session.headers.update({\n",
    "    \"Authorization\" : f\"Bearer {API_KEY}\",\n",
    "    \"Content-Type\" : \"application/json\"\n",
    "})"
   ]
  },
  {
   "cell_type": "code",
   "execution_count": 5,
   "id": "3044c9b1-2e6e-47a3-a9c5-1fe50fd65ed5",
   "metadata": {},
   "outputs": [],
   "source": [
    "params = dict(\n",
    "    count = 10,\n",
    "    granularity = \"H1\"\n",
    ")"
   ]
  },
  {
   "cell_type": "code",
   "execution_count": 6,
   "id": "d2550065-8a8e-42a4-8ef8-f24a95b59c44",
   "metadata": {},
   "outputs": [],
   "source": [
    "url = f\"{OANDA_URL}/instruments/EUR_USD/candles\""
   ]
  },
  {
   "cell_type": "code",
   "execution_count": 7,
   "id": "9c2dab07-d082-4491-a5c4-4dca6e2f40d4",
   "metadata": {},
   "outputs": [],
   "source": [
    "response = session.get(url , params=params , data=None ,  headers=None)"
   ]
  },
  {
   "cell_type": "code",
   "execution_count": 8,
   "id": "20c9937b-86e6-4b04-a7eb-54f7c36ccf7d",
   "metadata": {},
   "outputs": [
    {
     "data": {
      "text/plain": [
       "200"
      ]
     },
     "execution_count": 8,
     "metadata": {},
     "output_type": "execute_result"
    }
   ],
   "source": [
    "response.status_code"
   ]
  },
  {
   "cell_type": "code",
   "execution_count": 9,
   "id": "7a02471c-04ed-46a3-be95-2e94b05d60fb",
   "metadata": {},
   "outputs": [
    {
     "data": {
      "text/plain": [
       "{'instrument': 'EUR_USD',\n",
       " 'granularity': 'H1',\n",
       " 'candles': [{'complete': True,\n",
       "   'volume': 5485,\n",
       "   'time': '2023-07-28T11:00:00.000000000Z',\n",
       "   'mid': {'o': '1.09936', 'h': '1.10182', 'l': '1.09922', 'c': '1.10094'}},\n",
       "  {'complete': True,\n",
       "   'volume': 9890,\n",
       "   'time': '2023-07-28T12:00:00.000000000Z',\n",
       "   'mid': {'o': '1.10092', 'h': '1.10338', 'l': '1.10034', 'c': '1.10094'}},\n",
       "  {'complete': True,\n",
       "   'volume': 9207,\n",
       "   'time': '2023-07-28T13:00:00.000000000Z',\n",
       "   'mid': {'o': '1.10096', 'h': '1.10178', 'l': '1.09932', 'c': '1.10174'}},\n",
       "  {'complete': True,\n",
       "   'volume': 9035,\n",
       "   'time': '2023-07-28T14:00:00.000000000Z',\n",
       "   'mid': {'o': '1.10176', 'h': '1.10475', 'l': '1.10174', 'c': '1.10358'}},\n",
       "  {'complete': True,\n",
       "   'volume': 5608,\n",
       "   'time': '2023-07-28T15:00:00.000000000Z',\n",
       "   'mid': {'o': '1.10357', 'h': '1.10400', 'l': '1.10220', 'c': '1.10384'}},\n",
       "  {'complete': True,\n",
       "   'volume': 4070,\n",
       "   'time': '2023-07-28T16:00:00.000000000Z',\n",
       "   'mid': {'o': '1.10384', 'h': '1.10431', 'l': '1.10251', 'c': '1.10256'}},\n",
       "  {'complete': True,\n",
       "   'volume': 3674,\n",
       "   'time': '2023-07-28T17:00:00.000000000Z',\n",
       "   'mid': {'o': '1.10252', 'h': '1.10294', 'l': '1.10152', 'c': '1.10213'}},\n",
       "  {'complete': True,\n",
       "   'volume': 3396,\n",
       "   'time': '2023-07-28T18:00:00.000000000Z',\n",
       "   'mid': {'o': '1.10211', 'h': '1.10300', 'l': '1.10160', 'c': '1.10235'}},\n",
       "  {'complete': True,\n",
       "   'volume': 3109,\n",
       "   'time': '2023-07-28T19:00:00.000000000Z',\n",
       "   'mid': {'o': '1.10236', 'h': '1.10266', 'l': '1.10190', 'c': '1.10230'}},\n",
       "  {'complete': True,\n",
       "   'volume': 1899,\n",
       "   'time': '2023-07-28T20:00:00.000000000Z',\n",
       "   'mid': {'o': '1.10230', 'h': '1.10236', 'l': '1.10146', 'c': '1.10171'}}]}"
      ]
     },
     "execution_count": 9,
     "metadata": {},
     "output_type": "execute_result"
    }
   ],
   "source": [
    "response.json()"
   ]
  },
  {
   "cell_type": "code",
   "execution_count": null,
   "id": "e76e35c8-79af-4758-a4ca-c3e236692297",
   "metadata": {},
   "outputs": [],
   "source": []
  }
 ],
 "metadata": {
  "kernelspec": {
   "display_name": "Python [conda env:dev]",
   "language": "python",
   "name": "conda-env-dev-py"
  },
  "language_info": {
   "codemirror_mode": {
    "name": "ipython",
    "version": 3
   },
   "file_extension": ".py",
   "mimetype": "text/x-python",
   "name": "python",
   "nbconvert_exporter": "python",
   "pygments_lexer": "ipython3",
   "version": "3.10.11"
  }
 },
 "nbformat": 4,
 "nbformat_minor": 5
}
