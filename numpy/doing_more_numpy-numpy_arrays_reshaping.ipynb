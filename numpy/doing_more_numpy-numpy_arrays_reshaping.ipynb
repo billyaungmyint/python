{
 "cells": [
  {
   "cell_type": "markdown",
   "id": "18d52456-ca46-40bf-afa5-e7dcc176fdc1",
   "metadata": {},
   "source": [
    "# Doing More Numpy - Numpy Arrays"
   ]
  },
  {
   "cell_type": "markdown",
   "id": "2e7faa82-0b61-45f9-923c-2f7f6450abe1",
   "metadata": {},
   "source": [
    "## Reshaping 1 dimensional arrays to higher dimensions"
   ]
  },
  {
   "cell_type": "code",
   "execution_count": 2,
   "id": "0848a2a9-bae5-42ba-a6f8-01d6ef3936d1",
   "metadata": {},
   "outputs": [],
   "source": [
    "import numpy as np"
   ]
  },
  {
   "cell_type": "code",
   "execution_count": 5,
   "id": "c9c68639-3142-4c03-b4b0-816fec9c5a4d",
   "metadata": {},
   "outputs": [],
   "source": [
    "a = np.arange(1,13)"
   ]
  },
  {
   "cell_type": "code",
   "execution_count": 7,
   "id": "50d560c8-b6ce-41ef-b637-cc9fa84a291f",
   "metadata": {},
   "outputs": [
    {
     "data": {
      "text/plain": [
       "(12,)"
      ]
     },
     "execution_count": 7,
     "metadata": {},
     "output_type": "execute_result"
    }
   ],
   "source": [
    "a.shape"
   ]
  },
  {
   "cell_type": "code",
   "execution_count": 10,
   "id": "28379fb7-bac4-432f-8eca-8121220e0225",
   "metadata": {},
   "outputs": [],
   "source": [
    "a.shape=(3,4) #a is now 3 by 4 2 D array. 3 rows and 4 columns. See below , reshape doesn't change the original array."
   ]
  },
  {
   "cell_type": "code",
   "execution_count": 12,
   "id": "4b300606-fa0f-4a5a-b76a-f7456d6b6199",
   "metadata": {},
   "outputs": [
    {
     "name": "stdout",
     "output_type": "stream",
     "text": [
      "[[ 1  2  3  4]\n",
      " [ 5  6  7  8]\n",
      " [ 9 10 11 12]]\n"
     ]
    }
   ],
   "source": [
    "print(a)"
   ]
  },
  {
   "cell_type": "code",
   "execution_count": 13,
   "id": "77ecda95-8afa-4652-9e61-3241e3881dfc",
   "metadata": {},
   "outputs": [],
   "source": [
    "b = np.arange(1,13)"
   ]
  },
  {
   "cell_type": "code",
   "execution_count": 14,
   "id": "d91f3a24-2638-4448-92a2-e01dcfd1b820",
   "metadata": {},
   "outputs": [
    {
     "data": {
      "text/plain": [
       "array([[ 1,  2,  3,  4],\n",
       "       [ 5,  6,  7,  8],\n",
       "       [ 9, 10, 11, 12]])"
      ]
     },
     "execution_count": 14,
     "metadata": {},
     "output_type": "execute_result"
    }
   ],
   "source": [
    "b.reshape(3,4) #same as shape ? No. b is unchanged but a was changed by shape"
   ]
  },
  {
   "cell_type": "code",
   "execution_count": 16,
   "id": "d423c895-60c6-4cad-a7d9-79108b1c0eed",
   "metadata": {},
   "outputs": [],
   "source": [
    "c = a.reshape(2,6)"
   ]
  },
  {
   "cell_type": "code",
   "execution_count": 17,
   "id": "dbbf3b37-23f2-45ea-8eff-dd92577bf2a7",
   "metadata": {},
   "outputs": [
    {
     "data": {
      "text/plain": [
       "array([[ 1,  2,  3,  4,  5,  6],\n",
       "       [ 7,  8,  9, 10, 11, 12]])"
      ]
     },
     "execution_count": 17,
     "metadata": {},
     "output_type": "execute_result"
    }
   ],
   "source": [
    "c"
   ]
  },
  {
   "cell_type": "code",
   "execution_count": 18,
   "id": "48ec52a0-8823-4914-bcb5-d5336ad47161",
   "metadata": {},
   "outputs": [
    {
     "data": {
      "text/plain": [
       "array([[[ 1,  2,  3],\n",
       "        [ 4,  5,  6]],\n",
       "\n",
       "       [[ 7,  8,  9],\n",
       "        [10, 11, 12]]])"
      ]
     },
     "execution_count": 18,
     "metadata": {},
     "output_type": "execute_result"
    }
   ],
   "source": [
    "c = a.reshape(2,2,3) # must get 12 elements as in original array\n",
    "c"
   ]
  },
  {
   "cell_type": "markdown",
   "id": "bd82c04d-fecb-4a35-b87b-d073a03bc4c0",
   "metadata": {},
   "source": [
    "#### Reshaping with -1  , unknown dimension"
   ]
  },
  {
   "cell_type": "code",
   "execution_count": 22,
   "id": "2c992ea5-8b64-42e0-b641-daa64ccd2d80",
   "metadata": {},
   "outputs": [
    {
     "data": {
      "text/plain": [
       "array([ 1,  2,  3,  4,  5,  6,  7,  8,  9, 10, 11, 12, 13, 14, 15, 16, 17,\n",
       "       18, 19, 20, 21, 22, 23, 24])"
      ]
     },
     "execution_count": 22,
     "metadata": {},
     "output_type": "execute_result"
    }
   ],
   "source": [
    "a = np.arange(1,25)\n",
    "a"
   ]
  },
  {
   "cell_type": "code",
   "execution_count": 23,
   "id": "55bc4d04-2aa9-486b-8ab6-7807e63c5a93",
   "metadata": {},
   "outputs": [
    {
     "data": {
      "text/plain": [
       "array([[ 1,  2,  3],\n",
       "       [ 4,  5,  6],\n",
       "       [ 7,  8,  9],\n",
       "       [10, 11, 12],\n",
       "       [13, 14, 15],\n",
       "       [16, 17, 18],\n",
       "       [19, 20, 21],\n",
       "       [22, 23, 24]])"
      ]
     },
     "execution_count": 23,
     "metadata": {},
     "output_type": "execute_result"
    }
   ],
   "source": [
    "a.reshape(-1,3) # must have 3 columns"
   ]
  },
  {
   "cell_type": "code",
   "execution_count": 26,
   "id": "de7e50dd-c498-48e6-955c-8031e8cd10df",
   "metadata": {},
   "outputs": [
    {
     "data": {
      "text/plain": [
       "array([[ 1,  2,  3,  4,  5,  6],\n",
       "       [ 7,  8,  9, 10, 11, 12],\n",
       "       [13, 14, 15, 16, 17, 18],\n",
       "       [19, 20, 21, 22, 23, 24]])"
      ]
     },
     "execution_count": 26,
     "metadata": {},
     "output_type": "execute_result"
    }
   ],
   "source": [
    "a.reshape(-1,6) # must have 6 columns"
   ]
  },
  {
   "cell_type": "code",
   "execution_count": 27,
   "id": "0b7da468-4b8c-4092-bd47-2ee4ee6b2ce2",
   "metadata": {},
   "outputs": [
    {
     "data": {
      "text/plain": [
       "array([[ 1,  2,  3,  4,  5,  6,  7,  8],\n",
       "       [ 9, 10, 11, 12, 13, 14, 15, 16],\n",
       "       [17, 18, 19, 20, 21, 22, 23, 24]])"
      ]
     },
     "execution_count": 27,
     "metadata": {},
     "output_type": "execute_result"
    }
   ],
   "source": [
    "a.reshape(3,-1) # must have 3 rows"
   ]
  },
  {
   "cell_type": "code",
   "execution_count": 28,
   "id": "2feb7124-f2d4-4a41-b501-75361d6940aa",
   "metadata": {},
   "outputs": [
    {
     "data": {
      "text/plain": [
       "array([[ 1,  2,  3,  4],\n",
       "       [ 5,  6,  7,  8],\n",
       "       [ 9, 10, 11, 12],\n",
       "       [13, 14, 15, 16],\n",
       "       [17, 18, 19, 20],\n",
       "       [21, 22, 23, 24]])"
      ]
     },
     "execution_count": 28,
     "metadata": {},
     "output_type": "execute_result"
    }
   ],
   "source": [
    "a.reshape(-1,4) # must have 4 columns"
   ]
  },
  {
   "cell_type": "code",
   "execution_count": 29,
   "id": "b1f061c4-2af7-4226-a33c-f07e80fff587",
   "metadata": {},
   "outputs": [
    {
     "data": {
      "text/plain": [
       "array([[ 1,  2],\n",
       "       [ 3,  4],\n",
       "       [ 5,  6],\n",
       "       [ 7,  8],\n",
       "       [ 9, 10],\n",
       "       [11, 12],\n",
       "       [13, 14],\n",
       "       [15, 16],\n",
       "       [17, 18],\n",
       "       [19, 20],\n",
       "       [21, 22],\n",
       "       [23, 24]])"
      ]
     },
     "execution_count": 29,
     "metadata": {},
     "output_type": "execute_result"
    }
   ],
   "source": [
    "a.reshape(-1,2) # must have 2 columns"
   ]
  },
  {
   "cell_type": "code",
   "execution_count": 30,
   "id": "427280bd-8edf-46d0-8f94-78b98ec12f46",
   "metadata": {},
   "outputs": [
    {
     "data": {
      "text/plain": [
       "array([[[ 1,  2,  3,  4],\n",
       "        [ 5,  6,  7,  8],\n",
       "        [ 9, 10, 11, 12]],\n",
       "\n",
       "       [[13, 14, 15, 16],\n",
       "        [17, 18, 19, 20],\n",
       "        [21, 22, 23, 24]]])"
      ]
     },
     "execution_count": 30,
     "metadata": {},
     "output_type": "execute_result"
    }
   ],
   "source": [
    "a.reshape(2,3,-1) # 2d - must have 2 inner arrays of 3 rows and unknown columns"
   ]
  },
  {
   "cell_type": "code",
   "execution_count": 33,
   "id": "1da5ec67-c2e9-470a-899a-3ee227ce820f",
   "metadata": {},
   "outputs": [
    {
     "data": {
      "text/plain": [
       "array([[[ 1,  2],\n",
       "        [ 3,  4],\n",
       "        [ 5,  6]],\n",
       "\n",
       "       [[ 7,  8],\n",
       "        [ 9, 10],\n",
       "        [11, 12]],\n",
       "\n",
       "       [[13, 14],\n",
       "        [15, 16],\n",
       "        [17, 18]],\n",
       "\n",
       "       [[19, 20],\n",
       "        [21, 22],\n",
       "        [23, 24]]])"
      ]
     },
     "execution_count": 33,
     "metadata": {},
     "output_type": "execute_result"
    }
   ],
   "source": [
    "a.reshape(4,3,-1) # 2d -  must have 4 inner arrays of 3 rows and unknown columns "
   ]
  },
  {
   "cell_type": "code",
   "execution_count": 34,
   "id": "ab4243a3-b96c-449d-9546-bd3ef70bb2d0",
   "metadata": {},
   "outputs": [
    {
     "data": {
      "text/plain": [
       "array([[77, 30, 92, 79, 33],\n",
       "       [27, 38, 41, 87, 73],\n",
       "       [91, 57, 45, 45, 87],\n",
       "       [26, 62, 18, 33, 43]])"
      ]
     },
     "execution_count": 34,
     "metadata": {},
     "output_type": "execute_result"
    }
   ],
   "source": [
    "A = np.random.randint(100,size=(4,5))\n",
    "A"
   ]
  },
  {
   "cell_type": "code",
   "execution_count": 35,
   "id": "886dd308-f4e6-42d6-b7a3-674ecf2ee5be",
   "metadata": {},
   "outputs": [
    {
     "name": "stdout",
     "output_type": "stream",
     "text": [
      "(2, 2, 18)\n",
      "(3, 4, 6)\n",
      "(4, 6, 3)\n"
     ]
    }
   ],
   "source": [
    "A = np.arange(1,73)\n",
    "print(A.reshape(2,2,-1).shape)\n",
    "print(A.reshape(3,4,-1).shape)\n",
    "print(A.reshape(4,6,-1).shape)"
   ]
  },
  {
   "cell_type": "code",
   "execution_count": null,
   "id": "fc4ea44d-5336-408a-ae05-ef1cc7395110",
   "metadata": {},
   "outputs": [],
   "source": []
  }
 ],
 "metadata": {
  "kernelspec": {
   "display_name": "Python 3 (ipykernel)",
   "language": "python",
   "name": "python3"
  },
  "language_info": {
   "codemirror_mode": {
    "name": "ipython",
    "version": 3
   },
   "file_extension": ".py",
   "mimetype": "text/x-python",
   "name": "python",
   "nbconvert_exporter": "python",
   "pygments_lexer": "ipython3",
   "version": "3.9.7"
  }
 },
 "nbformat": 4,
 "nbformat_minor": 5
}
