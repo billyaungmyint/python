{
 "cells": [
  {
   "cell_type": "markdown",
   "id": "3b0ac055-08e6-46dc-894e-2bbe8dd2b0a4",
   "metadata": {},
   "source": [
    "# Lazy Programmer - Numpy dot product"
   ]
  },
  {
   "cell_type": "code",
   "execution_count": 2,
   "id": "ba73188f-7ffc-4724-a965-6092e62a6138",
   "metadata": {},
   "outputs": [],
   "source": [
    "import numpy as np"
   ]
  },
  {
   "cell_type": "code",
   "execution_count": 3,
   "id": "31fbf190-33f4-4738-91ce-ee1b6afd687f",
   "metadata": {},
   "outputs": [],
   "source": [
    "a = np.array([1,2])\n",
    "b = np.array([3,4])"
   ]
  },
  {
   "cell_type": "code",
   "execution_count": 4,
   "id": "61b0859d-8893-4913-a87f-4e0a66c0be74",
   "metadata": {},
   "outputs": [
    {
     "data": {
      "text/plain": [
       "11"
      ]
     },
     "execution_count": 4,
     "metadata": {},
     "output_type": "execute_result"
    }
   ],
   "source": [
    "dot = 0\n",
    "for e,f in zip(a,b) :\n",
    "    dot += e * f # 1 * 3 + 2 * 4\n",
    "dot"
   ]
  },
  {
   "cell_type": "code",
   "execution_count": 8,
   "id": "f02d0ff3-a9a6-4dd7-9128-210d5b0cea59",
   "metadata": {},
   "outputs": [
    {
     "data": {
      "text/plain": [
       "11"
      ]
     },
     "execution_count": 8,
     "metadata": {},
     "output_type": "execute_result"
    }
   ],
   "source": [
    "dot = 0\n",
    "for i in range(len(a)) :\n",
    "    #print(i)\n",
    "    dot += a[i] * b[i]\n",
    "dot"
   ]
  },
  {
   "cell_type": "code",
   "execution_count": 9,
   "id": "a1b29cbb-e578-4c6b-846d-9946f5adc44c",
   "metadata": {},
   "outputs": [
    {
     "data": {
      "text/plain": [
       "array([3, 8])"
      ]
     },
     "execution_count": 9,
     "metadata": {},
     "output_type": "execute_result"
    }
   ],
   "source": [
    "a * b"
   ]
  },
  {
   "cell_type": "code",
   "execution_count": 11,
   "id": "3a053f21-be17-4048-bcdf-430a8ef56096",
   "metadata": {},
   "outputs": [
    {
     "data": {
      "text/plain": [
       "11"
      ]
     },
     "execution_count": 11,
     "metadata": {},
     "output_type": "execute_result"
    }
   ],
   "source": [
    "np.sum(a*b)"
   ]
  },
  {
   "cell_type": "code",
   "execution_count": 12,
   "id": "d0abf70a-1cf5-482b-87b4-e759d6568e1d",
   "metadata": {},
   "outputs": [
    {
     "data": {
      "text/plain": [
       "11"
      ]
     },
     "execution_count": 12,
     "metadata": {},
     "output_type": "execute_result"
    }
   ],
   "source": [
    "(a * b).sum()"
   ]
  },
  {
   "cell_type": "code",
   "execution_count": 14,
   "id": "a0a17258-2859-41fe-964a-f0ed95c27e36",
   "metadata": {},
   "outputs": [
    {
     "data": {
      "text/plain": [
       "11"
      ]
     },
     "execution_count": 14,
     "metadata": {},
     "output_type": "execute_result"
    }
   ],
   "source": [
    "np.dot(a,b)"
   ]
  },
  {
   "cell_type": "code",
   "execution_count": 15,
   "id": "5ea9db27-f631-4d90-bebf-b6ec0cfa3869",
   "metadata": {},
   "outputs": [
    {
     "data": {
      "text/plain": [
       "11"
      ]
     },
     "execution_count": 15,
     "metadata": {},
     "output_type": "execute_result"
    }
   ],
   "source": [
    "a.dot(b)"
   ]
  },
  {
   "cell_type": "code",
   "execution_count": 16,
   "id": "c6eea3d7-c109-46cf-b500-8c71d04d698e",
   "metadata": {},
   "outputs": [
    {
     "data": {
      "text/plain": [
       "11"
      ]
     },
     "execution_count": 16,
     "metadata": {},
     "output_type": "execute_result"
    }
   ],
   "source": [
    "b.dot(a)"
   ]
  },
  {
   "cell_type": "code",
   "execution_count": 17,
   "id": "ccecdb54-ae22-4e6a-9ba8-37af6bad6913",
   "metadata": {},
   "outputs": [
    {
     "data": {
      "text/plain": [
       "11"
      ]
     },
     "execution_count": 17,
     "metadata": {},
     "output_type": "execute_result"
    }
   ],
   "source": [
    "a @ b"
   ]
  },
  {
   "cell_type": "code",
   "execution_count": 18,
   "id": "6f8826c6-8738-4fb4-90bd-a19c3df5c137",
   "metadata": {},
   "outputs": [
    {
     "data": {
      "text/plain": [
       "2.23606797749979"
      ]
     },
     "execution_count": 18,
     "metadata": {},
     "output_type": "execute_result"
    }
   ],
   "source": [
    "amag = np.sqrt((a * a).sum())\n",
    "amag"
   ]
  },
  {
   "cell_type": "code",
   "execution_count": 20,
   "id": "547957f5-609a-4634-b7aa-d3cb25ba9659",
   "metadata": {},
   "outputs": [
    {
     "data": {
      "text/plain": [
       "2.23606797749979"
      ]
     },
     "execution_count": 20,
     "metadata": {},
     "output_type": "execute_result"
    }
   ],
   "source": [
    "np.linalg.norm(a)"
   ]
  },
  {
   "cell_type": "code",
   "execution_count": null,
   "id": "e7409903-448e-49dd-a66b-24c00528d85c",
   "metadata": {},
   "outputs": [],
   "source": []
  }
 ],
 "metadata": {
  "kernelspec": {
   "display_name": "Python 3 (ipykernel)",
   "language": "python",
   "name": "python3"
  },
  "language_info": {
   "codemirror_mode": {
    "name": "ipython",
    "version": 3
   },
   "file_extension": ".py",
   "mimetype": "text/x-python",
   "name": "python",
   "nbconvert_exporter": "python",
   "pygments_lexer": "ipython3",
   "version": "3.9.12"
  }
 },
 "nbformat": 4,
 "nbformat_minor": 5
}
