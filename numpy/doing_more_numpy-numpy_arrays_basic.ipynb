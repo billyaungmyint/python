{
 "cells": [
  {
   "cell_type": "markdown",
   "id": "fd3fbe22-3382-4272-8a6d-13daf70268fc",
   "metadata": {},
   "source": [
    "# Doing More Numpy - Numpy Arrays"
   ]
  },
  {
   "cell_type": "markdown",
   "id": "6c1ac1a2-c82e-41c3-8d3b-e46e176b4251",
   "metadata": {},
   "source": [
    "## Array Basic"
   ]
  },
  {
   "cell_type": "code",
   "execution_count": 3,
   "id": "edcd8cb4-ea0f-40cc-b047-f3882956a959",
   "metadata": {},
   "outputs": [
    {
     "data": {
      "text/plain": [
       "array([1, 2, 3])"
      ]
     },
     "execution_count": 3,
     "metadata": {},
     "output_type": "execute_result"
    }
   ],
   "source": [
    "import numpy as np\n",
    "\n",
    "np.array([1,2,3])"
   ]
  },
  {
   "cell_type": "code",
   "execution_count": 4,
   "id": "f199b2fb-4848-4329-b90f-fdc4e315c821",
   "metadata": {},
   "outputs": [
    {
     "data": {
      "text/plain": [
       "array([0, 1, 2, 3, 4])"
      ]
     },
     "execution_count": 4,
     "metadata": {},
     "output_type": "execute_result"
    }
   ],
   "source": [
    "np.arange(5)"
   ]
  },
  {
   "cell_type": "code",
   "execution_count": 5,
   "id": "ccea33af-6ba5-40f1-8417-2f5f47f9345f",
   "metadata": {},
   "outputs": [
    {
     "data": {
      "text/plain": [
       "array([4, 5, 6, 7])"
      ]
     },
     "execution_count": 5,
     "metadata": {},
     "output_type": "execute_result"
    }
   ],
   "source": [
    "np.arange(4,8)"
   ]
  },
  {
   "cell_type": "code",
   "execution_count": 8,
   "id": "cd5d7106-0394-4671-b422-580624e7d1bb",
   "metadata": {},
   "outputs": [
    {
     "data": {
      "text/plain": [
       "array([ 0,  5, 10, 15, 20, 25, 30, 35, 40, 45, 50])"
      ]
     },
     "execution_count": 8,
     "metadata": {},
     "output_type": "execute_result"
    }
   ],
   "source": [
    "np.arange(0,55,5)"
   ]
  },
  {
   "cell_type": "code",
   "execution_count": 24,
   "id": "80606522-3bc1-4009-b562-37196b134412",
   "metadata": {},
   "outputs": [
    {
     "data": {
      "text/plain": [
       "24"
      ]
     },
     "execution_count": 24,
     "metadata": {},
     "output_type": "execute_result"
    }
   ],
   "source": [
    "np.random.randint(20,26) # starting and endoing"
   ]
  },
  {
   "cell_type": "code",
   "execution_count": 27,
   "id": "5765ad90-4689-46e5-b561-9d7b927a62f6",
   "metadata": {},
   "outputs": [
    {
     "data": {
      "text/plain": [
       "array([21,  3, 21, 10,  9])"
      ]
     },
     "execution_count": 27,
     "metadata": {},
     "output_type": "execute_result"
    }
   ],
   "source": [
    "np.random.randint(1,26,5) # 5 is number of random int between 1 and 25 , 26 is exclusive"
   ]
  },
  {
   "cell_type": "code",
   "execution_count": 30,
   "id": "815ae556-7aa5-487f-b898-9d369888898d",
   "metadata": {},
   "outputs": [
    {
     "data": {
      "text/plain": [
       "array([[  7,  80, 107, 115,  74],\n",
       "       [ 56,  46, 115,   5,  55],\n",
       "       [ 48,  84,  62, 119,  56]])"
      ]
     },
     "execution_count": 30,
     "metadata": {},
     "output_type": "execute_result"
    }
   ],
   "source": [
    "np.random.randint(1,126,(3,5)) # 3 , 5 is the shape of the array , 3 rows 5 columns"
   ]
  },
  {
   "cell_type": "code",
   "execution_count": 32,
   "id": "eefb1fcc-5881-4a28-8b92-3f40cfbcc814",
   "metadata": {},
   "outputs": [
    {
     "data": {
      "text/plain": [
       "array([[[  1, 103,  85, 102,   1],\n",
       "        [ 96,  61,  73, 101,  14],\n",
       "        [121,  66, 109,  78,  39]],\n",
       "\n",
       "       [[ 84,  77,  17,  23,  85],\n",
       "        [ 94,  75,   6,  91,  19],\n",
       "        [ 93,  27, 108,  21,  93]]])"
      ]
     },
     "execution_count": 32,
     "metadata": {},
     "output_type": "execute_result"
    }
   ],
   "source": [
    "np.random.randint(1,126,(2,3,5)) # 3 dimensional array"
   ]
  },
  {
   "cell_type": "code",
   "execution_count": 33,
   "id": "f86577df-be93-4275-b0ad-3e9f50dc486f",
   "metadata": {},
   "outputs": [
    {
     "data": {
      "text/plain": [
       "30"
      ]
     },
     "execution_count": 33,
     "metadata": {},
     "output_type": "execute_result"
    }
   ],
   "source": [
    "np.random.randint(1,126,(2,3,5)).size"
   ]
  },
  {
   "cell_type": "code",
   "execution_count": 34,
   "id": "036fd2a6-c81e-4f2e-b83c-265b0f49b244",
   "metadata": {},
   "outputs": [
    {
     "data": {
      "text/plain": [
       "(2, 3, 5)"
      ]
     },
     "execution_count": 34,
     "metadata": {},
     "output_type": "execute_result"
    }
   ],
   "source": [
    "np.random.randint(1,126,(2,3,5)).shape"
   ]
  },
  {
   "cell_type": "code",
   "execution_count": 35,
   "id": "a360c8be-60dd-4d29-a09c-91d56bc3ed16",
   "metadata": {},
   "outputs": [
    {
     "data": {
      "text/plain": [
       "3"
      ]
     },
     "execution_count": 35,
     "metadata": {},
     "output_type": "execute_result"
    }
   ],
   "source": [
    "np.random.randint(1,126,(2,3,5)).ndim"
   ]
  },
  {
   "cell_type": "code",
   "execution_count": 36,
   "id": "e938b7ae-fa32-4be1-a738-94aa6fd6e417",
   "metadata": {},
   "outputs": [
    {
     "data": {
      "text/plain": [
       "dtype('int64')"
      ]
     },
     "execution_count": 36,
     "metadata": {},
     "output_type": "execute_result"
    }
   ],
   "source": [
    "np.random.randint(1,126,(2,3,5)).dtype"
   ]
  }
 ],
 "metadata": {
  "kernelspec": {
   "display_name": "Python 3 (ipykernel)",
   "language": "python",
   "name": "python3"
  },
  "language_info": {
   "codemirror_mode": {
    "name": "ipython",
    "version": 3
   },
   "file_extension": ".py",
   "mimetype": "text/x-python",
   "name": "python",
   "nbconvert_exporter": "python",
   "pygments_lexer": "ipython3",
   "version": "3.9.7"
  }
 },
 "nbformat": 4,
 "nbformat_minor": 5
}
