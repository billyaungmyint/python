{
 "cells": [
  {
   "cell_type": "markdown",
   "id": "b0628997-15ed-4d67-b372-3e9e60afce19",
   "metadata": {},
   "source": [
    "# Doing More with Numpy - List vs Numpy Arrays"
   ]
  },
  {
   "cell_type": "markdown",
   "id": "72ff3fd7-995a-42f9-8844-980a3b09bffc",
   "metadata": {},
   "source": [
    "### 1 Dimension Array"
   ]
  },
  {
   "cell_type": "code",
   "execution_count": 6,
   "id": "eb4b2466-b9ac-44e5-8d98-222e98541911",
   "metadata": {},
   "outputs": [],
   "source": [
    "# Data - 1d\n",
    "\n",
    "import numpy as np\n",
    "\n",
    "L = [85,71,68,92,79]\n",
    "A = np.array([85,71,68,92,79])"
   ]
  },
  {
   "cell_type": "code",
   "execution_count": 7,
   "id": "9784ebb2-09cb-4fad-9613-b15cb346cf2b",
   "metadata": {},
   "outputs": [
    {
     "name": "stdout",
     "output_type": "stream",
     "text": [
      "[85, 71, 68, 92, 79]\n",
      "[85 71 68 92 79]\n",
      "[1, 2, 3]\n"
     ]
    }
   ],
   "source": [
    "print(L)\n",
    "print(A)"
   ]
  },
  {
   "cell_type": "code",
   "execution_count": 9,
   "id": "354c64b6-a4d4-4bf0-bfa9-355ad0717a63",
   "metadata": {},
   "outputs": [
    {
     "data": {
      "text/plain": [
       "[90, 76, 73, 97, 84]"
      ]
     },
     "execution_count": 9,
     "metadata": {},
     "output_type": "execute_result"
    }
   ],
   "source": [
    "# Add 5 grace marks to students\n",
    "# using list comprehension\n",
    "[i+5 for i in L]"
   ]
  },
  {
   "cell_type": "code",
   "execution_count": 10,
   "id": "b992d2d3-3bf2-43aa-b502-96d01ce929b1",
   "metadata": {},
   "outputs": [
    {
     "data": {
      "text/plain": [
       "array([90, 76, 73, 97, 84])"
      ]
     },
     "execution_count": 10,
     "metadata": {},
     "output_type": "execute_result"
    }
   ],
   "source": [
    "# using numpy array\n",
    "A + 5"
   ]
  },
  {
   "cell_type": "markdown",
   "id": "ae41c937-7558-47d8-8e79-003a4618e2b1",
   "metadata": {},
   "source": [
    "### 2 Dimensions Array"
   ]
  },
  {
   "cell_type": "markdown",
   "id": "4c143842-689b-4198-9ffe-f51b2f6e43aa",
   "metadata": {},
   "source": [
    "### The table of students' scores in 3 subjects\n",
    "\n",
    "| Subject 1 | Subject 2 | Subject 3 |\n",
    "| :---------| :-------- : | ---------|\n",
    "|    68     |      84    |    63    |\n",
    "|    99     |      83    |    75    |\n",
    "|    70     |      90    |    94    |\n",
    "|    62     |      94    |    74    |\n",
    "|    94     |      84    |    75    |"
   ]
  },
  {
   "cell_type": "code",
   "execution_count": 11,
   "id": "43118568-2d39-4215-b779-fa3f505148be",
   "metadata": {},
   "outputs": [],
   "source": [
    "# data - 2d\n",
    "L = [[68,84,63],[99,83,75],[70,90,94],[62,94,74],[94,84,75]]\n",
    "A = np.array([[68,84,63],[99,83,75],[70,90,94],[62,94,74],[94,84,75]])"
   ]
  },
  {
   "cell_type": "code",
   "execution_count": 13,
   "id": "a82d5b22-5c03-4f96-8003-8ef901314289",
   "metadata": {},
   "outputs": [
    {
     "name": "stdout",
     "output_type": "stream",
     "text": [
      "[[68, 84, 63], [99, 83, 75], [70, 90, 94], [62, 94, 74], [94, 84, 75]]\n",
      "[[68 84 63]\n",
      " [99 83 75]\n",
      " [70 90 94]\n",
      " [62 94 74]\n",
      " [94 84 75]]\n"
     ]
    }
   ],
   "source": [
    "print(L)\n",
    "print(A)"
   ]
  },
  {
   "cell_type": "code",
   "execution_count": 17,
   "id": "61c9d5c3-7388-4217-a2ed-bd280fe47246",
   "metadata": {},
   "outputs": [
    {
     "data": {
      "text/plain": [
       "[68, 99, 70, 62, 94]"
      ]
     },
     "execution_count": 17,
     "metadata": {},
     "output_type": "execute_result"
    }
   ],
   "source": [
    "# only get scores in subject 1 - 1st column\n",
    "# in list\n",
    "[i[0] for i in L]"
   ]
  },
  {
   "cell_type": "code",
   "execution_count": 19,
   "id": "e47f5e0c-9a74-46d5-a91a-d03b28e41316",
   "metadata": {},
   "outputs": [
    {
     "data": {
      "text/plain": [
       "array([68, 99, 70, 62, 94])"
      ]
     },
     "execution_count": 19,
     "metadata": {},
     "output_type": "execute_result"
    }
   ],
   "source": [
    "#in np array\n",
    "# all the rows - : , but only 1st column 0 -\n",
    "A[:,0]"
   ]
  },
  {
   "cell_type": "code",
   "execution_count": 22,
   "id": "afd179cf-b4b6-4e73-b8f5-6fd4106b08e1",
   "metadata": {},
   "outputs": [
    {
     "data": {
      "text/plain": [
       "[84, 99, 94, 94, 94]"
      ]
     },
     "execution_count": 22,
     "metadata": {},
     "output_type": "execute_result"
    }
   ],
   "source": [
    "# max score of each student - each row\n",
    "#using list\n",
    "[max(i) for i in L]"
   ]
  },
  {
   "cell_type": "code",
   "execution_count": 26,
   "id": "6c61e3b6-eec4-4882-9fce-baab6854c566",
   "metadata": {},
   "outputs": [
    {
     "data": {
      "text/plain": [
       "array([84, 99, 94, 94, 94])"
      ]
     },
     "execution_count": 26,
     "metadata": {},
     "output_type": "execute_result"
    }
   ],
   "source": [
    "#using np array\n",
    "#axis 1 , horizontal - meaning each row\n",
    "np.max(A , axis = 1)"
   ]
  },
  {
   "cell_type": "code",
   "execution_count": 29,
   "id": "20337b90-3f04-4b1c-8c29-c6d5c9109dcb",
   "metadata": {},
   "outputs": [
    {
     "data": {
      "text/plain": [
       "array([84, 99, 94, 94, 94])"
      ]
     },
     "execution_count": 29,
     "metadata": {},
     "output_type": "execute_result"
    }
   ],
   "source": [
    "# can also use the max from Array A directly\n",
    "# 1 is the axis value , 0 or 1\n",
    "A.max(1)"
   ]
  },
  {
   "cell_type": "code",
   "execution_count": 33,
   "id": "d6e30ebd-7cab-4781-b2a9-aad21dc57041",
   "metadata": {},
   "outputs": [
    {
     "data": {
      "text/plain": [
       "[99, 94, 94]"
      ]
     },
     "execution_count": 33,
     "metadata": {},
     "output_type": "execute_result"
    }
   ],
   "source": [
    "# Get top score in each subject - each column\n",
    "# using list\n",
    "[max(i[j] for i in L) for j in range(3)]"
   ]
  },
  {
   "cell_type": "code",
   "execution_count": 36,
   "id": "5c591284-b059-463e-bb0e-23694476e937",
   "metadata": {},
   "outputs": [
    {
     "data": {
      "text/plain": [
       "array([99, 94, 94])"
      ]
     },
     "execution_count": 36,
     "metadata": {},
     "output_type": "execute_result"
    }
   ],
   "source": [
    "# using np array\n",
    "# axis 0 means vertical - by column\n",
    "np.max(A , axis = 0)"
   ]
  },
  {
   "cell_type": "code",
   "execution_count": 35,
   "id": "84efbc60-1945-4dd6-b837-67f0fdd77af5",
   "metadata": {},
   "outputs": [
    {
     "data": {
      "text/plain": [
       "array([99, 94, 94])"
      ]
     },
     "execution_count": 35,
     "metadata": {},
     "output_type": "execute_result"
    }
   ],
   "source": [
    "A.max(0)"
   ]
  },
  {
   "cell_type": "code",
   "execution_count": null,
   "id": "5ff459fc-8949-44b7-be11-7fe3ef23eaa7",
   "metadata": {},
   "outputs": [],
   "source": []
  }
 ],
 "metadata": {
  "kernelspec": {
   "display_name": "Python 3 (ipykernel)",
   "language": "python",
   "name": "python3"
  },
  "language_info": {
   "codemirror_mode": {
    "name": "ipython",
    "version": 3
   },
   "file_extension": ".py",
   "mimetype": "text/x-python",
   "name": "python",
   "nbconvert_exporter": "python",
   "pygments_lexer": "ipython3",
   "version": "3.9.7"
  }
 },
 "nbformat": 4,
 "nbformat_minor": 5
}
