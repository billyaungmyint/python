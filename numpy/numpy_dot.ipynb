{
 "cells": [
  {
   "cell_type": "markdown",
   "id": "a3187952-7061-404f-baef-5fd234513da7",
   "metadata": {},
   "source": [
    "# Numpy dot()"
   ]
  },
  {
   "cell_type": "code",
   "execution_count": 2,
   "id": "52b43bfc-bc00-4bc0-bc85-6ffb824f4823",
   "metadata": {},
   "outputs": [],
   "source": [
    "import numpy as np"
   ]
  },
  {
   "cell_type": "code",
   "execution_count": 9,
   "id": "c99a650b-9189-4fa9-80fd-97e1612902f0",
   "metadata": {},
   "outputs": [],
   "source": [
    "#np arrays\n",
    "array1 = np.array([3,4,5])\n",
    "array2 = np.array([7,8,9])"
   ]
  },
  {
   "cell_type": "code",
   "execution_count": 10,
   "id": "64a27545-e9c4-45c8-8aee-b87b5ecbf5ac",
   "metadata": {},
   "outputs": [
    {
     "name": "stdout",
     "output_type": "stream",
     "text": [
      "98\n",
      "98\n"
     ]
    }
   ],
   "source": [
    "'''\n",
    "When we compute the dot product, we multiply the first value of \\mathbf{a} by the first value of \\mathbf{b}. We multiply the second value of \\mathbf{a} by the second value of \\mathbf{b}. \n",
    "And we multiply the third value of \\mathbf{a} by the third value of \\mathbf{b}. Then, we take the resulting values, and sum them up.\n",
    "'''\n",
    "dot_result = np.dot(array1 , array2)\n",
    "test_result = (3 * 7) + (4 * 8) + (5 * 9)\n",
    "print(dot_result)\n",
    "print(test_result)"
   ]
  },
  {
   "cell_type": "code",
   "execution_count": 12,
   "id": "c7f40fb3-fcf6-47bd-9798-98c0931c9e51",
   "metadata": {},
   "outputs": [],
   "source": [
    "# first is a scalar and second is numpy\n",
    "a = 2\n",
    "b = np.array([7,8,9])"
   ]
  },
  {
   "cell_type": "code",
   "execution_count": 14,
   "id": "573a077a-770b-4ba1-a8ec-f7f4a6544f83",
   "metadata": {},
   "outputs": [
    {
     "name": "stdout",
     "output_type": "stream",
     "text": [
      "[14 16 18]\n",
      "48\n"
     ]
    }
   ],
   "source": [
    "'''\n",
    "So when we use Numpy dot with one scalar and one Numpy array, \n",
    "it multiples every value of the array by the scalar and outputs a new Numpy array.\n",
    "'''\n",
    "dot2_result = np.dot(a , b)\n",
    "test2_result = (2 * 7) + (2 * 8) + (2 * 9)\n",
    "print(dot2_result)\n",
    "print(test2_result)"
   ]
  },
  {
   "cell_type": "code",
   "execution_count": 18,
   "id": "42455ef4-d02f-485a-b6e3-27d0106952aa",
   "metadata": {},
   "outputs": [],
   "source": [
    "x = np.array([[3,4,5],[6,7,8]])\n",
    "y = np.array([[10,11],[12,13],[14,15]])"
   ]
  },
  {
   "cell_type": "code",
   "execution_count": 20,
   "id": "c71b9f09-675b-46b9-94da-782a426f398f",
   "metadata": {},
   "outputs": [
    {
     "name": "stdout",
     "output_type": "stream",
     "text": [
      "[[148 160]\n",
      " [256 277]]\n",
      "825\n"
     ]
    }
   ],
   "source": [
    "'''\n",
    "Notice that the output array, \\mathbf{C} = \\mathbf{AB}, has the same number of rows as \\mathbf{A} and the same number of columns as \\mathbf{B}.\n",
    "'''\n",
    "dot3_result = np.dot(x , y)\n",
    "test3_result = (3*10) + (4*12) + (5*14) + (3 * 11) + (4*12) + (5*15) + (6*10) + (6*12) + (8*14) + (6*11) + (7*13) + (8*15)\n",
    "print(dot3_result)\n",
    "print(test3_result)"
   ]
  },
  {
   "cell_type": "code",
   "execution_count": null,
   "id": "cd46ae73-1c57-4740-8355-38fad6b776f9",
   "metadata": {},
   "outputs": [],
   "source": []
  }
 ],
 "metadata": {
  "kernelspec": {
   "display_name": "Python 3 (ipykernel)",
   "language": "python",
   "name": "python3"
  },
  "language_info": {
   "codemirror_mode": {
    "name": "ipython",
    "version": 3
   },
   "file_extension": ".py",
   "mimetype": "text/x-python",
   "name": "python",
   "nbconvert_exporter": "python",
   "pygments_lexer": "ipython3",
   "version": "3.9.10"
  }
 },
 "nbformat": 4,
 "nbformat_minor": 5
}
