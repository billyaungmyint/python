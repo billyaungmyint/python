{
 "cells": [
  {
   "cell_type": "markdown",
   "id": "61bc6bba-3795-436c-b9d0-e61dc913156b",
   "metadata": {},
   "source": [
    "# Numpy Arithmetic Operations / Broadcasting"
   ]
  },
  {
   "cell_type": "code",
   "execution_count": 3,
   "id": "70918e80-a506-4ac5-b186-480387fa78b2",
   "metadata": {},
   "outputs": [],
   "source": [
    "import numpy as np"
   ]
  },
  {
   "cell_type": "code",
   "execution_count": 4,
   "id": "950b79eb-51b1-4c50-875b-4aa05e5ab33e",
   "metadata": {},
   "outputs": [
    {
     "name": "stdout",
     "output_type": "stream",
     "text": [
      "[[1 2]\n",
      " [3 4]]\n",
      "\n",
      "[[5 6]\n",
      " [7 8]]\n"
     ]
    }
   ],
   "source": [
    "x = np.array([[1,2],[3,4]])\n",
    "y = np.array([[5,6],[7,8]])\n",
    "\n",
    "print(x)\n",
    "print()\n",
    "print(y)"
   ]
  },
  {
   "cell_type": "code",
   "execution_count": 6,
   "id": "44e218e4-7e3d-4000-8d95-02f8ed6730ba",
   "metadata": {},
   "outputs": [
    {
     "data": {
      "text/plain": [
       "array([[ 6,  8],\n",
       "       [10, 12]])"
      ]
     },
     "execution_count": 6,
     "metadata": {},
     "output_type": "execute_result"
    }
   ],
   "source": [
    "x + y"
   ]
  },
  {
   "cell_type": "code",
   "execution_count": 8,
   "id": "5a43e4e6-6861-4fb8-be8e-28efd88bdd3e",
   "metadata": {},
   "outputs": [
    {
     "data": {
      "text/plain": [
       "array([[1, 2, 3],\n",
       "       [4, 5, 6],\n",
       "       [7, 8, 9]])"
      ]
     },
     "execution_count": 8,
     "metadata": {},
     "output_type": "execute_result"
    }
   ],
   "source": [
    "a = np.array([[1,2,3],[4,5,6],[7,8,9]])\n",
    "a"
   ]
  },
  {
   "cell_type": "code",
   "execution_count": 9,
   "id": "0f76b699-10b9-4d4c-927c-0c3020403bd6",
   "metadata": {},
   "outputs": [
    {
     "data": {
      "text/plain": [
       "array([[ 3,  4,  5],\n",
       "       [ 6,  7,  8],\n",
       "       [ 9, 10, 11]])"
      ]
     },
     "execution_count": 9,
     "metadata": {},
     "output_type": "execute_result"
    }
   ],
   "source": [
    "a + 2"
   ]
  },
  {
   "cell_type": "code",
   "execution_count": 13,
   "id": "a5c495b6-46db-488c-a2c3-e5a947e09074",
   "metadata": {},
   "outputs": [
    {
     "name": "stdout",
     "output_type": "stream",
     "text": [
      "a\n",
      "[[1 1 1]\n",
      " [2 2 2]\n",
      " [3 3 3]\n",
      " [4 4 4]]\n",
      "\n",
      "b\n",
      "[30 50 70]\n",
      "\n",
      "a + b - broadcasting to rows - b is repeated 3 more times so it is now 4 rows , same as a\n"
     ]
    },
    {
     "data": {
      "text/plain": [
       "array([[31, 51, 71],\n",
       "       [32, 52, 72],\n",
       "       [33, 53, 73],\n",
       "       [34, 54, 74]])"
      ]
     },
     "execution_count": 13,
     "metadata": {},
     "output_type": "execute_result"
    }
   ],
   "source": [
    "a = np.array([[1,1,1],[2,2,2],[3,3,3],[4,4,4]])\n",
    "b = np.array([30,50,70])\n",
    "print('a')\n",
    "print(a)\n",
    "print()\n",
    "print('b')\n",
    "print(b)\n",
    "print()\n",
    "print('a + b - broadcasting to rows - b is repeated 3 more times so it is now 4 rows , same as a')\n",
    "a + b\n",
    "\n"
   ]
  },
  {
   "cell_type": "code",
   "execution_count": 18,
   "id": "c491bbfc-f36f-4871-b140-d7393a32c40e",
   "metadata": {},
   "outputs": [
    {
     "name": "stdout",
     "output_type": "stream",
     "text": [
      "a\n",
      "[[1 1 1]\n",
      " [2 2 2]\n",
      " [3 3 3]\n",
      " [4 4 4]]\n",
      "\n",
      "b\n",
      "[[30]\n",
      " [50]\n",
      " [70]\n",
      " [90]]\n",
      "\n",
      "a + b - broadcasting to columns - b is repeated 2 more times so it is now 3 columns , same as a\n"
     ]
    },
    {
     "data": {
      "text/plain": [
       "array([[31, 31, 31],\n",
       "       [52, 52, 52],\n",
       "       [73, 73, 73],\n",
       "       [94, 94, 94]])"
      ]
     },
     "execution_count": 18,
     "metadata": {},
     "output_type": "execute_result"
    }
   ],
   "source": [
    "a = np.array([[1,1,1],[2,2,2],[3,3,3],[4,4,4]])\n",
    "b = np.array([[30],[50],[70],[90]])\n",
    "\n",
    "print('a')\n",
    "print(a)\n",
    "print()\n",
    "print('b')\n",
    "print(b)\n",
    "print()\n",
    "print('a + b - broadcasting to columns - b is repeated 2 more times so it is now 3 columns , same as a')\n",
    "a + b"
   ]
  },
  {
   "cell_type": "code",
   "execution_count": 19,
   "id": "67155ebc-e12a-4940-b80a-e1fbc3eea927",
   "metadata": {},
   "outputs": [
    {
     "name": "stdout",
     "output_type": "stream",
     "text": [
      "[[1 2 3]\n",
      " [4 5 6]\n",
      " [7 8 9]]\n"
     ]
    },
    {
     "data": {
      "text/plain": [
       "array([[ 1,  2,  3],\n",
       "       [ 4, 10, 11],\n",
       "       [ 7, 13, 14]])"
      ]
     },
     "execution_count": 19,
     "metadata": {},
     "output_type": "execute_result"
    }
   ],
   "source": [
    "a = np.array([[1,2,3],[4,5,6],[7,8,9]])\n",
    "print(a)\n",
    "\n",
    "a[1:3,1:3] +=5\n",
    "a"
   ]
  }
 ],
 "metadata": {
  "kernelspec": {
   "display_name": "Python 3 (ipykernel)",
   "language": "python",
   "name": "python3"
  },
  "language_info": {
   "codemirror_mode": {
    "name": "ipython",
    "version": 3
   },
   "file_extension": ".py",
   "mimetype": "text/x-python",
   "name": "python",
   "nbconvert_exporter": "python",
   "pygments_lexer": "ipython3",
   "version": "3.9.7"
  }
 },
 "nbformat": 4,
 "nbformat_minor": 5
}
