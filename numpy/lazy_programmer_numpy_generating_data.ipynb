{
 "cells": [
  {
   "cell_type": "markdown",
   "id": "dc3a8678-aef2-4063-81e4-60bae4af8012",
   "metadata": {},
   "source": [
    "# Lazy Programmer - Generating Data in Numpy"
   ]
  },
  {
   "cell_type": "code",
   "execution_count": 2,
   "id": "3d04c40b-e422-4c50-aae1-cac9a857892f",
   "metadata": {},
   "outputs": [],
   "source": [
    "import numpy as np"
   ]
  },
  {
   "cell_type": "code",
   "execution_count": 3,
   "id": "5ebd270a-2fe6-43ff-b694-70e36b8dcdae",
   "metadata": {},
   "outputs": [
    {
     "data": {
      "text/plain": [
       "array([[0., 0., 0.],\n",
       "       [0., 0., 0.]])"
      ]
     },
     "execution_count": 3,
     "metadata": {},
     "output_type": "execute_result"
    }
   ],
   "source": [
    "np.zeros([2,3])"
   ]
  },
  {
   "cell_type": "code",
   "execution_count": 4,
   "id": "3a7433a6-1b3d-45f7-8163-7f444da05b6f",
   "metadata": {},
   "outputs": [
    {
     "data": {
      "text/plain": [
       "array([[1., 1., 1.],\n",
       "       [1., 1., 1.]])"
      ]
     },
     "execution_count": 4,
     "metadata": {},
     "output_type": "execute_result"
    }
   ],
   "source": [
    "np.ones([2,3])"
   ]
  },
  {
   "cell_type": "code",
   "execution_count": 6,
   "id": "a30a5eac-4a22-4729-8b68-c61601d920c8",
   "metadata": {},
   "outputs": [
    {
     "data": {
      "text/plain": [
       "array([[10, 10, 10],\n",
       "       [10, 10, 10]])"
      ]
     },
     "execution_count": 6,
     "metadata": {},
     "output_type": "execute_result"
    }
   ],
   "source": [
    "np.full([2,3],10)"
   ]
  },
  {
   "cell_type": "code",
   "execution_count": 7,
   "id": "8ceddf8e-f0d2-4010-9de0-eadb912352ea",
   "metadata": {},
   "outputs": [
    {
     "data": {
      "text/plain": [
       "array([[10., 10., 10.],\n",
       "       [10., 10., 10.]])"
      ]
     },
     "execution_count": 7,
     "metadata": {},
     "output_type": "execute_result"
    }
   ],
   "source": [
    "10 * np.ones((2,3))"
   ]
  },
  {
   "cell_type": "code",
   "execution_count": 8,
   "id": "8cb3647d-903e-4cd3-af7d-bd03a5721e95",
   "metadata": {},
   "outputs": [
    {
     "data": {
      "text/plain": [
       "array([[1., 0., 0.],\n",
       "       [0., 1., 0.],\n",
       "       [0., 0., 1.]])"
      ]
     },
     "execution_count": 8,
     "metadata": {},
     "output_type": "execute_result"
    }
   ],
   "source": [
    "#identity matrix\n",
    "np.eye(3)"
   ]
  },
  {
   "cell_type": "code",
   "execution_count": 9,
   "id": "f1e13b91-f4c0-456e-98f5-f90bee2e1faa",
   "metadata": {},
   "outputs": [
    {
     "data": {
      "text/plain": [
       "array([[0.78610306, 0.14275669, 0.77371763],\n",
       "       [0.5579217 , 0.30167293, 0.02045839]])"
      ]
     },
     "execution_count": 9,
     "metadata": {},
     "output_type": "execute_result"
    }
   ],
   "source": [
    "np.random.random((2,3))"
   ]
  },
  {
   "cell_type": "code",
   "execution_count": 14,
   "id": "0cb66e23-bcca-4a1a-99df-0fe22ba23061",
   "metadata": {},
   "outputs": [
    {
     "data": {
      "text/plain": [
       "array([[-1.27672234,  0.11964812, -0.54165641],\n",
       "       [-0.48781901,  1.68305221,  0.53968503]])"
      ]
     },
     "execution_count": 14,
     "metadata": {},
     "output_type": "execute_result"
    }
   ],
   "source": [
    "# random numbers from normal distribution\n",
    "# meaning mean is 0 and standard deviation is 1\n",
    "np.random.randn(2,3)"
   ]
  },
  {
   "cell_type": "code",
   "execution_count": 15,
   "id": "7203c278-fc43-44f2-b8ab-53386ce907b3",
   "metadata": {},
   "outputs": [],
   "source": [
    "R = np.random.randn(10000)"
   ]
  },
  {
   "cell_type": "code",
   "execution_count": 17,
   "id": "194b474c-e173-4a1d-b029-f7f2dc7e6a5e",
   "metadata": {},
   "outputs": [
    {
     "data": {
      "text/plain": [
       "0.011152503440403024"
      ]
     },
     "execution_count": 17,
     "metadata": {},
     "output_type": "execute_result"
    }
   ],
   "source": [
    "R.mean()"
   ]
  },
  {
   "cell_type": "code",
   "execution_count": 18,
   "id": "9d95aa2c-6cf9-4c6e-9ef9-da35cf8b6960",
   "metadata": {},
   "outputs": [
    {
     "data": {
      "text/plain": [
       "1.00411090790335"
      ]
     },
     "execution_count": 18,
     "metadata": {},
     "output_type": "execute_result"
    }
   ],
   "source": [
    "R.std()"
   ]
  },
  {
   "cell_type": "code",
   "execution_count": 19,
   "id": "ca6ab2f3-9482-4c2a-a2e2-d9cc695e4e92",
   "metadata": {},
   "outputs": [
    {
     "data": {
      "text/plain": [
       "1.0082387153704897"
      ]
     },
     "execution_count": 19,
     "metadata": {},
     "output_type": "execute_result"
    }
   ],
   "source": [
    "R.var()"
   ]
  },
  {
   "cell_type": "code",
   "execution_count": 20,
   "id": "7ecebaae-4625-49e1-96b0-e41baf3882a9",
   "metadata": {},
   "outputs": [
    {
     "data": {
      "text/plain": [
       "0.011152503440403024"
      ]
     },
     "execution_count": 20,
     "metadata": {},
     "output_type": "execute_result"
    }
   ],
   "source": [
    "np.mean(R)"
   ]
  },
  {
   "cell_type": "code",
   "execution_count": 21,
   "id": "44d6519a-5a53-439c-bec5-04c9ac6a2c2b",
   "metadata": {},
   "outputs": [],
   "source": [
    "R = np.random.randn(10000 , 3)"
   ]
  },
  {
   "cell_type": "code",
   "execution_count": 22,
   "id": "353564f8-72fa-4952-b10b-3fe124ac3585",
   "metadata": {},
   "outputs": [
    {
     "data": {
      "text/plain": [
       "array([-0.01603303, -0.00164902,  0.01221186])"
      ]
     },
     "execution_count": 22,
     "metadata": {},
     "output_type": "execute_result"
    }
   ],
   "source": [
    "R.mean(axis=0)"
   ]
  },
  {
   "cell_type": "code",
   "execution_count": 23,
   "id": "0c3554aa-c038-41b6-9660-0cb3a5fede12",
   "metadata": {},
   "outputs": [
    {
     "data": {
      "text/plain": [
       "array([-0.83582984, -0.0119597 ,  0.02367705, ..., -0.48352321,\n",
       "        1.00474925,  0.73546888])"
      ]
     },
     "execution_count": 23,
     "metadata": {},
     "output_type": "execute_result"
    }
   ],
   "source": [
    "R.mean(axis=1)"
   ]
  },
  {
   "cell_type": "code",
   "execution_count": 25,
   "id": "e5cb1a67-a0ee-4f02-b170-674e9437250b",
   "metadata": {},
   "outputs": [
    {
     "data": {
      "text/plain": [
       "(10000,)"
      ]
     },
     "execution_count": 25,
     "metadata": {},
     "output_type": "execute_result"
    }
   ],
   "source": [
    "R.mean(axis=1).shape"
   ]
  },
  {
   "cell_type": "code",
   "execution_count": 26,
   "id": "7fe56565-9e14-43d0-9fa2-d4d91b32b71b",
   "metadata": {},
   "outputs": [
    {
     "data": {
      "text/plain": [
       "array([[ 0.12631518, -0.38501333,  0.18769218, ...,  0.0315196 ,\n",
       "        -0.11524242,  0.12320318],\n",
       "       [-0.38501333,  2.96193449, -0.45684676, ..., -1.16197167,\n",
       "         0.28060748,  1.83088113],\n",
       "       [ 0.18769218, -0.45684676,  0.28631901, ..., -0.02185229,\n",
       "        -0.17579222,  0.3252508 ],\n",
       "       ...,\n",
       "       [ 0.0315196 , -1.16197167, -0.02185229, ...,  0.6431483 ,\n",
       "         0.01335468, -1.2842922 ],\n",
       "       [-0.11524242,  0.28060748, -0.17579222, ...,  0.01335468,\n",
       "         0.10793174, -0.19957347],\n",
       "       [ 0.12320318,  1.83088113,  0.3252508 , ..., -1.2842922 ,\n",
       "        -0.19957347,  2.8422889 ]])"
      ]
     },
     "execution_count": 26,
     "metadata": {},
     "output_type": "execute_result"
    }
   ],
   "source": [
    "np.cov(R)"
   ]
  },
  {
   "cell_type": "code",
   "execution_count": 27,
   "id": "2d8328f5-fa2d-4dc2-aa73-617b6f023659",
   "metadata": {},
   "outputs": [
    {
     "data": {
      "text/plain": [
       "array([[ 1.01716023,  0.00428838,  0.0089717 ],\n",
       "       [ 0.00428838,  1.00972905, -0.00488226],\n",
       "       [ 0.0089717 , -0.00488226,  1.02927899]])"
      ]
     },
     "execution_count": 27,
     "metadata": {},
     "output_type": "execute_result"
    }
   ],
   "source": [
    "np.cov(R.T) #transpose"
   ]
  },
  {
   "cell_type": "code",
   "execution_count": 30,
   "id": "9fefa508-2b73-4978-8433-a8f75b0e194b",
   "metadata": {},
   "outputs": [
    {
     "data": {
      "text/plain": [
       "array([[1, 0, 5],\n",
       "       [3, 0, 4],\n",
       "       [9, 8, 5]])"
      ]
     },
     "execution_count": 30,
     "metadata": {},
     "output_type": "execute_result"
    }
   ],
   "source": [
    "np.random.randint( 0 , 10 , size = (3,3))"
   ]
  },
  {
   "cell_type": "code",
   "execution_count": 33,
   "id": "8cd21878-ccba-4e3e-bdf9-c0548fcfc78b",
   "metadata": {},
   "outputs": [
    {
     "data": {
      "text/plain": [
       "array([[5, 4, 3],\n",
       "       [8, 5, 4],\n",
       "       [5, 4, 5]])"
      ]
     },
     "execution_count": 33,
     "metadata": {},
     "output_type": "execute_result"
    }
   ],
   "source": [
    "np.random.choice(10 , size = (3,3))"
   ]
  },
  {
   "cell_type": "code",
   "execution_count": null,
   "id": "e16ca319-bb14-4418-8349-a0a889586dd9",
   "metadata": {},
   "outputs": [],
   "source": []
  }
 ],
 "metadata": {
  "kernelspec": {
   "display_name": "Python 3 (ipykernel)",
   "language": "python",
   "name": "python3"
  },
  "language_info": {
   "codemirror_mode": {
    "name": "ipython",
    "version": 3
   },
   "file_extension": ".py",
   "mimetype": "text/x-python",
   "name": "python",
   "nbconvert_exporter": "python",
   "pygments_lexer": "ipython3",
   "version": "3.9.12"
  }
 },
 "nbformat": 4,
 "nbformat_minor": 5
}
