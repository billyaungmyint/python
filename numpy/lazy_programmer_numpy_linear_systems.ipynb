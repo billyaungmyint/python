{
 "cells": [
  {
   "cell_type": "markdown",
   "id": "13e6adeb-b759-4d92-a2ed-3846bb13c31b",
   "metadata": {},
   "source": [
    "# Lazy Programmer - Numpy Linear Systems"
   ]
  },
  {
   "cell_type": "code",
   "execution_count": 2,
   "id": "b7130487-8451-443e-82dd-1c7c52bc67d9",
   "metadata": {},
   "outputs": [],
   "source": [
    "import numpy as np"
   ]
  },
  {
   "cell_type": "code",
   "execution_count": 11,
   "id": "d2a2f470-f183-4f48-8596-3e2f0eddef67",
   "metadata": {},
   "outputs": [],
   "source": [
    "# Total of 2200 Children and Adults paid $5050. $1.5 / Children and $4 / Adult.\n",
    "# How many children and adult ?"
   ]
  },
  {
   "cell_type": "code",
   "execution_count": null,
   "id": "cfacadf5-3930-42f2-8908-3a0df9961582",
   "metadata": {},
   "outputs": [],
   "source": [
    "# C + A = 2200\n",
    "# 1.5C + 4A = 5050"
   ]
  },
  {
   "cell_type": "code",
   "execution_count": 5,
   "id": "571e5951-698c-4e45-b8e6-9f09b5dd6be3",
   "metadata": {},
   "outputs": [],
   "source": [
    "A = np.array([[1,1],[1.5,4]])\n",
    "b = np.array([2200,5050])"
   ]
  },
  {
   "cell_type": "code",
   "execution_count": 6,
   "id": "396020a8-c985-4727-ace2-2a36ca6cbd8e",
   "metadata": {},
   "outputs": [
    {
     "data": {
      "text/plain": [
       "array([1500.,  700.])"
      ]
     },
     "execution_count": 6,
     "metadata": {},
     "output_type": "execute_result"
    }
   ],
   "source": [
    "np.linalg.solve(A,b)"
   ]
  },
  {
   "cell_type": "code",
   "execution_count": 7,
   "id": "fd2c816c-fbb4-4386-80e7-d2ff06e77a5d",
   "metadata": {},
   "outputs": [
    {
     "data": {
      "text/plain": [
       "array([1500.,  700.])"
      ]
     },
     "execution_count": 7,
     "metadata": {},
     "output_type": "execute_result"
    }
   ],
   "source": [
    "# bad way to solve\n",
    "np.linalg.inv(A).dot(b)"
   ]
  },
  {
   "cell_type": "code",
   "execution_count": 8,
   "id": "d70cae5e-172d-4b86-be01-1180109caf50",
   "metadata": {},
   "outputs": [],
   "source": [
    "# Suppose, a fruit-seller sold 20 mangoes and 10 oranges in one day for a total of $350. The next day he sold 17 mangoes and 22 oranges for $500. \n",
    "# If the prices of the fruits remained unchanged on both the days, what was the price of one mango and one orange?"
   ]
  },
  {
   "cell_type": "code",
   "execution_count": 9,
   "id": "1b8c9103-d007-4c17-8c5c-a456a94dcabb",
   "metadata": {},
   "outputs": [],
   "source": [
    "# 20x + 10y = 350\n",
    "# 17x + 22y = 500"
   ]
  },
  {
   "cell_type": "code",
   "execution_count": 15,
   "id": "8f318c96-e2f0-41df-87b1-1ca212f56a7d",
   "metadata": {},
   "outputs": [
    {
     "data": {
      "text/plain": [
       "array([10., 15.])"
      ]
     },
     "execution_count": 15,
     "metadata": {},
     "output_type": "execute_result"
    }
   ],
   "source": [
    "A = np.array([[20,10],[17,22]])\n",
    "b = np.array([350,500])\n",
    "np.linalg.solve(A,b)"
   ]
  },
  {
   "cell_type": "code",
   "execution_count": 12,
   "id": "4e6f72f4-050d-426d-9e6c-a1df54e1ade5",
   "metadata": {},
   "outputs": [],
   "source": [
    "# 2B = A\n",
    "# 3B - 10 = A"
   ]
  },
  {
   "cell_type": "code",
   "execution_count": 18,
   "id": "59af471f-b90d-4803-8e07-f92738e5eab4",
   "metadata": {},
   "outputs": [
    {
     "data": {
      "text/plain": [
       "array([0.5 , 0.05])"
      ]
     },
     "execution_count": 18,
     "metadata": {},
     "output_type": "execute_result"
    }
   ],
   "source": [
    "A = np.array([[2,0],[3,-10]])\n",
    "B = np.array([1,1])\n",
    "np.linalg.solve(A,B)"
   ]
  },
  {
   "cell_type": "code",
   "execution_count": null,
   "id": "9384ad61-3139-48e6-b22c-32b7f076617f",
   "metadata": {},
   "outputs": [],
   "source": []
  }
 ],
 "metadata": {
  "kernelspec": {
   "display_name": "Python 3 (ipykernel)",
   "language": "python",
   "name": "python3"
  },
  "language_info": {
   "codemirror_mode": {
    "name": "ipython",
    "version": 3
   },
   "file_extension": ".py",
   "mimetype": "text/x-python",
   "name": "python",
   "nbconvert_exporter": "python",
   "pygments_lexer": "ipython3",
   "version": "3.9.12"
  }
 },
 "nbformat": 4,
 "nbformat_minor": 5
}
