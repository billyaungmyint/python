{
 "cells": [
  {
   "cell_type": "markdown",
   "id": "6eee0a1b-f7a5-4d51-aefc-1d464a099fbe",
   "metadata": {},
   "source": [
    "# Doing More Numpy - Basic Array Operations"
   ]
  },
  {
   "cell_type": "code",
   "execution_count": 2,
   "id": "f86c8c7f-89ba-4b39-9310-736ae9159dc1",
   "metadata": {},
   "outputs": [],
   "source": [
    "import numpy as np\n",
    "import pandas as pd\n",
    "import os"
   ]
  },
  {
   "cell_type": "code",
   "execution_count": 5,
   "id": "95105e65-e2b6-4b0e-8211-96ab4a7735a9",
   "metadata": {},
   "outputs": [
    {
     "data": {
      "text/html": [
       "<div>\n",
       "<style scoped>\n",
       "    .dataframe tbody tr th:only-of-type {\n",
       "        vertical-align: middle;\n",
       "    }\n",
       "\n",
       "    .dataframe tbody tr th {\n",
       "        vertical-align: top;\n",
       "    }\n",
       "\n",
       "    .dataframe thead th {\n",
       "        text-align: right;\n",
       "    }\n",
       "</style>\n",
       "<table border=\"1\" class=\"dataframe\">\n",
       "  <thead>\n",
       "    <tr style=\"text-align: right;\">\n",
       "      <th></th>\n",
       "      <th>Product</th>\n",
       "      <th>QTR</th>\n",
       "      <th>Revenue</th>\n",
       "    </tr>\n",
       "  </thead>\n",
       "  <tbody>\n",
       "    <tr>\n",
       "      <th>0</th>\n",
       "      <td>A</td>\n",
       "      <td>Q1</td>\n",
       "      <td>4500</td>\n",
       "    </tr>\n",
       "    <tr>\n",
       "      <th>1</th>\n",
       "      <td>A</td>\n",
       "      <td>Q2</td>\n",
       "      <td>5000</td>\n",
       "    </tr>\n",
       "    <tr>\n",
       "      <th>2</th>\n",
       "      <td>A</td>\n",
       "      <td>Q3</td>\n",
       "      <td>6000</td>\n",
       "    </tr>\n",
       "    <tr>\n",
       "      <th>3</th>\n",
       "      <td>A</td>\n",
       "      <td>Q4</td>\n",
       "      <td>5500</td>\n",
       "    </tr>\n",
       "    <tr>\n",
       "      <th>4</th>\n",
       "      <td>B</td>\n",
       "      <td>Q1</td>\n",
       "      <td>3600</td>\n",
       "    </tr>\n",
       "    <tr>\n",
       "      <th>5</th>\n",
       "      <td>B</td>\n",
       "      <td>Q2</td>\n",
       "      <td>4400</td>\n",
       "    </tr>\n",
       "    <tr>\n",
       "      <th>6</th>\n",
       "      <td>B</td>\n",
       "      <td>Q3</td>\n",
       "      <td>4800</td>\n",
       "    </tr>\n",
       "    <tr>\n",
       "      <th>7</th>\n",
       "      <td>B</td>\n",
       "      <td>Q4</td>\n",
       "      <td>4800</td>\n",
       "    </tr>\n",
       "    <tr>\n",
       "      <th>8</th>\n",
       "      <td>C</td>\n",
       "      <td>Q1</td>\n",
       "      <td>6000</td>\n",
       "    </tr>\n",
       "    <tr>\n",
       "      <th>9</th>\n",
       "      <td>C</td>\n",
       "      <td>Q2</td>\n",
       "      <td>9000</td>\n",
       "    </tr>\n",
       "    <tr>\n",
       "      <th>10</th>\n",
       "      <td>C</td>\n",
       "      <td>Q3</td>\n",
       "      <td>12000</td>\n",
       "    </tr>\n",
       "    <tr>\n",
       "      <th>11</th>\n",
       "      <td>C</td>\n",
       "      <td>Q4</td>\n",
       "      <td>13500</td>\n",
       "    </tr>\n",
       "    <tr>\n",
       "      <th>12</th>\n",
       "      <td>D</td>\n",
       "      <td>Q1</td>\n",
       "      <td>3000</td>\n",
       "    </tr>\n",
       "    <tr>\n",
       "      <th>13</th>\n",
       "      <td>D</td>\n",
       "      <td>Q2</td>\n",
       "      <td>6000</td>\n",
       "    </tr>\n",
       "    <tr>\n",
       "      <th>14</th>\n",
       "      <td>D</td>\n",
       "      <td>Q3</td>\n",
       "      <td>9000</td>\n",
       "    </tr>\n",
       "    <tr>\n",
       "      <th>15</th>\n",
       "      <td>D</td>\n",
       "      <td>Q4</td>\n",
       "      <td>6000</td>\n",
       "    </tr>\n",
       "    <tr>\n",
       "      <th>16</th>\n",
       "      <td>E</td>\n",
       "      <td>Q1</td>\n",
       "      <td>2222</td>\n",
       "    </tr>\n",
       "    <tr>\n",
       "      <th>17</th>\n",
       "      <td>E</td>\n",
       "      <td>Q2</td>\n",
       "      <td>4444</td>\n",
       "    </tr>\n",
       "    <tr>\n",
       "      <th>18</th>\n",
       "      <td>E</td>\n",
       "      <td>Q3</td>\n",
       "      <td>6666</td>\n",
       "    </tr>\n",
       "    <tr>\n",
       "      <th>19</th>\n",
       "      <td>E</td>\n",
       "      <td>Q4</td>\n",
       "      <td>8888</td>\n",
       "    </tr>\n",
       "  </tbody>\n",
       "</table>\n",
       "</div>"
      ],
      "text/plain": [
       "   Product QTR  Revenue\n",
       "0        A  Q1     4500\n",
       "1        A  Q2     5000\n",
       "2        A  Q3     6000\n",
       "3        A  Q4     5500\n",
       "4        B  Q1     3600\n",
       "5        B  Q2     4400\n",
       "6        B  Q3     4800\n",
       "7        B  Q4     4800\n",
       "8        C  Q1     6000\n",
       "9        C  Q2     9000\n",
       "10       C  Q3    12000\n",
       "11       C  Q4    13500\n",
       "12       D  Q1     3000\n",
       "13       D  Q2     6000\n",
       "14       D  Q3     9000\n",
       "15       D  Q4     6000\n",
       "16       E  Q1     2222\n",
       "17       E  Q2     4444\n",
       "18       E  Q3     6666\n",
       "19       E  Q4     8888"
      ]
     },
     "execution_count": 5,
     "metadata": {},
     "output_type": "execute_result"
    }
   ],
   "source": [
    "df = pd.read_csv('data/revenue_pdt_qtr.csv')\n",
    "df"
   ]
  },
  {
   "cell_type": "code",
   "execution_count": 8,
   "id": "6cc13489-1b0d-4b8c-a2e0-d89f95275bae",
   "metadata": {},
   "outputs": [
    {
     "data": {
      "text/plain": [
       "array([[ 4500,  5000,  6000,  5500],\n",
       "       [ 3600,  4400,  4800,  4800],\n",
       "       [ 6000,  9000, 12000, 13500],\n",
       "       [ 3000,  6000,  9000,  6000],\n",
       "       [ 2222,  4444,  6666,  8888]])"
      ]
     },
     "execution_count": 8,
     "metadata": {},
     "output_type": "execute_result"
    }
   ],
   "source": [
    "# revenue into 2d array - of the shape 5 rows and 4 columns representing 5 products and 4 quarters\n",
    "revenue = df['Revenue'].to_numpy().reshape(5,4)\n",
    "revenue"
   ]
  },
  {
   "cell_type": "code",
   "execution_count": 30,
   "id": "27af46c4-1390-4ba1-a946-e7b9d303d96e",
   "metadata": {},
   "outputs": [
    {
     "data": {
      "text/plain": [
       "125320"
      ]
     },
     "execution_count": 30,
     "metadata": {},
     "output_type": "execute_result"
    }
   ],
   "source": [
    "# Total annual revenue for store - sum of all the revenue\n",
    "#sum(sum(revenue))\n",
    "#np.sum(revenue)\n",
    "#revenue.sum()\n",
    "revenue.sum(axis = None)"
   ]
  },
  {
   "cell_type": "code",
   "execution_count": 27,
   "id": "33f2601a-a4e9-4846-8790-15aba29f636f",
   "metadata": {},
   "outputs": [
    {
     "data": {
      "text/plain": [
       "array([21000, 17600, 40500, 24000, 22220])"
      ]
     },
     "execution_count": 27,
     "metadata": {},
     "output_type": "execute_result"
    }
   ],
   "source": [
    "# Total annual revenue for each product - sum of each of the rows - axis 1\n",
    "# np.sum(revenue,axis = 1)\n",
    "revenue.sum(axis=1)"
   ]
  },
  {
   "cell_type": "code",
   "execution_count": 29,
   "id": "9b4a3b0e-305b-4146-ba66-c3d942eff5ab",
   "metadata": {},
   "outputs": [
    {
     "data": {
      "text/plain": [
       "array([19322, 28844, 38466, 38688])"
      ]
     },
     "execution_count": 29,
     "metadata": {},
     "output_type": "execute_result"
    }
   ],
   "source": [
    "# Total annual revenue for each quarter - sum of each of the columns - axis 0\n",
    "#np.sum(revenue , axis = 0)\n",
    "revenue.sum(axis = 0)"
   ]
  },
  {
   "cell_type": "code",
   "execution_count": 49,
   "id": "c7b0cdd7-a57d-4f6c-a342-0dac443aaf0d",
   "metadata": {},
   "outputs": [
    {
     "data": {
      "text/plain": [
       "array([2222, 4400, 4800, 4800])"
      ]
     },
     "execution_count": 49,
     "metadata": {},
     "output_type": "execute_result"
    }
   ],
   "source": [
    "# Minumum revenue for each quarter - min value in each column - axis 0\n",
    "#np.min(revenue , axis = 0)\n",
    "#revenue.min(axis = 0)\n",
    "#np.argmin(revenue,axis=0)\n",
    "revenue.min(0)"
   ]
  },
  {
   "cell_type": "code",
   "execution_count": 50,
   "id": "233dd85f-3641-4f4b-8caf-e696194076d6",
   "metadata": {},
   "outputs": [
    {
     "data": {
      "text/plain": [
       "array([4500, 3600, 6000, 3000, 2222])"
      ]
     },
     "execution_count": 50,
     "metadata": {},
     "output_type": "execute_result"
    }
   ],
   "source": [
    "# Minimum revenue for each product - min value in each row - axis 1\n",
    "#np.min(revenue , axis = 1)\n",
    "#revenue.min(axis = 1)\n",
    "#np.argmin(revenue , axis = 1)\n",
    "revenue.min(1)"
   ]
  },
  {
   "cell_type": "code",
   "execution_count": 55,
   "id": "22518c45-efc5-4936-ae3e-3e5659d8eea1",
   "metadata": {},
   "outputs": [
    {
     "data": {
      "text/plain": [
       "array([0, 0, 0, 0, 0])"
      ]
     },
     "execution_count": 55,
     "metadata": {},
     "output_type": "execute_result"
    }
   ],
   "source": [
    "# for each product , the quarter of min value - index of min value each row , for each products , axis 1\n",
    "#np.argmin(revenue , axis = 1)\n",
    "np.argmin(revenue , 1)"
   ]
  },
  {
   "cell_type": "code",
   "execution_count": 56,
   "id": "b8ebb651-e32e-4e8a-9fc3-22e7f3fe2584",
   "metadata": {},
   "outputs": [
    {
     "data": {
      "text/plain": [
       "array([4, 1, 1, 1])"
      ]
     },
     "execution_count": 56,
     "metadata": {},
     "output_type": "execute_result"
    }
   ],
   "source": [
    "# for each quarter , product with min value - index of min value each column , for each quarter , axis 0 \n",
    "#np.argmin(revenue , axis = 0)\n",
    "np.argmin(revenue , 0)"
   ]
  },
  {
   "cell_type": "code",
   "execution_count": 67,
   "id": "5dbc21ed-51c0-4a32-a6e0-d7f1ee625118",
   "metadata": {},
   "outputs": [
    {
     "data": {
      "text/plain": [
       "array([1, 2, 4, 4])"
      ]
     },
     "execution_count": 67,
     "metadata": {},
     "output_type": "execute_result"
    }
   ],
   "source": [
    "# for each quarter , when revenue > 5000 - axxis = 0\n",
    "#revenue > 5000\n",
    "#so in quarter 1 , only 1 product with revenue > 5000\n",
    "(revenue > 5000).sum(0)"
   ]
  },
  {
   "cell_type": "code",
   "execution_count": 68,
   "id": "04293fc2-a2b7-4598-9607-a531cd45a43f",
   "metadata": {},
   "outputs": [
    {
     "data": {
      "text/plain": [
       "array([2, 0, 4, 3, 2])"
      ]
     },
     "execution_count": 68,
     "metadata": {},
     "output_type": "execute_result"
    }
   ],
   "source": [
    "# for each product , when revenue > 5000 - axis = 1\n",
    "#so first product , only 2 quarters with revenue > 5000 but no quarters > 5000 for product 1\n",
    "(revenue > 5000).sum(1)"
   ]
  },
  {
   "cell_type": "code",
   "execution_count": null,
   "id": "9431953f-2780-4ac5-a0f4-80027ba637a8",
   "metadata": {},
   "outputs": [],
   "source": []
  }
 ],
 "metadata": {
  "kernelspec": {
   "display_name": "Python 3 (ipykernel)",
   "language": "python",
   "name": "python3"
  },
  "language_info": {
   "codemirror_mode": {
    "name": "ipython",
    "version": 3
   },
   "file_extension": ".py",
   "mimetype": "text/x-python",
   "name": "python",
   "nbconvert_exporter": "python",
   "pygments_lexer": "ipython3",
   "version": "3.9.10"
  }
 },
 "nbformat": 4,
 "nbformat_minor": 5
}
