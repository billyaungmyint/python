{
 "cells": [
  {
   "cell_type": "markdown",
   "id": "938a4a69-70e6-4160-abf6-1c5be501e288",
   "metadata": {},
   "source": [
    "## Numpy Array Creation"
   ]
  },
  {
   "cell_type": "code",
   "execution_count": 2,
   "id": "ef0f4a70-d068-4975-ae1f-919c67651050",
   "metadata": {},
   "outputs": [
    {
     "data": {
      "text/plain": [
       "array([ 7, 52,  3,  8, 10])"
      ]
     },
     "execution_count": 2,
     "metadata": {},
     "output_type": "execute_result"
    }
   ],
   "source": [
    "import numpy as np\n",
    "\n",
    "a = np.array([7,52,3,8,10])\n",
    "a"
   ]
  },
  {
   "cell_type": "code",
   "execution_count": 6,
   "id": "4918b80d-2a45-4874-a657-4ee7d89b8a3c",
   "metadata": {},
   "outputs": [
    {
     "data": {
      "text/plain": [
       "array(['7', 'my data', '3', '8', '10'], dtype='<U21')"
      ]
     },
     "execution_count": 6,
     "metadata": {},
     "output_type": "execute_result"
    }
   ],
   "source": [
    "a = np.array([7,'my data',3,8,10])\n",
    "a"
   ]
  },
  {
   "cell_type": "code",
   "execution_count": null,
   "id": "ae60386e-ed3f-442d-b539-9dea0ff4e342",
   "metadata": {},
   "outputs": [],
   "source": []
  },
  {
   "cell_type": "code",
   "execution_count": 7,
   "id": "39c0046b-0718-464b-8040-11b55654ed15",
   "metadata": {},
   "outputs": [
    {
     "data": {
      "text/plain": [
       "array([[34,  5,  6],\n",
       "       [-5, 21, 67],\n",
       "       [77, 92, -6],\n",
       "       [33, 61, 84]])"
      ]
     },
     "execution_count": 7,
     "metadata": {},
     "output_type": "execute_result"
    }
   ],
   "source": [
    "x = np.array([[34,5,6],[-5,21,67],[77,92,-6],[33,61,84]])\n",
    "x"
   ]
  },
  {
   "cell_type": "code",
   "execution_count": 9,
   "id": "a7dc04d4-91d9-4c75-9710-a87326653440",
   "metadata": {},
   "outputs": [
    {
     "data": {
      "text/plain": [
       "(4, 3)"
      ]
     },
     "execution_count": 9,
     "metadata": {},
     "output_type": "execute_result"
    }
   ],
   "source": [
    "x.shape #rows , columns"
   ]
  },
  {
   "cell_type": "code",
   "execution_count": 11,
   "id": "971d8976-7975-4073-b538-75b0bff2b923",
   "metadata": {},
   "outputs": [
    {
     "data": {
      "text/plain": [
       "4"
      ]
     },
     "execution_count": 11,
     "metadata": {},
     "output_type": "execute_result"
    }
   ],
   "source": [
    "x.shape[0] #shape of rows"
   ]
  },
  {
   "cell_type": "code",
   "execution_count": 13,
   "id": "1ad5a13a-ab93-403a-9638-b2e1c0168e0f",
   "metadata": {},
   "outputs": [
    {
     "data": {
      "text/plain": [
       "3"
      ]
     },
     "execution_count": 13,
     "metadata": {},
     "output_type": "execute_result"
    }
   ],
   "source": [
    "x.shape[1] #shape of columns"
   ]
  },
  {
   "cell_type": "code",
   "execution_count": 20,
   "id": "7bc7be02-96f5-4ffb-9fba-ee013c345344",
   "metadata": {},
   "outputs": [
    {
     "data": {
      "text/plain": [
       "67"
      ]
     },
     "execution_count": 20,
     "metadata": {},
     "output_type": "execute_result"
    }
   ],
   "source": [
    "x[1][2] #2nd row , 3rd column"
   ]
  },
  {
   "cell_type": "code",
   "execution_count": 23,
   "id": "fe158e07-46ae-438f-989f-71f154f19b9e",
   "metadata": {},
   "outputs": [
    {
     "data": {
      "text/plain": [
       "12"
      ]
     },
     "execution_count": 23,
     "metadata": {},
     "output_type": "execute_result"
    }
   ],
   "source": [
    "x.size #4 rows , 3 columns. 4 x 3 = 12"
   ]
  },
  {
   "cell_type": "code",
   "execution_count": 28,
   "id": "f1ed24de-5bfb-482b-a401-7eac297635b9",
   "metadata": {},
   "outputs": [
    {
     "data": {
      "text/plain": [
       "array([[0., 0., 0., 0.],\n",
       "       [0., 0., 0., 0.],\n",
       "       [0., 0., 0., 0.]])"
      ]
     },
     "execution_count": 28,
     "metadata": {},
     "output_type": "execute_result"
    }
   ],
   "source": [
    "np.zeros((3,4))"
   ]
  },
  {
   "cell_type": "code",
   "execution_count": 30,
   "id": "cc3d0831-8dc2-486b-b095-a7e2d044d134",
   "metadata": {},
   "outputs": [
    {
     "data": {
      "text/plain": [
       "array([[1., 1., 1.],\n",
       "       [1., 1., 1.],\n",
       "       [1., 1., 1.],\n",
       "       [1., 1., 1.]])"
      ]
     },
     "execution_count": 30,
     "metadata": {},
     "output_type": "execute_result"
    }
   ],
   "source": [
    "np.ones((4,3))"
   ]
  },
  {
   "cell_type": "code",
   "execution_count": 31,
   "id": "dbeaccd2-2421-4780-9551-45cee6031f03",
   "metadata": {},
   "outputs": [
    {
     "data": {
      "text/plain": [
       "array([['Hello', 'Hello', 'Hello', 'Hello'],\n",
       "       ['Hello', 'Hello', 'Hello', 'Hello'],\n",
       "       ['Hello', 'Hello', 'Hello', 'Hello']], dtype='<U5')"
      ]
     },
     "execution_count": 31,
     "metadata": {},
     "output_type": "execute_result"
    }
   ],
   "source": [
    "np.full((3,4),\"Hello\") #3 rows and 4 columns of \"Hello\""
   ]
  },
  {
   "cell_type": "code",
   "execution_count": 37,
   "id": "7f00bded-d376-46a1-a05b-770731ec45c5",
   "metadata": {},
   "outputs": [
    {
     "data": {
      "text/plain": [
       "array([[1., 0., 0.],\n",
       "       [0., 1., 0.],\n",
       "       [0., 0., 1.]])"
      ]
     },
     "execution_count": 37,
     "metadata": {},
     "output_type": "execute_result"
    }
   ],
   "source": [
    "np.eye(3)"
   ]
  },
  {
   "cell_type": "code",
   "execution_count": 38,
   "id": "59f44486-d808-4289-84ad-39d30530ff7a",
   "metadata": {},
   "outputs": [
    {
     "data": {
      "text/plain": [
       "array([0, 1, 2, 3])"
      ]
     },
     "execution_count": 38,
     "metadata": {},
     "output_type": "execute_result"
    }
   ],
   "source": [
    "np.arange(4)"
   ]
  },
  {
   "cell_type": "code",
   "execution_count": 39,
   "id": "57173bf5-52f6-447e-9fab-641c679336cc",
   "metadata": {},
   "outputs": [
    {
     "data": {
      "text/plain": [
       "array([ 3,  5,  7,  9, 11, 13])"
      ]
     },
     "execution_count": 39,
     "metadata": {},
     "output_type": "execute_result"
    }
   ],
   "source": [
    "np.arange(3,15,2)"
   ]
  },
  {
   "cell_type": "code",
   "execution_count": 43,
   "id": "ed956924-db8a-4c2c-a3f6-43b3c90377c7",
   "metadata": {},
   "outputs": [
    {
     "data": {
      "text/plain": [
       "array([[ 3,  4,  5],\n",
       "       [ 6,  7,  8],\n",
       "       [ 9, 10, 11],\n",
       "       [12, 13, 14]])"
      ]
     },
     "execution_count": 43,
     "metadata": {},
     "output_type": "execute_result"
    }
   ],
   "source": [
    "np.arange(3,15).reshape(4,3)"
   ]
  },
  {
   "cell_type": "code",
   "execution_count": 44,
   "id": "245fde8c-ef37-4654-bef6-8bb45a29fcc4",
   "metadata": {},
   "outputs": [
    {
     "data": {
      "text/plain": [
       "array([[0, 1, 2, 3],\n",
       "       [0, 1, 2, 3],\n",
       "       [0, 1, 2, 3]])"
      ]
     },
     "execution_count": 44,
     "metadata": {},
     "output_type": "execute_result"
    }
   ],
   "source": [
    "np.tile(np.arange(4),(3,1)) # 0 - 3 list , 3 rows and repeat 1 time in column"
   ]
  },
  {
   "cell_type": "code",
   "execution_count": 45,
   "id": "c106fb7a-f03e-4547-81fc-7c897aec0ee0",
   "metadata": {},
   "outputs": [
    {
     "data": {
      "text/plain": [
       "array([[0, 1, 2, 3, 0, 1, 2, 3],\n",
       "       [0, 1, 2, 3, 0, 1, 2, 3],\n",
       "       [0, 1, 2, 3, 0, 1, 2, 3]])"
      ]
     },
     "execution_count": 45,
     "metadata": {},
     "output_type": "execute_result"
    }
   ],
   "source": [
    "np.tile(np.arange(4),(3,2)) # 0 - 3 list , 3 rows and repeat 2 time in column"
   ]
  },
  {
   "cell_type": "code",
   "execution_count": 46,
   "id": "eeb3b6a9-6064-47fc-affe-7e98faf05bdb",
   "metadata": {},
   "outputs": [
    {
     "data": {
      "text/plain": [
       "array([[31, -4,  7, 59],\n",
       "       [31, -4,  7, 59],\n",
       "       [31, -4,  7, 59]])"
      ]
     },
     "execution_count": 46,
     "metadata": {},
     "output_type": "execute_result"
    }
   ],
   "source": [
    "np.tile(np.array([31,-4,7,59]),(3,1)) #given np array repeated in 3 rows and 1 time in column "
   ]
  },
  {
   "cell_type": "code",
   "execution_count": 47,
   "id": "cc124703-fbf1-4b03-b359-939c90b0b4b5",
   "metadata": {},
   "outputs": [
    {
     "data": {
      "text/plain": [
       "array([[31, -4,  7, 59, 31, -4,  7, 59],\n",
       "       [31, -4,  7, 59, 31, -4,  7, 59],\n",
       "       [31, -4,  7, 59, 31, -4,  7, 59]])"
      ]
     },
     "execution_count": 47,
     "metadata": {},
     "output_type": "execute_result"
    }
   ],
   "source": [
    "np.tile(np.array([31,-4,7,59]),(3,2)) #given np array repeated in 3 rows and 2 time in column "
   ]
  },
  {
   "cell_type": "code",
   "execution_count": 49,
   "id": "32065ba3-661f-4716-a44a-f270e6edd0ea",
   "metadata": {},
   "outputs": [
    {
     "data": {
      "text/plain": [
       "array([[31, -4,  7, 59, 31, -4,  7, 59],\n",
       "       [45, -8, 21,  6, 45, -8, 21,  6],\n",
       "       [31, -4,  7, 59, 31, -4,  7, 59],\n",
       "       [45, -8, 21,  6, 45, -8, 21,  6],\n",
       "       [31, -4,  7, 59, 31, -4,  7, 59],\n",
       "       [45, -8, 21,  6, 45, -8, 21,  6]])"
      ]
     },
     "execution_count": 49,
     "metadata": {},
     "output_type": "execute_result"
    }
   ],
   "source": [
    "np.tile(np.array([[31,-4,7,59],[45,-8,21,6]]),(3,2)) #given 2 dim np array repeated in 3 rows and 2 time in column "
   ]
  },
  {
   "cell_type": "code",
   "execution_count": 58,
   "id": "0948fbdd-3538-47b5-8673-9de0feceefec",
   "metadata": {},
   "outputs": [
    {
     "data": {
      "text/plain": [
       "array([[0.79407142, 0.44149236, 0.22614252, 0.41987745],\n",
       "       [0.80314815, 0.90270028, 0.33158608, 0.23454522],\n",
       "       [0.18595533, 0.18077908, 0.72820878, 0.63017934]])"
      ]
     },
     "execution_count": 58,
     "metadata": {},
     "output_type": "execute_result"
    }
   ],
   "source": [
    "np.random.random((3,4))"
   ]
  },
  {
   "cell_type": "code",
   "execution_count": 67,
   "id": "5354de22-9f45-4db7-a58d-bd6812e56e56",
   "metadata": {},
   "outputs": [
    {
     "data": {
      "text/plain": [
       "array([[65.36056598, 64.48368242, 18.97404658, 27.51549429],\n",
       "       [67.7252848 , 47.46106628, 77.90627316, 65.60321308],\n",
       "       [75.6548738 , 70.20015391,  7.75347443, 15.60389205]])"
      ]
     },
     "execution_count": 67,
     "metadata": {},
     "output_type": "execute_result"
    }
   ],
   "source": [
    "74 * np.random.random((3,4)) + 6 #random number between 6-80 in 3 rows 4 columns"
   ]
  },
  {
   "cell_type": "code",
   "execution_count": 77,
   "id": "bc2b0801-2deb-44a3-8ca9-a4ee22448c55",
   "metadata": {},
   "outputs": [
    {
     "data": {
      "text/plain": [
       "array([[0.4359949 , 0.02592623, 0.54966248, 0.43532239],\n",
       "       [0.4203678 , 0.33033482, 0.20464863, 0.61927097],\n",
       "       [0.29965467, 0.26682728, 0.62113383, 0.52914209]])"
      ]
     },
     "execution_count": 77,
     "metadata": {},
     "output_type": "execute_result"
    }
   ],
   "source": [
    "np.random.seed(2) #so that no changes to the random number below , for dev/testing\n",
    "np.random.random((3,4))"
   ]
  },
  {
   "cell_type": "code",
   "execution_count": 115,
   "id": "64e7aecd-729b-47a1-ab2e-e80198583a30",
   "metadata": {},
   "outputs": [
    {
     "data": {
      "text/plain": [
       "array([88, 39,  2,  3, 15])"
      ]
     },
     "execution_count": 115,
     "metadata": {},
     "output_type": "execute_result"
    }
   ],
   "source": [
    "#np.random.seed(55)\n",
    "a = np.array([3,-5,67,88,2,15,39,57])\n",
    "np.random.choice(a,5,replace=False) #take 5 numbers out of the np array. no replacement. so the number selected in removed from the pool for selection."
   ]
  },
  {
   "cell_type": "code",
   "execution_count": 119,
   "id": "2239be22-1338-4d74-80da-db8d3c5d1079",
   "metadata": {},
   "outputs": [
    {
     "data": {
      "text/plain": [
       "array([67, 15, 15, 39,  2])"
      ]
     },
     "execution_count": 119,
     "metadata": {},
     "output_type": "execute_result"
    }
   ],
   "source": [
    "a = np.array([3,-5,67,88,2,15,39,57])\n",
    "np.random.choice(a,5,replace=True) #take 5 numbers out of the np array. with replacement , the number can be selected multiple times ... basic prob"
   ]
  },
  {
   "cell_type": "code",
   "execution_count": 153,
   "id": "aadd41d4-21f9-439c-80c8-335f68a23918",
   "metadata": {},
   "outputs": [
    {
     "data": {
      "text/plain": [
       "array([[ 7, 13, 11, 54],\n",
       "       [74, 21, 14, 14],\n",
       "       [20, 63, 30,  8]])"
      ]
     },
     "execution_count": 153,
     "metadata": {},
     "output_type": "execute_result"
    }
   ],
   "source": [
    "np.random.randint(low = 6 , high = 80 , size=(3,4))"
   ]
  }
 ],
 "metadata": {
  "kernelspec": {
   "display_name": "Python 3 (ipykernel)",
   "language": "python",
   "name": "python3"
  },
  "language_info": {
   "codemirror_mode": {
    "name": "ipython",
    "version": 3
   },
   "file_extension": ".py",
   "mimetype": "text/x-python",
   "name": "python",
   "nbconvert_exporter": "python",
   "pygments_lexer": "ipython3",
   "version": "3.9.7"
  }
 },
 "nbformat": 4,
 "nbformat_minor": 5
}
