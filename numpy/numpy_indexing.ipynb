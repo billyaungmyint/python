{
 "cells": [
  {
   "cell_type": "markdown",
   "id": "4956fdb4-b210-4fed-8956-38f9a9b1de4c",
   "metadata": {},
   "source": [
    "## Numpy Indexing"
   ]
  },
  {
   "cell_type": "code",
   "execution_count": 9,
   "id": "ac37f185-7eb6-412b-882f-a80bfb4b6a51",
   "metadata": {},
   "outputs": [
    {
     "data": {
      "text/plain": [
       "array([[ 82,  25,  91],\n",
       "       [ 46,  -4, -56],\n",
       "       [ 75,  -5,  14],\n",
       "       [ 34,  57,  88]])"
      ]
     },
     "execution_count": 9,
     "metadata": {},
     "output_type": "execute_result"
    }
   ],
   "source": [
    "import numpy as np\n",
    "\n",
    "x = np.array([[82,25,91],[46,-4,-56],[75,-5,14],[34,57,88]])\n",
    "x"
   ]
  },
  {
   "cell_type": "code",
   "execution_count": 7,
   "id": "0b2dc237-0bb8-41a8-a417-b7807ae3e6a5",
   "metadata": {},
   "outputs": [
    {
     "name": "stdout",
     "output_type": "stream",
     "text": [
      "(4, 3)\n",
      "2\n",
      "12\n"
     ]
    }
   ],
   "source": [
    "print(x.shape)\n",
    "print(x.ndim)\n",
    "print(x.size)\n",
    "#x.reshape\n",
    "#n.arange()\n",
    "#np.eye()\n",
    "#np.full()\n",
    "#x.random.random(())\n",
    "#x.random.randint(())\n",
    "#np.zeros()\n",
    "#np.ones()"
   ]
  },
  {
   "cell_type": "code",
   "execution_count": 10,
   "id": "c0baab86-e9e8-4f87-b30c-b28bb68742ce",
   "metadata": {},
   "outputs": [
    {
     "data": {
      "text/plain": [
       "-5"
      ]
     },
     "execution_count": 10,
     "metadata": {},
     "output_type": "execute_result"
    }
   ],
   "source": [
    "x[2,1]"
   ]
  },
  {
   "cell_type": "code",
   "execution_count": 13,
   "id": "f03f2ec3-11d1-4ad8-8b18-e9593a45a0f6",
   "metadata": {},
   "outputs": [
    {
     "data": {
      "text/plain": [
       "array([[25],\n",
       "       [-4],\n",
       "       [-5],\n",
       "       [57]])"
      ]
     },
     "execution_count": 13,
     "metadata": {},
     "output_type": "execute_result"
    }
   ],
   "source": [
    "x[:,1] # 2nd column\n",
    "x[:,1].reshape(4,1) #2nd column reshaped to 4 rows 1 column "
   ]
  },
  {
   "cell_type": "code",
   "execution_count": 15,
   "id": "a8393f2a-82e4-43d9-9711-cc387508ec3e",
   "metadata": {},
   "outputs": [
    {
     "data": {
      "text/plain": [
       "array([ 46,  -4, -56])"
      ]
     },
     "execution_count": 15,
     "metadata": {},
     "output_type": "execute_result"
    }
   ],
   "source": [
    "x[1,:] #2nd row"
   ]
  },
  {
   "cell_type": "code",
   "execution_count": 16,
   "id": "2ba989af-1db0-40dc-8c8d-558f64ad4e39",
   "metadata": {},
   "outputs": [
    {
     "data": {
      "text/plain": [
       "array([[ 82,  25,  91],\n",
       "       [ 46,  -4, -56],\n",
       "       [ 75,  -5,  14],\n",
       "       [ 34,  57,  88]])"
      ]
     },
     "execution_count": 16,
     "metadata": {},
     "output_type": "execute_result"
    }
   ],
   "source": [
    "x"
   ]
  },
  {
   "cell_type": "code",
   "execution_count": 24,
   "id": "95fd01e8-1b47-47be-85f4-89dabddc0c41",
   "metadata": {},
   "outputs": [
    {
     "data": {
      "text/plain": [
       "array([25, 88, -4])"
      ]
     },
     "execution_count": 24,
     "metadata": {},
     "output_type": "execute_result"
    }
   ],
   "source": [
    "x[[0,3,1],[1,2,1]] #1st row 2nd column , 4th row , 3rd column , 2nd row 2nd column"
   ]
  },
  {
   "cell_type": "code",
   "execution_count": 26,
   "id": "51372ec9-f687-40b0-b92a-e87ab678b9ff",
   "metadata": {},
   "outputs": [
    {
     "data": {
      "text/plain": [
       "array([[ 82,  25,  91],\n",
       "       [ 46,  -4, -56],\n",
       "       [ 75,  77,  14],\n",
       "       [ 34,  57,  88]])"
      ]
     },
     "execution_count": 26,
     "metadata": {},
     "output_type": "execute_result"
    }
   ],
   "source": [
    "#x[2,1] #-5\n",
    "x[2,1] = 77 #change to 77\n",
    "x"
   ]
  },
  {
   "cell_type": "code",
   "execution_count": 27,
   "id": "26216e8d-2653-47c5-8b7a-b552ab168313",
   "metadata": {},
   "outputs": [
    {
     "data": {
      "text/plain": [
       "array([[ 82,  75,  91],\n",
       "       [ 46, 141, -56],\n",
       "       [ 75, 220,  14],\n",
       "       [ 34, 500,  88]])"
      ]
     },
     "execution_count": 27,
     "metadata": {},
     "output_type": "execute_result"
    }
   ],
   "source": [
    "x[:,1] = [75,141,220,500] #change 2nd column to these values\n",
    "x"
   ]
  },
  {
   "cell_type": "code",
   "execution_count": 31,
   "id": "e3b2b63b-aca0-4fed-ae00-5ffd77a13f3e",
   "metadata": {},
   "outputs": [
    {
     "data": {
      "text/plain": [
       "array([[ 82, 300,  91],\n",
       "       [ 46, 300, -56],\n",
       "       [ 75, 300,  14],\n",
       "       [ 34, 300,  88]])"
      ]
     },
     "execution_count": 31,
     "metadata": {},
     "output_type": "execute_result"
    }
   ],
   "source": [
    "#this is what is called numpy broadcasting. broadcasting refers to a particular value getting reflected to multiple elements in numpy \n",
    "# set all the values in 2nd column to 300\n",
    "x[:,1] = 300 \n",
    "x"
   ]
  },
  {
   "cell_type": "code",
   "execution_count": 34,
   "id": "b15914f5-ab2f-4b84-8810-cc7f95f09f2b",
   "metadata": {},
   "outputs": [
    {
     "data": {
      "text/plain": [
       "array([[ 82,  49,  91],\n",
       "       [ 46,  81, -56],\n",
       "       [ 75, 300,  14],\n",
       "       [ 34, 300,  64]])"
      ]
     },
     "execution_count": 34,
     "metadata": {},
     "output_type": "execute_result"
    }
   ],
   "source": [
    "x[[0,3,1],[1,2,1]] = [49,64,81]\n",
    "x"
   ]
  },
  {
   "cell_type": "markdown",
   "id": "e5bdde15-58bb-4908-bc54-9f0167e0dde5",
   "metadata": {},
   "source": [
    "### Boolean Indexing"
   ]
  },
  {
   "cell_type": "code",
   "execution_count": 4,
   "id": "05067a13-a943-46b7-aa5d-58d466ef6e63",
   "metadata": {},
   "outputs": [
    {
     "data": {
      "text/plain": [
       "array([[ 82,  25,  91],\n",
       "       [ 46,  -4, -56],\n",
       "       [ 75,  -5,  14],\n",
       "       [ 34,  57,  88]])"
      ]
     },
     "execution_count": 4,
     "metadata": {},
     "output_type": "execute_result"
    }
   ],
   "source": [
    "import numpy as np\n",
    "\n",
    "x = np.array([[82,25,91],[46,-4,-56],[75,-5,14],[34,57,88]])\n",
    "x"
   ]
  },
  {
   "cell_type": "code",
   "execution_count": 28,
   "id": "ff727cfc-82d0-4806-8c81-5940c8f9d978",
   "metadata": {},
   "outputs": [
    {
     "data": {
      "text/plain": [
       "array([ 82,  46,  -4, -56,  14,  34,  88])"
      ]
     },
     "execution_count": 28,
     "metadata": {},
     "output_type": "execute_result"
    }
   ],
   "source": [
    "x[x%2 == 0]"
   ]
  },
  {
   "cell_type": "code",
   "execution_count": 38,
   "id": "ebb11bd1-5078-4dc4-8309-016795089a03",
   "metadata": {},
   "outputs": [
    {
     "data": {
      "text/plain": [
       "array([[1., 0., 0.],\n",
       "       [0., 1., 0.],\n",
       "       [0., 0., 1.]])"
      ]
     },
     "execution_count": 38,
     "metadata": {},
     "output_type": "execute_result"
    }
   ],
   "source": [
    "y = np.eye(3)\n",
    "y"
   ]
  },
  {
   "cell_type": "code",
   "execution_count": 43,
   "id": "4b331f4b-d155-4ef0-a938-548c326a2ab9",
   "metadata": {},
   "outputs": [
    {
     "data": {
      "text/plain": [
       "(array([0, 1, 2]), array([0, 1, 2]))"
      ]
     },
     "execution_count": 43,
     "metadata": {},
     "output_type": "execute_result"
    }
   ],
   "source": [
    "np.where(np.array(y)==1)"
   ]
  },
  {
   "cell_type": "code",
   "execution_count": 36,
   "id": "49f5a34b-1d1f-4520-a182-7214f15761c6",
   "metadata": {},
   "outputs": [
    {
     "data": {
      "text/plain": [
       "<zip at 0x7f822ccb0f40>"
      ]
     },
     "execution_count": 36,
     "metadata": {},
     "output_type": "execute_result"
    }
   ],
   "source": [
    "zip(*np.where(np.array(y)==1))"
   ]
  },
  {
   "cell_type": "code",
   "execution_count": 56,
   "id": "4bb4d018-95e8-4be3-a7f2-17380486f6b1",
   "metadata": {},
   "outputs": [
    {
     "data": {
      "text/plain": [
       "array([76, -4, 15])"
      ]
     },
     "execution_count": 56,
     "metadata": {},
     "output_type": "execute_result"
    }
   ],
   "source": [
    "#x[0] #1st row\n",
    "#x[:,0] #1st column\n",
    "x[2] > 12 #which number in the 3rd row more than 12 ?\n",
    "sum(x[2]) > 200 #is the sum of the values in 3rd row more than 200?\n",
    "x[2] + 1 #add 1 to the values in the 3rd row"
   ]
  },
  {
   "cell_type": "code",
   "execution_count": 71,
   "id": "d22fb7d7-ba17-4f8e-9e6d-40ebfc117a40",
   "metadata": {},
   "outputs": [
    {
     "data": {
      "text/plain": [
       "array([ True, False, False,  True])"
      ]
     },
     "execution_count": 71,
     "metadata": {},
     "output_type": "execute_result"
    }
   ],
   "source": [
    "x[:,1] >=25 #true or false of the rows that have the 2nd column values that are greater than equal to 25\n",
    "#x[x[:,1] >= 25,:] #rows that have the 2nd column that are greater than equal to 25"
   ]
  },
  {
   "cell_type": "code",
   "execution_count": 76,
   "id": "722030d7-b65c-46d6-a493-a8c33036eb24",
   "metadata": {},
   "outputs": [
    {
     "data": {
      "text/plain": [
       "array([False, False, False, False])"
      ]
     },
     "execution_count": 76,
     "metadata": {},
     "output_type": "execute_result"
    }
   ],
   "source": [
    "(x[:,1] >=25) | (x[:,2] <= 0) # OR\n",
    "(x[:,1] >=25) & (x[:,2] <= 0) # AND"
   ]
  },
  {
   "cell_type": "markdown",
   "id": "15595e86-794f-452e-b9d1-b97cc0eae7f7",
   "metadata": {},
   "source": [
    "## View vs Copy"
   ]
  },
  {
   "cell_type": "code",
   "execution_count": 79,
   "id": "0127197c-2ac6-40d6-ba93-fc6405c84529",
   "metadata": {},
   "outputs": [
    {
     "name": "stdout",
     "output_type": "stream",
     "text": [
      "orig\n",
      "[[ 30  25  12]\n",
      " [ 21  -5   8]\n",
      " [ 75  14 100]\n",
      " [ 50  92 700]]\n",
      "orig after modification\n",
      "[[    30     25 -11111]\n",
      " [    21     -5      8]\n",
      " [    75     14    100]\n",
      " [    50     92    700]]\n"
     ]
    }
   ],
   "source": [
    "orig = np.array([[30,25,12],[21,-5,8],[75,14,100],[50,92,700]])\n",
    "print(\"orig\")\n",
    "print(orig)\n",
    "y = orig #y is a not a copy but pointer to the orig\n",
    "y[0,2] = -11111 #change 1st row , 3rd column to -11111\n",
    "print(\"orig after modification\")\n",
    "print(orig)"
   ]
  },
  {
   "cell_type": "code",
   "execution_count": 83,
   "id": "3e2839aa-ccaf-4016-af61-62fbb41fc00b",
   "metadata": {},
   "outputs": [
    {
     "name": "stdout",
     "output_type": "stream",
     "text": [
      "orig\n",
      "[[ 30  25  12]\n",
      " [ 21  -5   8]\n",
      " [ 75  14 100]\n",
      " [ 50  92 700]]\n",
      "new\n",
      "[[ 21  -5   8]\n",
      " [ 75  14 100]]\n"
     ]
    }
   ],
   "source": [
    "orig = np.array([[30,25,12],[21,-5,8],[75,14,100],[50,92,700]])\n",
    "print(\"orig\")\n",
    "print(orig)\n",
    "new = orig[1:3] # get 2nd row and 3rd row from orig and assign to a new variable\n",
    "print('new')\n",
    "print(new)"
   ]
  },
  {
   "cell_type": "code",
   "execution_count": 85,
   "id": "51c820fc-eb05-4e96-ac5c-40d9f73faa95",
   "metadata": {},
   "outputs": [
    {
     "name": "stdout",
     "output_type": "stream",
     "text": [
      "new after modification\n",
      "[[    21 -11111      8]\n",
      " [    75     14   5000]]\n",
      "orig\n",
      "[[    30     25     12]\n",
      " [    21 -11111      8]\n",
      " [    75     14   5000]\n",
      " [    50     92    700]]\n"
     ]
    }
   ],
   "source": [
    "new[1,2] = 5000\n",
    "print('new after modification')\n",
    "print(new)\n",
    "print('orig')\n",
    "print(orig)"
   ]
  },
  {
   "cell_type": "code",
   "execution_count": 86,
   "id": "42126d6a-7117-4b35-b1a8-f07512a51cd3",
   "metadata": {},
   "outputs": [
    {
     "name": "stdout",
     "output_type": "stream",
     "text": [
      "orig\n",
      "[[ 30  25  12]\n",
      " [ 21  -5   8]\n",
      " [ 75  14 100]\n",
      " [ 50  92 700]]\n",
      "new after modification\n",
      "[[  21   -5    8]\n",
      " [  75   14 5000]]\n",
      "orig\n",
      "[[ 30  25  12]\n",
      " [ 21  -5   8]\n",
      " [ 75  14 100]\n",
      " [ 50  92 700]]\n"
     ]
    }
   ],
   "source": [
    "orig = np.array([[30,25,12],[21,-5,8],[75,14,100],[50,92,700]])\n",
    "print(\"orig\")\n",
    "print(orig)\n",
    "new = orig[1:3].copy() #this time new is not pointing to the orig since it is copied\n",
    "new[1,2] = 5000 #no changes to the orig\n",
    "print('new after modification')\n",
    "print(new)\n",
    "print('orig')\n",
    "print(orig)"
   ]
  },
  {
   "cell_type": "code",
   "execution_count": 88,
   "id": "0af3755b-c8fd-47f5-aaba-e4a2d5a52e22",
   "metadata": {},
   "outputs": [
    {
     "name": "stdout",
     "output_type": "stream",
     "text": [
      "new\n",
      "[12 50 -5]\n"
     ]
    }
   ],
   "source": [
    "orig = np.array([[30,25,12],[21,-5,8],[75,14,100],[50,92,700]])\n",
    "new = orig[[0,3,1],[2,0,1]] #same as copy ?\n",
    "print('new')\n",
    "print(new)"
   ]
  },
  {
   "cell_type": "code",
   "execution_count": 89,
   "id": "5c0646f0-e2fa-47c7-8e7d-9c71b55d9ca9",
   "metadata": {},
   "outputs": [
    {
     "name": "stdout",
     "output_type": "stream",
     "text": [
      "\n",
      "[  12   50 5000]\n",
      "\n",
      "original after modification\n",
      "[[ 30  25  12]\n",
      " [ 21  -5   8]\n",
      " [ 75  14 100]\n",
      " [ 50  92 700]]\n"
     ]
    }
   ],
   "source": [
    "new[2] = 5000\n",
    "print()\n",
    "print(new)\n",
    "print()\n",
    "print('original after modification')\n",
    "print(orig)\n"
   ]
  },
  {
   "cell_type": "code",
   "execution_count": 91,
   "id": "c34a987e-e37b-4eb8-8169-3e88fd31efca",
   "metadata": {},
   "outputs": [
    {
     "name": "stdout",
     "output_type": "stream",
     "text": [
      "\n",
      "[[ 30  25  12]\n",
      " [ 50  92 700]]\n"
     ]
    }
   ],
   "source": [
    "orig = np.array([[30,25,12],[21,-5,8],[75,14,100],[50,92,700]])\n",
    "new = orig[orig[:,1]>=25] #check all the rows and 2nd column and return the result,row i=if 2nd column is more than or equal to 25 \n",
    "#above is also a copy\n",
    "print()\n",
    "print(new)"
   ]
  },
  {
   "cell_type": "code",
   "execution_count": 92,
   "id": "3b8094f7-d1f1-45a8-b25a-08f0b8450185",
   "metadata": {},
   "outputs": [
    {
     "name": "stdout",
     "output_type": "stream",
     "text": [
      "\n",
      "[[  30   25   12]\n",
      " [  50   92 5000]]\n",
      "\n",
      "original after modification\n",
      "[[ 30  25  12]\n",
      " [ 21  -5   8]\n",
      " [ 75  14 100]\n",
      " [ 50  92 700]]\n"
     ]
    }
   ],
   "source": [
    "new[1,2] = 5000\n",
    "print()\n",
    "print(new)\n",
    "print()\n",
    "print('original after modification')\n",
    "print(orig)"
   ]
  },
  {
   "cell_type": "code",
   "execution_count": 93,
   "id": "6f9ddc8d-c2fa-4514-9298-7299d841a17e",
   "metadata": {},
   "outputs": [
    {
     "name": "stdout",
     "output_type": "stream",
     "text": [
      "[[130 125 112]\n",
      " [ 21  -5   8]\n",
      " [ 75  14 100]\n",
      " [150 192 800]]\n"
     ]
    }
   ],
   "source": [
    "#change the original directly\n",
    "orig[orig[:,1]>=25] += 100\n",
    "print(orig)"
   ]
  }
 ],
 "metadata": {
  "kernelspec": {
   "display_name": "Python 3 (ipykernel)",
   "language": "python",
   "name": "python3"
  },
  "language_info": {
   "codemirror_mode": {
    "name": "ipython",
    "version": 3
   },
   "file_extension": ".py",
   "mimetype": "text/x-python",
   "name": "python",
   "nbconvert_exporter": "python",
   "pygments_lexer": "ipython3",
   "version": "3.9.7"
  }
 },
 "nbformat": 4,
 "nbformat_minor": 5
}
