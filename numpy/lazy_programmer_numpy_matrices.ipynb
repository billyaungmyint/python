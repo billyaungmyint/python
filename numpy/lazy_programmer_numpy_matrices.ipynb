{
 "cells": [
  {
   "cell_type": "markdown",
   "id": "f7cd5100-a4e6-450f-a862-edfdde49355f",
   "metadata": {},
   "source": [
    "# Lazy Programmer - Nupy Matrices"
   ]
  },
  {
   "cell_type": "code",
   "execution_count": 2,
   "id": "d13355c4-52f3-49a0-9815-878978e189a8",
   "metadata": {},
   "outputs": [
    {
     "data": {
      "text/plain": [
       "[[1, 2], [3, 4]]"
      ]
     },
     "execution_count": 2,
     "metadata": {},
     "output_type": "execute_result"
    }
   ],
   "source": [
    "L = [[1,2],[3,4]]\n",
    "L"
   ]
  },
  {
   "cell_type": "code",
   "execution_count": 5,
   "id": "607bbea8-b70d-4845-b3ee-2cab9bed810f",
   "metadata": {},
   "outputs": [
    {
     "data": {
      "text/plain": [
       "[1, 2]"
      ]
     },
     "execution_count": 5,
     "metadata": {},
     "output_type": "execute_result"
    }
   ],
   "source": [
    "L[0]"
   ]
  },
  {
   "cell_type": "code",
   "execution_count": 6,
   "id": "2ba24079-383a-41c8-b84f-9fc7b9000643",
   "metadata": {},
   "outputs": [
    {
     "data": {
      "text/plain": [
       "2"
      ]
     },
     "execution_count": 6,
     "metadata": {},
     "output_type": "execute_result"
    }
   ],
   "source": [
    "L[0][1]"
   ]
  },
  {
   "cell_type": "code",
   "execution_count": 10,
   "id": "d2bfc76a-c7ad-45af-92fe-053bd090e808",
   "metadata": {},
   "outputs": [],
   "source": [
    "import numpy as np"
   ]
  },
  {
   "cell_type": "code",
   "execution_count": 12,
   "id": "1699adca-6fe9-4043-8ad5-a44f6095691a",
   "metadata": {
    "tags": []
   },
   "outputs": [
    {
     "data": {
      "text/plain": [
       "array([[1, 2],\n",
       "       [3, 4]])"
      ]
     },
     "execution_count": 12,
     "metadata": {},
     "output_type": "execute_result"
    }
   ],
   "source": [
    "A = np.array([[1,2],[3,4]])\n",
    "A"
   ]
  },
  {
   "cell_type": "code",
   "execution_count": 13,
   "id": "6d8aecad-d8ee-4d51-8e1c-6445affeb91b",
   "metadata": {},
   "outputs": [
    {
     "data": {
      "text/plain": [
       "2"
      ]
     },
     "execution_count": 13,
     "metadata": {},
     "output_type": "execute_result"
    }
   ],
   "source": [
    "A[0][1]"
   ]
  },
  {
   "cell_type": "code",
   "execution_count": 14,
   "id": "9b4155b8-255a-4fa5-b7e9-013687c8ca85",
   "metadata": {},
   "outputs": [
    {
     "data": {
      "text/plain": [
       "2"
      ]
     },
     "execution_count": 14,
     "metadata": {},
     "output_type": "execute_result"
    }
   ],
   "source": [
    "A[0,1]"
   ]
  },
  {
   "cell_type": "code",
   "execution_count": 15,
   "id": "0317389b-2f56-4fe8-bd8f-447d32ce8025",
   "metadata": {},
   "outputs": [
    {
     "data": {
      "text/plain": [
       "array([1, 3])"
      ]
     },
     "execution_count": 15,
     "metadata": {},
     "output_type": "execute_result"
    }
   ],
   "source": [
    "A[:,0]"
   ]
  },
  {
   "cell_type": "code",
   "execution_count": 16,
   "id": "f27e8460-2dc2-465d-99bb-5d751bd75c0c",
   "metadata": {},
   "outputs": [
    {
     "data": {
      "text/plain": [
       "array([[1, 3],\n",
       "       [2, 4]])"
      ]
     },
     "execution_count": 16,
     "metadata": {},
     "output_type": "execute_result"
    }
   ],
   "source": [
    "A.T"
   ]
  },
  {
   "cell_type": "code",
   "execution_count": 17,
   "id": "448e03dc-58d4-426b-a147-3ba751cc453b",
   "metadata": {},
   "outputs": [
    {
     "data": {
      "text/plain": [
       "array([[ 2.71828183,  7.3890561 ],\n",
       "       [20.08553692, 54.59815003]])"
      ]
     },
     "execution_count": 17,
     "metadata": {},
     "output_type": "execute_result"
    }
   ],
   "source": [
    "np.exp(A)"
   ]
  },
  {
   "cell_type": "code",
   "execution_count": 18,
   "id": "83c51865-fb42-4b18-b02a-b452dd10172f",
   "metadata": {},
   "outputs": [
    {
     "data": {
      "text/plain": [
       "array([[ 2.71828183,  7.3890561 ],\n",
       "       [20.08553692, 54.59815003]])"
      ]
     },
     "execution_count": 18,
     "metadata": {},
     "output_type": "execute_result"
    }
   ],
   "source": [
    "np.exp(L)"
   ]
  },
  {
   "cell_type": "code",
   "execution_count": 20,
   "id": "89430925-e4f9-4b33-ade1-7a73e30bb7fe",
   "metadata": {},
   "outputs": [
    {
     "data": {
      "text/plain": [
       "array([[1, 2, 3],\n",
       "       [4, 5, 6]])"
      ]
     },
     "execution_count": 20,
     "metadata": {},
     "output_type": "execute_result"
    }
   ],
   "source": [
    "B = np.array([[1,2,3],[4,5,6]])\n",
    "B"
   ]
  },
  {
   "cell_type": "code",
   "execution_count": 22,
   "id": "8a5c06b7-4c42-409c-bb56-b98e64ea74db",
   "metadata": {},
   "outputs": [
    {
     "data": {
      "text/plain": [
       "array([[ 9, 12, 15],\n",
       "       [19, 26, 33]])"
      ]
     },
     "execution_count": 22,
     "metadata": {},
     "output_type": "execute_result"
    }
   ],
   "source": [
    "A.dot(B)"
   ]
  },
  {
   "cell_type": "code",
   "execution_count": 25,
   "id": "5083e951-b9b9-4dd6-9ea9-6773a7eaffdf",
   "metadata": {},
   "outputs": [
    {
     "data": {
      "text/plain": [
       "array([1, 4])"
      ]
     },
     "execution_count": 25,
     "metadata": {},
     "output_type": "execute_result"
    }
   ],
   "source": [
    "np.diag(A)"
   ]
  },
  {
   "cell_type": "code",
   "execution_count": 26,
   "id": "71ffaa76-54e4-46b9-9a62-f5eb74a47894",
   "metadata": {},
   "outputs": [
    {
     "data": {
      "text/plain": [
       "array([[1, 0],\n",
       "       [0, 4]])"
      ]
     },
     "execution_count": 26,
     "metadata": {},
     "output_type": "execute_result"
    }
   ],
   "source": [
    "np.diag([1,4])"
   ]
  },
  {
   "cell_type": "code",
   "execution_count": 27,
   "id": "21c24cba-0330-4669-baf7-5f2cf015becf",
   "metadata": {},
   "outputs": [
    {
     "data": {
      "text/plain": [
       "(array([-0.37228132,  5.37228132]),\n",
       " array([[-0.82456484, -0.41597356],\n",
       "        [ 0.56576746, -0.90937671]]))"
      ]
     },
     "execution_count": 27,
     "metadata": {},
     "output_type": "execute_result"
    }
   ],
   "source": [
    "np.linalg.eig(A)"
   ]
  },
  {
   "cell_type": "code",
   "execution_count": null,
   "id": "6abc85d8-fdc0-4888-91c6-d69915cee48f",
   "metadata": {},
   "outputs": [],
   "source": []
  }
 ],
 "metadata": {
  "kernelspec": {
   "display_name": "Python 3 (ipykernel)",
   "language": "python",
   "name": "python3"
  },
  "language_info": {
   "codemirror_mode": {
    "name": "ipython",
    "version": 3
   },
   "file_extension": ".py",
   "mimetype": "text/x-python",
   "name": "python",
   "nbconvert_exporter": "python",
   "pygments_lexer": "ipython3",
   "version": "3.9.12"
  }
 },
 "nbformat": 4,
 "nbformat_minor": 5
}
