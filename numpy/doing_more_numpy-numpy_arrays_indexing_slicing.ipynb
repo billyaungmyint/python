{
 "cells": [
  {
   "cell_type": "markdown",
   "id": "61009853-2d01-40ee-8628-2c53f4410923",
   "metadata": {},
   "source": [
    "# Doing More Numpy - Array Indexing and Slicing"
   ]
  },
  {
   "cell_type": "markdown",
   "id": "0adf4448-cdf1-4069-a69d-4df0f877d3b4",
   "metadata": {
    "tags": []
   },
   "source": [
    "### axis 0 - vertical\n",
    "### axis 1 - horizontal"
   ]
  },
  {
   "cell_type": "markdown",
   "id": "d2c1511a-5c08-4c9b-b9dd-82a879eff7b2",
   "metadata": {},
   "source": [
    "### For 3 dimensions , 3 axis"
   ]
  },
  {
   "cell_type": "code",
   "execution_count": 8,
   "id": "70ed50f7-4233-4031-971a-605f6dcbc5e0",
   "metadata": {},
   "outputs": [],
   "source": [
    "import numpy as np\n",
    "import pandas as pd\n",
    "import os"
   ]
  },
  {
   "cell_type": "code",
   "execution_count": 12,
   "id": "dc940a73-4d62-4cf9-a08c-7b4f97abf364",
   "metadata": {},
   "outputs": [],
   "source": [
    "df = pd.read_csv('data/sales_pdt_qtr_v2.csv')"
   ]
  },
  {
   "cell_type": "code",
   "execution_count": 13,
   "id": "c112ea33-aa6c-49e8-97d0-25706a69bab0",
   "metadata": {},
   "outputs": [],
   "source": [
    "sales = df['Sales'].to_numpy()"
   ]
  },
  {
   "cell_type": "code",
   "execution_count": 14,
   "id": "cfce9f92-1211-4841-9989-061e4de31b4c",
   "metadata": {},
   "outputs": [
    {
     "data": {
      "text/plain": [
       "array([ 450,  500,  600,  550,   45,   55,   60,   60, 4000, 6000, 8000,\n",
       "       9000,   10,   20,   30,   20, 1111, 2222, 3333, 4444])"
      ]
     },
     "execution_count": 14,
     "metadata": {},
     "output_type": "execute_result"
    }
   ],
   "source": [
    "sales"
   ]
  },
  {
   "cell_type": "code",
   "execution_count": 16,
   "id": "6fba5491-28ae-4942-b877-854570c9e588",
   "metadata": {},
   "outputs": [
    {
     "data": {
      "text/plain": [
       "(20,)"
      ]
     },
     "execution_count": 16,
     "metadata": {},
     "output_type": "execute_result"
    }
   ],
   "source": [
    "sales.shape"
   ]
  },
  {
   "cell_type": "code",
   "execution_count": 22,
   "id": "0897afd5-87db-45d9-b8dd-43412b267b04",
   "metadata": {},
   "outputs": [],
   "source": [
    "sales = sales.reshape(5,-1) # 5,4 or 5,-1 or -1,4 "
   ]
  },
  {
   "cell_type": "markdown",
   "id": "aece6d42-c2f9-48df-81ee-10765e584f82",
   "metadata": {},
   "source": [
    "### 1D array"
   ]
  },
  {
   "cell_type": "code",
   "execution_count": 23,
   "id": "89481712-b920-45eb-b467-c68b8dbb2a88",
   "metadata": {},
   "outputs": [
    {
     "data": {
      "text/plain": [
       "array([[ 450,  500,  600,  550],\n",
       "       [  45,   55,   60,   60],\n",
       "       [4000, 6000, 8000, 9000],\n",
       "       [  10,   20,   30,   20],\n",
       "       [1111, 2222, 3333, 4444]])"
      ]
     },
     "execution_count": 23,
     "metadata": {},
     "output_type": "execute_result"
    }
   ],
   "source": [
    "sales"
   ]
  },
  {
   "cell_type": "code",
   "execution_count": 21,
   "id": "e28e2335-fbf0-4ec6-8974-fb907687da0c",
   "metadata": {},
   "outputs": [
    {
     "data": {
      "text/plain": [
       "array([450, 500, 600, 550])"
      ]
     },
     "execution_count": 21,
     "metadata": {},
     "output_type": "execute_result"
    }
   ],
   "source": [
    "sales[0] # first row "
   ]
  },
  {
   "cell_type": "code",
   "execution_count": 24,
   "id": "9615b43f-af5c-4cf0-8ffd-cca9acec718e",
   "metadata": {},
   "outputs": [
    {
     "data": {
      "text/plain": [
       "array([[4000, 6000, 8000, 9000],\n",
       "       [  10,   20,   30,   20],\n",
       "       [1111, 2222, 3333, 4444]])"
      ]
     },
     "execution_count": 24,
     "metadata": {},
     "output_type": "execute_result"
    }
   ],
   "source": [
    "sales[2:] #row 3 to end "
   ]
  },
  {
   "cell_type": "code",
   "execution_count": 25,
   "id": "9bf964f6-f5c0-4b77-bdeb-bf718a8cc3f2",
   "metadata": {},
   "outputs": [
    {
     "data": {
      "text/plain": [
       "array([[ 450,  500,  600,  550],\n",
       "       [4000, 6000, 8000, 9000],\n",
       "       [  10,   20,   30,   20]])"
      ]
     },
     "execution_count": 25,
     "metadata": {},
     "output_type": "execute_result"
    }
   ],
   "source": [
    "sales[[0,2,3]]"
   ]
  },
  {
   "cell_type": "markdown",
   "id": "70c80c2c-acc4-49d2-8a94-626c52dcfa2a",
   "metadata": {},
   "source": [
    "### 2D array"
   ]
  },
  {
   "cell_type": "code",
   "execution_count": 26,
   "id": "ec108f41-1107-490f-98f8-aa67bc97d52c",
   "metadata": {},
   "outputs": [
    {
     "data": {
      "text/plain": [
       "array([[ 450,  500,  600,  550],\n",
       "       [  45,   55,   60,   60],\n",
       "       [4000, 6000, 8000, 9000],\n",
       "       [  10,   20,   30,   20],\n",
       "       [1111, 2222, 3333, 4444]])"
      ]
     },
     "execution_count": 26,
     "metadata": {},
     "output_type": "execute_result"
    }
   ],
   "source": [
    "sales"
   ]
  },
  {
   "cell_type": "code",
   "execution_count": 27,
   "id": "75139122-5a90-4fbb-b3ec-3918fc9c4e12",
   "metadata": {},
   "outputs": [
    {
     "data": {
      "text/plain": [
       "array([ 450,   45, 4000,   10, 1111])"
      ]
     },
     "execution_count": 27,
     "metadata": {},
     "output_type": "execute_result"
    }
   ],
   "source": [
    "sales[:,0] #the first column , all the rows since :"
   ]
  },
  {
   "cell_type": "code",
   "execution_count": 28,
   "id": "2caa39db-c929-4648-896f-2305892026cc",
   "metadata": {},
   "outputs": [
    {
     "data": {
      "text/plain": [
       "array([[ 450,  500,  600],\n",
       "       [  45,   55,   60],\n",
       "       [4000, 6000, 8000],\n",
       "       [  10,   20,   30],\n",
       "       [1111, 2222, 3333]])"
      ]
     },
     "execution_count": 28,
     "metadata": {},
     "output_type": "execute_result"
    }
   ],
   "source": [
    "sales[:,0:3] #first 3 columns , all the rows since :"
   ]
  },
  {
   "cell_type": "code",
   "execution_count": 29,
   "id": "2e16666f-dceb-4392-8490-72b44b5d023b",
   "metadata": {},
   "outputs": [
    {
     "data": {
      "text/plain": [
       "array([[ 500,  550],\n",
       "       [  55,   60],\n",
       "       [6000, 9000],\n",
       "       [  20,   20],\n",
       "       [2222, 4444]])"
      ]
     },
     "execution_count": 29,
     "metadata": {},
     "output_type": "execute_result"
    }
   ],
   "source": [
    "sales[:,[1,3]] # 2nd and 4th columns , all the rows since :"
   ]
  },
  {
   "cell_type": "code",
   "execution_count": 30,
   "id": "63397acd-2b91-4b0a-b8c3-e7d41b0f91de",
   "metadata": {},
   "outputs": [
    {
     "data": {
      "text/plain": [
       "60"
      ]
     },
     "execution_count": 30,
     "metadata": {},
     "output_type": "execute_result"
    }
   ],
   "source": [
    "sales[1,3]"
   ]
  },
  {
   "cell_type": "code",
   "execution_count": 31,
   "id": "e0639c4e-305b-4c40-a3db-8fea9fd08ad6",
   "metadata": {},
   "outputs": [
    {
     "data": {
      "text/plain": [
       "array([[ 600,  550],\n",
       "       [  60,   60],\n",
       "       [8000, 9000]])"
      ]
     },
     "execution_count": 31,
     "metadata": {},
     "output_type": "execute_result"
    }
   ],
   "source": [
    "sales[0:3,2:]"
   ]
  },
  {
   "cell_type": "code",
   "execution_count": 36,
   "id": "ceb8e04e-c63c-47a2-9acc-ca9e691bd4da",
   "metadata": {},
   "outputs": [
    {
     "data": {
      "text/plain": [
       "array([[ 450,  550],\n",
       "       [4000, 9000],\n",
       "       [1111, 4444]])"
      ]
     },
     "execution_count": 36,
     "metadata": {},
     "output_type": "execute_result"
    }
   ],
   "source": [
    "# error - sales[[0,2,4],[0,3]]\n",
    "sales[[0,2,4]][:,[0,3]] #slicing twice ...."
   ]
  },
  {
   "cell_type": "code",
   "execution_count": 37,
   "id": "f193fe0e-953d-4ec2-ad04-fc2bba84c09f",
   "metadata": {},
   "outputs": [
    {
     "data": {
      "text/plain": [
       "array([ 450, 4444])"
      ]
     },
     "execution_count": 37,
     "metadata": {},
     "output_type": "execute_result"
    }
   ],
   "source": [
    "sales[[0,4],[0,3]] # 0,0 and 4,3"
   ]
  },
  {
   "cell_type": "code",
   "execution_count": 41,
   "id": "4d271c44-da86-4497-a1b5-dee5039fa472",
   "metadata": {},
   "outputs": [
    {
     "data": {
      "text/plain": [
       "array([[  45,   55,   60],\n",
       "       [4000, 6000, 9000],\n",
       "       [  10,   20,   20]])"
      ]
     },
     "execution_count": 41,
     "metadata": {},
     "output_type": "execute_result"
    }
   ],
   "source": [
    "sales[1:4,[0,1,3]]"
   ]
  },
  {
   "cell_type": "code",
   "execution_count": null,
   "id": "51e65c5a-e113-4ac3-89ad-64eba8a027c9",
   "metadata": {},
   "outputs": [],
   "source": []
  }
 ],
 "metadata": {
  "kernelspec": {
   "display_name": "Python 3 (ipykernel)",
   "language": "python",
   "name": "python3"
  },
  "language_info": {
   "codemirror_mode": {
    "name": "ipython",
    "version": 3
   },
   "file_extension": ".py",
   "mimetype": "text/x-python",
   "name": "python",
   "nbconvert_exporter": "python",
   "pygments_lexer": "ipython3",
   "version": "3.9.7"
  }
 },
 "nbformat": 4,
 "nbformat_minor": 5
}
