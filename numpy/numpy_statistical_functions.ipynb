{
 "cells": [
  {
   "cell_type": "markdown",
   "id": "7e320241-b3b8-4713-9bec-0549886d676b",
   "metadata": {},
   "source": [
    "# Numpy Statistical Functions"
   ]
  },
  {
   "cell_type": "code",
   "execution_count": 2,
   "id": "16dff2e6-07ef-4d30-b7b5-26f1d0c386e6",
   "metadata": {},
   "outputs": [],
   "source": [
    "import numpy as np"
   ]
  },
  {
   "cell_type": "code",
   "execution_count": 3,
   "id": "8c161432-b6de-4acd-b092-11f449c3c553",
   "metadata": {},
   "outputs": [],
   "source": [
    "y = np.array([6,12,8,4,15,52,7])"
   ]
  },
  {
   "cell_type": "code",
   "execution_count": 5,
   "id": "966c6f84-5040-4804-acc3-b1d196411f3a",
   "metadata": {},
   "outputs": [
    {
     "data": {
      "text/plain": [
       "104"
      ]
     },
     "execution_count": 5,
     "metadata": {},
     "output_type": "execute_result"
    }
   ],
   "source": [
    "np.sum(y) # or y.sum as below"
   ]
  },
  {
   "cell_type": "code",
   "execution_count": 9,
   "id": "bd63ac59-1d89-49e6-a467-48caa0c0707e",
   "metadata": {},
   "outputs": [
    {
     "data": {
      "text/plain": [
       "104"
      ]
     },
     "execution_count": 9,
     "metadata": {},
     "output_type": "execute_result"
    }
   ],
   "source": [
    "y.sum()"
   ]
  },
  {
   "cell_type": "code",
   "execution_count": 10,
   "id": "72721def-415d-49eb-935f-32266802fe77",
   "metadata": {},
   "outputs": [
    {
     "data": {
      "text/plain": [
       "4"
      ]
     },
     "execution_count": 10,
     "metadata": {},
     "output_type": "execute_result"
    }
   ],
   "source": [
    "np.min(y)"
   ]
  },
  {
   "cell_type": "code",
   "execution_count": 11,
   "id": "c5f85b0d-b39f-4984-a98b-3319a7b65441",
   "metadata": {},
   "outputs": [
    {
     "data": {
      "text/plain": [
       "52"
      ]
     },
     "execution_count": 11,
     "metadata": {},
     "output_type": "execute_result"
    }
   ],
   "source": [
    "np.max(y)"
   ]
  },
  {
   "cell_type": "code",
   "execution_count": 13,
   "id": "68b27111-6853-47bc-ac52-367f66af1732",
   "metadata": {},
   "outputs": [
    {
     "data": {
      "text/plain": [
       "52"
      ]
     },
     "execution_count": 13,
     "metadata": {},
     "output_type": "execute_result"
    }
   ],
   "source": [
    "y.max()"
   ]
  },
  {
   "cell_type": "code",
   "execution_count": 15,
   "id": "4fbbcac8-fd57-4b9a-82d7-f15d4b0be858",
   "metadata": {},
   "outputs": [
    {
     "data": {
      "text/plain": [
       "4"
      ]
     },
     "execution_count": 15,
     "metadata": {},
     "output_type": "execute_result"
    }
   ],
   "source": [
    "y.min()"
   ]
  },
  {
   "cell_type": "code",
   "execution_count": 17,
   "id": "15e4ddb9-cff2-4083-bb3f-66fd1fba4ef6",
   "metadata": {},
   "outputs": [
    {
     "data": {
      "text/plain": [
       "145"
      ]
     },
     "execution_count": 17,
     "metadata": {},
     "output_type": "execute_result"
    }
   ],
   "source": [
    "l1 = [23,45,77]\n",
    "np.sum(l1)"
   ]
  },
  {
   "cell_type": "code",
   "execution_count": 18,
   "id": "a2be9ae7-ddd1-4648-9976-d5683f0bf7c1",
   "metadata": {},
   "outputs": [
    {
     "ename": "AttributeError",
     "evalue": "'list' object has no attribute 'sum'",
     "output_type": "error",
     "traceback": [
      "\u001b[0;31m---------------------------------------------------------------------------\u001b[0m",
      "\u001b[0;31mAttributeError\u001b[0m                            Traceback (most recent call last)",
      "\u001b[0;32m/tmp/ipykernel_26744/1335773743.py\u001b[0m in \u001b[0;36m<module>\u001b[0;34m\u001b[0m\n\u001b[0;32m----> 1\u001b[0;31m \u001b[0ml1\u001b[0m\u001b[0;34m.\u001b[0m\u001b[0msum\u001b[0m\u001b[0;34m(\u001b[0m\u001b[0;34m)\u001b[0m\u001b[0;34m\u001b[0m\u001b[0;34m\u001b[0m\u001b[0m\n\u001b[0m",
      "\u001b[0;31mAttributeError\u001b[0m: 'list' object has no attribute 'sum'"
     ]
    }
   ],
   "source": [
    "l1.sum() #this won't work"
   ]
  },
  {
   "cell_type": "code",
   "execution_count": 20,
   "id": "7ab8ef3f-6445-49b3-9ff1-2c2bf6d309a5",
   "metadata": {},
   "outputs": [
    {
     "data": {
      "text/plain": [
       "array([ 6, 12,  8,  4, 15, 52,  7])"
      ]
     },
     "execution_count": 20,
     "metadata": {},
     "output_type": "execute_result"
    }
   ],
   "source": [
    "y"
   ]
  },
  {
   "cell_type": "markdown",
   "id": "dfed3f76-6415-4244-bbff-1e98b508a269",
   "metadata": {},
   "source": [
    "### Get the index of min , max and sorted np array"
   ]
  },
  {
   "cell_type": "code",
   "execution_count": 25,
   "id": "e9af5afd-f602-48da-8629-c2d485692cd0",
   "metadata": {},
   "outputs": [
    {
     "name": "stdout",
     "output_type": "stream",
     "text": [
      "3\n",
      "5\n",
      "[3 0 6 2 1 4 5]\n"
     ]
    }
   ],
   "source": [
    "print(np.argmin(y)) \n",
    "print(np.argmax(y))\n",
    "print(np.argsort(y))"
   ]
  },
  {
   "cell_type": "code",
   "execution_count": 28,
   "id": "d7c7fd44-7f6f-4845-9604-1a098d6ffc46",
   "metadata": {},
   "outputs": [
    {
     "name": "stdout",
     "output_type": "stream",
     "text": [
      "4\n",
      "4\n",
      "4\n"
     ]
    }
   ],
   "source": [
    "print(y[np.argmin(y)])\n",
    "print(np.min(y))\n",
    "print(y.min())"
   ]
  },
  {
   "cell_type": "code",
   "execution_count": 31,
   "id": "b18ed9eb-028a-4ef4-b491-e43b66ca5250",
   "metadata": {},
   "outputs": [
    {
     "name": "stdout",
     "output_type": "stream",
     "text": [
      "[[20  1 18 26]\n",
      " [12  7 22  9]\n",
      " [25 31 16 14]]\n"
     ]
    }
   ],
   "source": [
    "x = np.array([[20,1,18,26],[12,7,22,9],[25,31,16,14]])\n",
    "print(x)"
   ]
  },
  {
   "cell_type": "markdown",
   "id": "124e0934-44d6-430b-94c0-720ce7caa316",
   "metadata": {},
   "source": [
    "### Axis = 0 --->  collapses rows into a single aggregate row."
   ]
  },
  {
   "cell_type": "markdown",
   "id": "4ade0656-aa14-4798-bd27-7e8be3a62d7e",
   "metadata": {},
   "source": [
    "### Axis = 1 ----> collapses columns into a single aggregate column."
   ]
  },
  {
   "cell_type": "code",
   "execution_count": 35,
   "id": "f49f2292-f68b-4ad1-892d-89a76ecbb595",
   "metadata": {},
   "outputs": [
    {
     "data": {
      "text/plain": [
       "array([57, 39, 56, 49])"
      ]
     },
     "execution_count": 35,
     "metadata": {},
     "output_type": "execute_result"
    }
   ],
   "source": [
    "np.sum(x, axis = 0) # 3 rows become 1 aggregate row"
   ]
  },
  {
   "cell_type": "code",
   "execution_count": 37,
   "id": "30af80fe-4751-40fa-ac18-17fb3923cbe5",
   "metadata": {},
   "outputs": [
    {
     "data": {
      "text/plain": [
       "array([65, 50, 86])"
      ]
     },
     "execution_count": 37,
     "metadata": {},
     "output_type": "execute_result"
    }
   ],
   "source": [
    "np.sum(x , axis = 1) # 4 columns become 1 aggregate column"
   ]
  },
  {
   "cell_type": "code",
   "execution_count": 40,
   "id": "0f538d13-d48c-441d-b67c-0d9b3817b028",
   "metadata": {},
   "outputs": [
    {
     "data": {
      "text/plain": [
       "201"
      ]
     },
     "execution_count": 40,
     "metadata": {},
     "output_type": "execute_result"
    }
   ],
   "source": [
    "np.sum(x , axis = None) #total across all rows and all columns"
   ]
  },
  {
   "cell_type": "code",
   "execution_count": 42,
   "id": "bf2728da-5956-4011-ba03-1bc917e38ece",
   "metadata": {},
   "outputs": [
    {
     "data": {
      "text/plain": [
       "201"
      ]
     },
     "execution_count": 42,
     "metadata": {},
     "output_type": "execute_result"
    }
   ],
   "source": [
    "np.sum(x) # default is axis = 0 "
   ]
  },
  {
   "cell_type": "code",
   "execution_count": 44,
   "id": "230c099c-f139-499e-9995-54e4c0cea267",
   "metadata": {},
   "outputs": [
    {
     "data": {
      "text/plain": [
       "array([12,  1, 16,  9])"
      ]
     },
     "execution_count": 44,
     "metadata": {},
     "output_type": "execute_result"
    }
   ],
   "source": [
    "np.min(x , axis=0)"
   ]
  },
  {
   "cell_type": "code",
   "execution_count": 46,
   "id": "b5ec8ca3-b4fa-4d11-85aa-abb9e0f09e53",
   "metadata": {},
   "outputs": [
    {
     "data": {
      "text/plain": [
       "array([1, 0, 2, 1])"
      ]
     },
     "execution_count": 46,
     "metadata": {},
     "output_type": "execute_result"
    }
   ],
   "source": [
    "np.argmin(x , axis = 0 ) # return the index of min value in each row. 4 columns in total so list of 4."
   ]
  },
  {
   "cell_type": "code",
   "execution_count": 47,
   "id": "716919c6-ab4e-41de-b131-c045fe7dd26f",
   "metadata": {},
   "outputs": [
    {
     "data": {
      "text/plain": [
       "array([1, 1, 3])"
      ]
     },
     "execution_count": 47,
     "metadata": {},
     "output_type": "execute_result"
    }
   ],
   "source": [
    "np.argmin(x, axis = 1) # return the index of min value in each column. 3 rows in total so list of 3."
   ]
  }
 ],
 "metadata": {
  "kernelspec": {
   "display_name": "Python 3 (ipykernel)",
   "language": "python",
   "name": "python3"
  },
  "language_info": {
   "codemirror_mode": {
    "name": "ipython",
    "version": 3
   },
   "file_extension": ".py",
   "mimetype": "text/x-python",
   "name": "python",
   "nbconvert_exporter": "python",
   "pygments_lexer": "ipython3",
   "version": "3.9.7"
  }
 },
 "nbformat": 4,
 "nbformat_minor": 5
}
