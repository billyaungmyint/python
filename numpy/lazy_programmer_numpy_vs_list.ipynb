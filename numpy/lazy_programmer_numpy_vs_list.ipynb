{
 "cells": [
  {
   "cell_type": "markdown",
   "id": "9a4ba3b8-106c-4d54-a05d-9bb186992b8c",
   "metadata": {},
   "source": [
    "# Lazy Programmer - Numpy Stack"
   ]
  },
  {
   "cell_type": "code",
   "execution_count": 2,
   "id": "201ed99f-e078-4a76-a225-50327c6bf673",
   "metadata": {},
   "outputs": [],
   "source": [
    "import numpy as np"
   ]
  },
  {
   "cell_type": "code",
   "execution_count": 3,
   "id": "badaf1a6-4b24-4eef-ab79-111a20f46cd5",
   "metadata": {},
   "outputs": [],
   "source": [
    "L = [1,2,3]"
   ]
  },
  {
   "cell_type": "code",
   "execution_count": 4,
   "id": "2cb34994-0f99-4fb3-9d43-4dceb0bab3b4",
   "metadata": {},
   "outputs": [],
   "source": [
    "A = np.array([1,2,3])"
   ]
  },
  {
   "cell_type": "code",
   "execution_count": 5,
   "id": "afb1eed5-3c28-4f30-9296-be95ec362bcc",
   "metadata": {},
   "outputs": [
    {
     "name": "stdout",
     "output_type": "stream",
     "text": [
      "1\n",
      "2\n",
      "3\n"
     ]
    }
   ],
   "source": [
    "for e in L:\n",
    "    print(e)"
   ]
  },
  {
   "cell_type": "code",
   "execution_count": 6,
   "id": "bd14b28a-2d24-493d-975a-ed579965e8c9",
   "metadata": {},
   "outputs": [
    {
     "name": "stdout",
     "output_type": "stream",
     "text": [
      "1\n",
      "2\n",
      "3\n"
     ]
    }
   ],
   "source": [
    "for e in A:\n",
    "    print(e)"
   ]
  },
  {
   "cell_type": "code",
   "execution_count": 7,
   "id": "fd955b18-4678-40a3-bf04-383e4d77fee7",
   "metadata": {},
   "outputs": [
    {
     "data": {
      "text/plain": [
       "[1, 2, 3, 4]"
      ]
     },
     "execution_count": 7,
     "metadata": {},
     "output_type": "execute_result"
    }
   ],
   "source": [
    "L.append(4)\n",
    "L"
   ]
  },
  {
   "cell_type": "code",
   "execution_count": 8,
   "id": "a771e03f-9d48-4d7b-aa46-28db9daa70ae",
   "metadata": {},
   "outputs": [
    {
     "ename": "AttributeError",
     "evalue": "'numpy.ndarray' object has no attribute 'append'",
     "output_type": "error",
     "traceback": [
      "\u001b[0;31m---------------------------------------------------------------------------\u001b[0m",
      "\u001b[0;31mAttributeError\u001b[0m                            Traceback (most recent call last)",
      "Input \u001b[0;32mIn [8]\u001b[0m, in \u001b[0;36m<cell line: 1>\u001b[0;34m()\u001b[0m\n\u001b[0;32m----> 1\u001b[0m \u001b[43mA\u001b[49m\u001b[38;5;241;43m.\u001b[39;49m\u001b[43mappend\u001b[49m(\u001b[38;5;241m4\u001b[39m)\n\u001b[1;32m      2\u001b[0m A\n",
      "\u001b[0;31mAttributeError\u001b[0m: 'numpy.ndarray' object has no attribute 'append'"
     ]
    }
   ],
   "source": [
    "A.append(4)\n",
    "A"
   ]
  },
  {
   "cell_type": "code",
   "execution_count": 9,
   "id": "fb15c61c-a8fc-4bd6-88c7-8a2286344d93",
   "metadata": {},
   "outputs": [
    {
     "data": {
      "text/plain": [
       "[1, 2, 3, 4, 5]"
      ]
     },
     "execution_count": 9,
     "metadata": {},
     "output_type": "execute_result"
    }
   ],
   "source": [
    "L + [5] #adding 2 lists or same as appending a list to the end of the list"
   ]
  },
  {
   "cell_type": "code",
   "execution_count": 10,
   "id": "032fa567-1f06-46f3-a88a-8e8426850e5e",
   "metadata": {},
   "outputs": [
    {
     "data": {
      "text/plain": [
       "array([5, 6, 7])"
      ]
     },
     "execution_count": 10,
     "metadata": {},
     "output_type": "execute_result"
    }
   ],
   "source": [
    "A + np.array([4]) #broadcasting"
   ]
  },
  {
   "cell_type": "code",
   "execution_count": 11,
   "id": "c8483ac3-d272-42e8-a10e-02995f94c650",
   "metadata": {},
   "outputs": [
    {
     "data": {
      "text/plain": [
       "array([1, 2, 3])"
      ]
     },
     "execution_count": 11,
     "metadata": {},
     "output_type": "execute_result"
    }
   ],
   "source": [
    "A"
   ]
  },
  {
   "cell_type": "code",
   "execution_count": 12,
   "id": "a94efbd1-f0b5-4372-999d-869f836c084d",
   "metadata": {},
   "outputs": [
    {
     "data": {
      "text/plain": [
       "array([2, 4, 6])"
      ]
     },
     "execution_count": 12,
     "metadata": {},
     "output_type": "execute_result"
    }
   ],
   "source": [
    "2 * A"
   ]
  },
  {
   "cell_type": "code",
   "execution_count": 13,
   "id": "00f2f70a-0f07-4610-9b61-972c33bb644d",
   "metadata": {},
   "outputs": [
    {
     "data": {
      "text/plain": [
       "[1, 2, 3, 4, 1, 2, 3, 4]"
      ]
     },
     "execution_count": 13,
     "metadata": {},
     "output_type": "execute_result"
    }
   ],
   "source": [
    "2 * L"
   ]
  },
  {
   "cell_type": "code",
   "execution_count": 14,
   "id": "8372affb-0ee4-4fc3-a644-cebfd0de85e1",
   "metadata": {},
   "outputs": [
    {
     "data": {
      "text/plain": [
       "[1, 2, 3, 4, 1, 2, 3, 4]"
      ]
     },
     "execution_count": 14,
     "metadata": {},
     "output_type": "execute_result"
    }
   ],
   "source": [
    "L + L"
   ]
  },
  {
   "cell_type": "code",
   "execution_count": 17,
   "id": "0743c754-cc41-4da4-a3cb-44d63676dfbd",
   "metadata": {},
   "outputs": [
    {
     "data": {
      "text/plain": [
       "[4, 5, 6, 7]"
      ]
     },
     "execution_count": 17,
     "metadata": {},
     "output_type": "execute_result"
    }
   ],
   "source": [
    "L2 = []\n",
    "for e in L:\n",
    "    L2.append(e + 3)\n",
    "    \n",
    "L2"
   ]
  },
  {
   "cell_type": "code",
   "execution_count": 19,
   "id": "8dbec4bd-aaaf-490d-84f0-bbe4226b2f13",
   "metadata": {},
   "outputs": [
    {
     "data": {
      "text/plain": [
       "[4, 5, 6, 7]"
      ]
     },
     "execution_count": 19,
     "metadata": {},
     "output_type": "execute_result"
    }
   ],
   "source": [
    "L2 = [i + 3 for i in L]\n",
    "L2"
   ]
  },
  {
   "cell_type": "code",
   "execution_count": 23,
   "id": "fbceacce-66f3-4d72-ac82-e8971f0520f2",
   "metadata": {},
   "outputs": [
    {
     "data": {
      "text/plain": [
       "[1, 4, 9, 16]"
      ]
     },
     "execution_count": 23,
     "metadata": {},
     "output_type": "execute_result"
    }
   ],
   "source": [
    "L2 = []\n",
    "for e in L :\n",
    "    L2.append(e**2)\n",
    "\n",
    "L2"
   ]
  },
  {
   "cell_type": "code",
   "execution_count": 24,
   "id": "9cecd5ae-57c1-47e3-bd10-bebaaa88fb70",
   "metadata": {},
   "outputs": [
    {
     "data": {
      "text/plain": [
       "array([1, 4, 9])"
      ]
     },
     "execution_count": 24,
     "metadata": {},
     "output_type": "execute_result"
    }
   ],
   "source": [
    "A ** 2"
   ]
  },
  {
   "cell_type": "code",
   "execution_count": 25,
   "id": "0b3095bf-82a7-4032-917c-a74d347275c9",
   "metadata": {},
   "outputs": [
    {
     "data": {
      "text/plain": [
       "array([1.        , 1.41421356, 1.73205081])"
      ]
     },
     "execution_count": 25,
     "metadata": {},
     "output_type": "execute_result"
    }
   ],
   "source": [
    "np.sqrt(A)"
   ]
  },
  {
   "cell_type": "code",
   "execution_count": 26,
   "id": "9a959c10-2bb7-4b26-a7f7-0af48c673b5d",
   "metadata": {},
   "outputs": [
    {
     "data": {
      "text/plain": [
       "array([0.76159416, 0.96402758, 0.99505475])"
      ]
     },
     "execution_count": 26,
     "metadata": {},
     "output_type": "execute_result"
    }
   ],
   "source": [
    "np.tanh(A)"
   ]
  },
  {
   "cell_type": "code",
   "execution_count": null,
   "id": "a89c7b13-3635-4da5-ab2e-c0e14f770cc0",
   "metadata": {},
   "outputs": [],
   "source": []
  }
 ],
 "metadata": {
  "kernelspec": {
   "display_name": "Python 3 (ipykernel)",
   "language": "python",
   "name": "python3"
  },
  "language_info": {
   "codemirror_mode": {
    "name": "ipython",
    "version": 3
   },
   "file_extension": ".py",
   "mimetype": "text/x-python",
   "name": "python",
   "nbconvert_exporter": "python",
   "pygments_lexer": "ipython3",
   "version": "3.9.12"
  },
  "toc-autonumbering": false
 },
 "nbformat": 4,
 "nbformat_minor": 5
}
