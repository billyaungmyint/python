{
 "cells": [
  {
   "cell_type": "code",
   "execution_count": 1,
   "id": "3455130d-7c21-4a7e-9ca5-373e2ba171aa",
   "metadata": {},
   "outputs": [],
   "source": [
    "import requests"
   ]
  },
  {
   "cell_type": "code",
   "execution_count": 12,
   "id": "8043970a-ff66-4df6-bf38-54aaf1f29c07",
   "metadata": {},
   "outputs": [],
   "source": [
    "url = \"https://finance.yahoo.com/quote/AAPL?p=AAPL\""
   ]
  },
  {
   "cell_type": "code",
   "execution_count": 13,
   "id": "c73e33fa-c8f2-488f-9132-963e78c12f0e",
   "metadata": {},
   "outputs": [],
   "source": [
    "response = requests.get(url)"
   ]
  },
  {
   "cell_type": "code",
   "execution_count": 17,
   "id": "8ae46301-f800-43be-933d-bb8b806749ae",
   "metadata": {},
   "outputs": [],
   "source": [
    "prop = \"Previous Close\""
   ]
  },
  {
   "cell_type": "code",
   "execution_count": 14,
   "id": "864a9503-7ef8-4f4e-9fd7-f2f0882545f1",
   "metadata": {},
   "outputs": [
    {
     "name": "stdout",
     "output_type": "stream",
     "text": [
      "<Response [200]>\n"
     ]
    }
   ],
   "source": [
    "print(response)"
   ]
  },
  {
   "cell_type": "code",
   "execution_count": 15,
   "id": "4c65f1e6-8fc1-4256-a595-1b9ab31c0d54",
   "metadata": {},
   "outputs": [
    {
     "name": "stdout",
     "output_type": "stream",
     "text": [
      "200\n"
     ]
    }
   ],
   "source": [
    "print(response.status_code)"
   ]
  },
  {
   "cell_type": "code",
   "execution_count": 16,
   "id": "d39da128-61f6-4cb3-b1bc-54759abca16e",
   "metadata": {},
   "outputs": [
    {
     "name": "stdout",
     "output_type": "stream",
     "text": [
      "True\n"
     ]
    }
   ],
   "source": [
    "print(response.status_code== 200)"
   ]
  },
  {
   "cell_type": "code",
   "execution_count": 8,
   "id": "6e4f2b5a-11a1-41ef-afcb-b8954b13b7c7",
   "metadata": {},
   "outputs": [],
   "source": [
    "t = response.text"
   ]
  },
  {
   "cell_type": "code",
   "execution_count": 19,
   "id": "3791a005-347e-4259-ae80-c1cfb2687ebb",
   "metadata": {},
   "outputs": [],
   "source": [
    "ind = t.index('Previous Close')"
   ]
  },
  {
   "cell_type": "code",
   "execution_count": 20,
   "id": "a0af8bf1-5a16-44a8-8bc5-582a47af2580",
   "metadata": {},
   "outputs": [],
   "source": [
    "reducedText = t[ind : ind+200] #starts from the index then next 200 characters"
   ]
  },
  {
   "cell_type": "code",
   "execution_count": 21,
   "id": "9873e97b-93d0-4633-9ba8-aca3bf6e00b5",
   "metadata": {},
   "outputs": [
    {
     "name": "stdout",
     "output_type": "stream",
     "text": [
      "Previous Close</span></td><td class=\"Ta(end) Fw(600) Lh(14px)\" data-test=\"PREV_CLOSE-value\">158.52</td></tr><tr class=\"Bxz(bb) Bdbw(1px) Bdbs(s) Bdc($seperatorColor) H(36px) \"><td class=\"C($primaryCol\n"
     ]
    }
   ],
   "source": [
    "print(reducedText)"
   ]
  },
  {
   "cell_type": "code",
   "execution_count": 22,
   "id": "9792df0c-ba9c-497c-b545-9294bdb1865f",
   "metadata": {},
   "outputs": [],
   "source": [
    "reducedText2 = t[ind:].split('</span>') #not span but td ... see the reducedtext3 .."
   ]
  },
  {
   "cell_type": "code",
   "execution_count": 23,
   "id": "37cc5770-4084-43c6-8264-c3d0776e35e7",
   "metadata": {},
   "outputs": [
    {
     "name": "stdout",
     "output_type": "stream",
     "text": [
      "['Previous Close', '</td><td class=\"Ta(end) Fw(600) Lh(14px)\" data-test=\"PREV_CLOSE-value\">158.52</td></tr><tr class=\"Bxz(bb) Bdbw(1px) Bdbs(s) Bdc($seperatorColor) H(36px) \"><td class=\"C($primaryColor) W(51%)\"><span>Open', '</td><td class=\"Ta(end) Fw(600) Lh(14px)\" data-test=\"OPEN-value\">158.93</td></tr><tr class=\"Bxz(bb) Bdbw(1px) Bdbs(s) Bdc($seperatorColor) H(36px) \"><td class=\"C($primaryColor) W(51%)\"><span>Bid']\n"
     ]
    }
   ],
   "source": [
    "print(reducedText2[:3]) #now we know 158 is at the 2nd element of the list , 1."
   ]
  },
  {
   "cell_type": "code",
   "execution_count": 39,
   "id": "0af132f4-8a55-4f14-821d-fb8ed3e8f711",
   "metadata": {},
   "outputs": [],
   "source": [
    "reducedText3 = t[ind:].split('</td>')[1]"
   ]
  },
  {
   "cell_type": "code",
   "execution_count": 40,
   "id": "7e586c4c-d90c-4622-84a4-7246c85fdbaa",
   "metadata": {},
   "outputs": [
    {
     "name": "stdout",
     "output_type": "stream",
     "text": [
      "<td class=\"Ta(end) Fw(600) Lh(14px)\" data-test=\"PREV_CLOSE-value\">158.52\n"
     ]
    }
   ],
   "source": [
    "print(reducedText3)"
   ]
  },
  {
   "cell_type": "code",
   "execution_count": 41,
   "id": "d4bd2881-4f8a-4709-9539-77ffdb6279ff",
   "metadata": {},
   "outputs": [],
   "source": [
    "val = reducedText3.split('>')[-1]"
   ]
  },
  {
   "cell_type": "code",
   "execution_count": 42,
   "id": "45367d23-089b-44b2-9534-706efb481cc1",
   "metadata": {},
   "outputs": [
    {
     "name": "stdout",
     "output_type": "stream",
     "text": [
      "158.52\n"
     ]
    }
   ],
   "source": [
    "print(val)"
   ]
  },
  {
   "cell_type": "code",
   "execution_count": null,
   "id": "350a31f7-ef43-499c-b097-4d7e9cc8e111",
   "metadata": {},
   "outputs": [],
   "source": []
  }
 ],
 "metadata": {
  "kernelspec": {
   "display_name": "Python 3 (ipykernel)",
   "language": "python",
   "name": "python3"
  },
  "language_info": {
   "codemirror_mode": {
    "name": "ipython",
    "version": 3
   },
   "file_extension": ".py",
   "mimetype": "text/x-python",
   "name": "python",
   "nbconvert_exporter": "python",
   "pygments_lexer": "ipython3",
   "version": "3.9.10"
  }
 },
 "nbformat": 4,
 "nbformat_minor": 5
}
