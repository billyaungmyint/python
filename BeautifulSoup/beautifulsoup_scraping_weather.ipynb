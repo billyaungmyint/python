{
 "cells": [
  {
   "cell_type": "markdown",
   "id": "f5086386-568a-4c7a-b4dc-b5664e9bd323",
   "metadata": {},
   "source": [
    "# Beautiful Soup - Scraping weather data"
   ]
  },
  {
   "cell_type": "markdown",
   "id": "4d149d81-e244-4d82-9c3c-9dfc2747b8e0",
   "metadata": {},
   "source": [
    "### https://www.dataquest.io/blog/web-scraping-python-using-beautiful-soup/"
   ]
  },
  {
   "cell_type": "markdown",
   "id": "e0068c72-2a9b-400d-8abe-7aac5e764575",
   "metadata": {},
   "source": [
    "1 : Download the web page containing the forecast.\n",
    "\n",
    "2 : Create a BeautifulSoup class to parse the page.\n",
    "\n",
    "3 : Find the div with id seven-day-forecast, and assign to seven_day\n",
    "\n",
    "4 : Inside seven_day, find each individual forecast item.\n",
    "\n",
    "5 : Extract and print the first forecast item."
   ]
  },
  {
   "cell_type": "code",
   "execution_count": 6,
   "id": "1857916c-55d5-4d5f-bca6-5f8cdbbd8e09",
   "metadata": {},
   "outputs": [],
   "source": [
    "import requests\n",
    "from bs4 import BeautifulSoup"
   ]
  },
  {
   "cell_type": "code",
   "execution_count": 7,
   "id": "1f834d58-07e0-4022-a295-4f80f24adb5a",
   "metadata": {},
   "outputs": [
    {
     "name": "stdout",
     "output_type": "stream",
     "text": [
      "<div class=\"tombstone-container\">\n",
      " <p class=\"period-name\">\n",
      "  NOW until\n",
      "  <br/>\n",
      "  9:00am Sat\n",
      " </p>\n",
      " <p>\n",
      "  <img alt=\"\" class=\"forecast-icon\" src=\"newimages/medium/nfew.png\" title=\"\"/>\n",
      " </p>\n",
      " <p class=\"short-desc\">\n",
      "  Dense Fog Advisory\n",
      " </p>\n",
      "</div>\n"
     ]
    }
   ],
   "source": [
    "page = requests.get(\"https://forecast.weather.gov/MapClick.php?lat=37.7772&lon=-122.4168\")\n",
    "soup = BeautifulSoup(page.content, 'html.parser')\n",
    "seven_day = soup.find(id=\"seven-day-forecast\")\n",
    "forecast_items = seven_day.find_all(class_=\"tombstone-container\")\n",
    "tonight = forecast_items[0]\n",
    "print(tonight.prettify())"
   ]
  },
  {
   "cell_type": "markdown",
   "id": "90edc880-0f95-4997-82fc-ee528b12728d",
   "metadata": {},
   "source": [
    "### Extract the following info"
   ]
  },
  {
   "cell_type": "markdown",
   "id": "0bad9593-b48c-424d-81a4-6bb5769ad28f",
   "metadata": {},
   "source": [
    "1 : The name of the forecast item — in this case, Tonight.\n",
    "\n",
    "2 : The description of the conditions — this is stored in the title property of img.\n",
    "\n",
    "3 : A short description of the conditions — in this case, Mostly Clear.\n",
    "\n",
    "4 : The temperature low — in this case, 49 degrees."
   ]
  },
  {
   "cell_type": "code",
   "execution_count": 10,
   "id": "bfabcf7e-4257-4b7a-a8ac-4b20051ad2e8",
   "metadata": {},
   "outputs": [
    {
     "name": "stdout",
     "output_type": "stream",
     "text": [
      "NOW until9:00am Sat\n",
      "Dense Fog Advisory\n"
     ]
    }
   ],
   "source": [
    "period = tonight.find(class_=\"period-name\").get_text()\n",
    "short_desc = tonight.find(class_=\"short-desc\").get_text()\n",
    "#temp = tonight.find(class_=\"temp\").get_text()\n",
    "print(period)\n",
    "print(short_desc)\n",
    "#print(temp)"
   ]
  },
  {
   "cell_type": "code",
   "execution_count": 11,
   "id": "7c6d7900-6020-4d9c-ac55-2261f64b904c",
   "metadata": {},
   "outputs": [
    {
     "name": "stdout",
     "output_type": "stream",
     "text": [
      "\n"
     ]
    }
   ],
   "source": [
    "img = tonight.find(\"img\")\n",
    "desc = img['title']\n",
    "print(desc)"
   ]
  },
  {
   "cell_type": "code",
   "execution_count": 12,
   "id": "7406f058-3bf2-46f9-85b7-f6a16309f451",
   "metadata": {},
   "outputs": [
    {
     "data": {
      "text/plain": [
       "['NOW until9:00am Sat',\n",
       " 'Tonight',\n",
       " 'Saturday',\n",
       " 'SaturdayNight',\n",
       " 'Sunday',\n",
       " 'SundayNight',\n",
       " 'Monday',\n",
       " 'MondayNight',\n",
       " 'Tuesday']"
      ]
     },
     "execution_count": 12,
     "metadata": {},
     "output_type": "execute_result"
    }
   ],
   "source": [
    "period_tags = seven_day.select(\".tombstone-container .period-name\")\n",
    "periods = [pt.get_text() for pt in period_tags]\n",
    "periods"
   ]
  },
  {
   "cell_type": "code",
   "execution_count": 14,
   "id": "172cc34a-71b1-4d4d-be61-be77f91d204e",
   "metadata": {},
   "outputs": [
    {
     "name": "stdout",
     "output_type": "stream",
     "text": [
      "['Dense Fog Advisory', 'Mostly Clear', 'Sunny', 'Slight ChanceShowers', 'DecreasingClouds', 'Mostly Cloudy', 'ChanceShowers', 'ShowersLikely', 'ShowersLikely thenMostly Sunny']\n",
      "['Low: 44 °F', 'High: 60 °F', 'Low: 49 °F', 'High: 62 °F', 'Low: 47 °F', 'High: 65 °F', 'Low: 53 °F', 'High: 65 °F']\n",
      "['', 'Tonight: Mostly clear, with a low around 44. West wind 11 to 16 mph becoming light west southwest. Winds could gust as high as 21 mph. ', 'Saturday: Sunny, with a high near 60. West wind 7 to 17 mph, with gusts as high as 22 mph. ', 'Saturday Night: A 20 percent chance of showers after 10pm.  Mostly cloudy, with a low around 49. South southwest wind 9 to 11 mph.  New precipitation amounts of less than a tenth of an inch possible. ', 'Sunday: Cloudy, then gradually becoming mostly sunny, with a high near 62. West wind 9 to 15 mph, with gusts as high as 20 mph. ', 'Sunday Night: Mostly cloudy, with a low around 47. West wind 7 to 13 mph. ', 'Monday: A 30 percent chance of showers, mainly after 4pm.  Partly sunny, with a high near 65.', 'Monday Night: Showers likely, mainly after 10pm.  Mostly cloudy, with a low around 53. Chance of precipitation is 60%.', 'Tuesday: Showers likely before 10am.  Partly sunny, with a high near 65.']\n"
     ]
    }
   ],
   "source": [
    "short_descs = [sd.get_text() for sd in seven_day.select(\".tombstone-container .short-desc\")]\n",
    "temps = [t.get_text() for t in seven_day.select(\".tombstone-container .temp\")]\n",
    "descs = [d[\"title\"] for d in seven_day.select(\".tombstone-container img\")]\n",
    "print(short_descs)\n",
    "print(temps)\n",
    "print(descs)"
   ]
  },
  {
   "cell_type": "code",
   "execution_count": 16,
   "id": "ec7f9622-2b3d-473e-9acd-c51ead63c118",
   "metadata": {},
   "outputs": [
    {
     "data": {
      "text/html": [
       "<div>\n",
       "<style scoped>\n",
       "    .dataframe tbody tr th:only-of-type {\n",
       "        vertical-align: middle;\n",
       "    }\n",
       "\n",
       "    .dataframe tbody tr th {\n",
       "        vertical-align: top;\n",
       "    }\n",
       "\n",
       "    .dataframe thead th {\n",
       "        text-align: right;\n",
       "    }\n",
       "</style>\n",
       "<table border=\"1\" class=\"dataframe\">\n",
       "  <thead>\n",
       "    <tr style=\"text-align: right;\">\n",
       "      <th></th>\n",
       "      <th>period</th>\n",
       "      <th>short_desc</th>\n",
       "      <th>desc</th>\n",
       "    </tr>\n",
       "  </thead>\n",
       "  <tbody>\n",
       "    <tr>\n",
       "      <th>0</th>\n",
       "      <td>NOW until9:00am Sat</td>\n",
       "      <td>Dense Fog Advisory</td>\n",
       "      <td></td>\n",
       "    </tr>\n",
       "    <tr>\n",
       "      <th>1</th>\n",
       "      <td>Tonight</td>\n",
       "      <td>Mostly Clear</td>\n",
       "      <td>Tonight: Mostly clear, with a low around 44. W...</td>\n",
       "    </tr>\n",
       "    <tr>\n",
       "      <th>2</th>\n",
       "      <td>Saturday</td>\n",
       "      <td>Sunny</td>\n",
       "      <td>Saturday: Sunny, with a high near 60. West win...</td>\n",
       "    </tr>\n",
       "    <tr>\n",
       "      <th>3</th>\n",
       "      <td>SaturdayNight</td>\n",
       "      <td>Slight ChanceShowers</td>\n",
       "      <td>Saturday Night: A 20 percent chance of showers...</td>\n",
       "    </tr>\n",
       "    <tr>\n",
       "      <th>4</th>\n",
       "      <td>Sunday</td>\n",
       "      <td>DecreasingClouds</td>\n",
       "      <td>Sunday: Cloudy, then gradually becoming mostly...</td>\n",
       "    </tr>\n",
       "    <tr>\n",
       "      <th>5</th>\n",
       "      <td>SundayNight</td>\n",
       "      <td>Mostly Cloudy</td>\n",
       "      <td>Sunday Night: Mostly cloudy, with a low around...</td>\n",
       "    </tr>\n",
       "    <tr>\n",
       "      <th>6</th>\n",
       "      <td>Monday</td>\n",
       "      <td>ChanceShowers</td>\n",
       "      <td>Monday: A 30 percent chance of showers, mainly...</td>\n",
       "    </tr>\n",
       "    <tr>\n",
       "      <th>7</th>\n",
       "      <td>MondayNight</td>\n",
       "      <td>ShowersLikely</td>\n",
       "      <td>Monday Night: Showers likely, mainly after 10p...</td>\n",
       "    </tr>\n",
       "    <tr>\n",
       "      <th>8</th>\n",
       "      <td>Tuesday</td>\n",
       "      <td>ShowersLikely thenMostly Sunny</td>\n",
       "      <td>Tuesday: Showers likely before 10am.  Partly s...</td>\n",
       "    </tr>\n",
       "  </tbody>\n",
       "</table>\n",
       "</div>"
      ],
      "text/plain": [
       "                period                      short_desc  \\\n",
       "0  NOW until9:00am Sat              Dense Fog Advisory   \n",
       "1              Tonight                    Mostly Clear   \n",
       "2             Saturday                           Sunny   \n",
       "3        SaturdayNight            Slight ChanceShowers   \n",
       "4               Sunday                DecreasingClouds   \n",
       "5          SundayNight                   Mostly Cloudy   \n",
       "6               Monday                   ChanceShowers   \n",
       "7          MondayNight                   ShowersLikely   \n",
       "8              Tuesday  ShowersLikely thenMostly Sunny   \n",
       "\n",
       "                                                desc  \n",
       "0                                                     \n",
       "1  Tonight: Mostly clear, with a low around 44. W...  \n",
       "2  Saturday: Sunny, with a high near 60. West win...  \n",
       "3  Saturday Night: A 20 percent chance of showers...  \n",
       "4  Sunday: Cloudy, then gradually becoming mostly...  \n",
       "5  Sunday Night: Mostly cloudy, with a low around...  \n",
       "6  Monday: A 30 percent chance of showers, mainly...  \n",
       "7  Monday Night: Showers likely, mainly after 10p...  \n",
       "8  Tuesday: Showers likely before 10am.  Partly s...  "
      ]
     },
     "execution_count": 16,
     "metadata": {},
     "output_type": "execute_result"
    }
   ],
   "source": [
    "import pandas as pd\n",
    "weather = pd.DataFrame({\n",
    "    \"period\": periods,\n",
    "    \"short_desc\": short_descs,\n",
    "   # \"temp\": temps,\n",
    "    \"desc\":descs\n",
    "})\n",
    "weather"
   ]
  },
  {
   "cell_type": "code",
   "execution_count": null,
   "id": "099d307c-5f1f-44fe-8e0c-732e5b7e2a75",
   "metadata": {},
   "outputs": [],
   "source": []
  },
  {
   "cell_type": "code",
   "execution_count": null,
   "id": "55d348f2-9383-454c-a14f-0789be788883",
   "metadata": {},
   "outputs": [],
   "source": []
  }
 ],
 "metadata": {
  "kernelspec": {
   "display_name": "Python 3 (ipykernel)",
   "language": "python",
   "name": "python3"
  },
  "language_info": {
   "codemirror_mode": {
    "name": "ipython",
    "version": 3
   },
   "file_extension": ".py",
   "mimetype": "text/x-python",
   "name": "python",
   "nbconvert_exporter": "python",
   "pygments_lexer": "ipython3",
   "version": "3.9.10"
  }
 },
 "nbformat": 4,
 "nbformat_minor": 5
}
