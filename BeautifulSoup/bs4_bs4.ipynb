{
 "cells": [
  {
   "cell_type": "code",
   "execution_count": 2,
   "id": "ababf0da-2427-4c18-84f2-e16d86022eed",
   "metadata": {},
   "outputs": [],
   "source": [
    "import requests\n",
    "url = \"https://finance.yahoo.com/quote/AAPL?p=AAPL\"\n",
    "response = requests.get(url)\n",
    "t = response.text"
   ]
  },
  {
   "cell_type": "code",
   "execution_count": 3,
   "id": "d9bb96bd-e7cf-4b21-b495-923e0593c46a",
   "metadata": {},
   "outputs": [],
   "source": [
    "from bs4 import BeautifulSoup"
   ]
  },
  {
   "cell_type": "code",
   "execution_count": 6,
   "id": "f55ca5e0-0891-4411-ad4f-4f1fd1c578d2",
   "metadata": {},
   "outputs": [],
   "source": [
    "soup = BeautifulSoup(t , features='html.parser')"
   ]
  },
  {
   "cell_type": "code",
   "execution_count": 29,
   "id": "bd6b4402-0f9b-40ff-bdd4-68914a5b4186",
   "metadata": {},
   "outputs": [
    {
     "name": "stdout",
     "output_type": "stream",
     "text": [
      "<tr class=\"Bxz(bb) Bdbw(1px) Bdbs(s) Bdc($seperatorColor) H(36px)\"><td class=\"C($primaryColor) W(51%)\"><span>Previous Close</span></td><td class=\"Ta(end) Fw(600) Lh(14px)\" data-test=\"PREV_CLOSE-value\">158.52</td></tr>\n"
     ]
    }
   ],
   "source": [
    "trs = soup.find_all('tr')\n",
    "print(trs[0])"
   ]
  },
  {
   "cell_type": "code",
   "execution_count": 11,
   "id": "14a8f104-773d-43ff-9f28-fa029e90f6c9",
   "metadata": {},
   "outputs": [
    {
     "name": "stdout",
     "output_type": "stream",
     "text": [
      "Previous Close158.52\n"
     ]
    }
   ],
   "source": [
    "print(trs[0].text)"
   ]
  },
  {
   "cell_type": "code",
   "execution_count": 12,
   "id": "1e4934a4-a663-4193-a673-e6a9e2f78987",
   "metadata": {},
   "outputs": [
    {
     "name": "stdout",
     "output_type": "stream",
     "text": [
      "<td class=\"C($primaryColor) W(51%)\"><span>Previous Close</span></td>\n"
     ]
    }
   ],
   "source": [
    "print(trs[0].td)"
   ]
  },
  {
   "cell_type": "code",
   "execution_count": 13,
   "id": "4f1aded1-0757-4f12-9922-1af2b02ea71e",
   "metadata": {},
   "outputs": [
    {
     "name": "stdout",
     "output_type": "stream",
     "text": [
      "Previous Close\n"
     ]
    }
   ],
   "source": [
    "print(trs[0].td.text)"
   ]
  },
  {
   "cell_type": "code",
   "execution_count": 17,
   "id": "f822052a-daaf-4dc5-b8e5-2f8aeb53a150",
   "metadata": {},
   "outputs": [
    {
     "name": "stdout",
     "output_type": "stream",
     "text": [
      "[<td class=\"C($primaryColor) W(51%)\"><span>Previous Close</span></td>, <td class=\"Ta(end) Fw(600) Lh(14px)\" data-test=\"PREV_CLOSE-value\">158.52</td>]\n"
     ]
    }
   ],
   "source": [
    "print(trs[0].contents)"
   ]
  },
  {
   "cell_type": "code",
   "execution_count": 19,
   "id": "dd36a33c-4a1c-4f95-bba4-309f4110657a",
   "metadata": {},
   "outputs": [
    {
     "name": "stdout",
     "output_type": "stream",
     "text": [
      "<td class=\"Ta(end) Fw(600) Lh(14px)\" data-test=\"PREV_CLOSE-value\">158.52</td>\n"
     ]
    }
   ],
   "source": [
    "print(trs[0].contents[1])"
   ]
  },
  {
   "cell_type": "code",
   "execution_count": 20,
   "id": "8634abab-0c85-4c3c-a769-43399349b4ae",
   "metadata": {},
   "outputs": [
    {
     "name": "stdout",
     "output_type": "stream",
     "text": [
      "158.52\n"
     ]
    }
   ],
   "source": [
    "print(trs[0].contents[1].text)"
   ]
  },
  {
   "cell_type": "code",
   "execution_count": 28,
   "id": "3202e83c-55a8-422c-b831-40f5f48aade6",
   "metadata": {},
   "outputs": [
    {
     "name": "stdout",
     "output_type": "stream",
     "text": [
      "Previous Close\n"
     ]
    }
   ],
   "source": [
    "trs = soup.find_all('td' , class_ = 'C($primaryColor) W(51%)')\n",
    "print(trs[0].text)"
   ]
  },
  {
   "cell_type": "code",
   "execution_count": 35,
   "id": "2e0263e5-5164-443d-869f-2b4456d82043",
   "metadata": {},
   "outputs": [
    {
     "name": "stdout",
     "output_type": "stream",
     "text": [
      "158.52\n"
     ]
    }
   ],
   "source": [
    "trs = soup.find_all('tr')\n",
    "print(trs[0].find('td' , attrs={'data-test':'PREV_CLOSE-value'}).text)"
   ]
  },
  {
   "cell_type": "code",
   "execution_count": 38,
   "id": "4b8ca0ff-1c15-4a8c-9615-3fb4ae4aaa8e",
   "metadata": {},
   "outputs": [
    {
     "name": "stdout",
     "output_type": "stream",
     "text": [
      "158.52\n"
     ]
    }
   ],
   "source": [
    "trs = soup.find_all('tr')\n",
    "print(trs[0].contents[1].text)"
   ]
  },
  {
   "cell_type": "code",
   "execution_count": null,
   "id": "3ae2f627-2356-4f5d-94e5-98c59d883ae4",
   "metadata": {},
   "outputs": [],
   "source": []
  }
 ],
 "metadata": {
  "kernelspec": {
   "display_name": "Python 3 (ipykernel)",
   "language": "python",
   "name": "python3"
  },
  "language_info": {
   "codemirror_mode": {
    "name": "ipython",
    "version": 3
   },
   "file_extension": ".py",
   "mimetype": "text/x-python",
   "name": "python",
   "nbconvert_exporter": "python",
   "pygments_lexer": "ipython3",
   "version": "3.9.10"
  }
 },
 "nbformat": 4,
 "nbformat_minor": 5
}
