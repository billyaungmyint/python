{
 "cells": [
  {
   "cell_type": "code",
   "execution_count": 2,
   "id": "533043ee-4062-4a32-b657-b57b9ee09377",
   "metadata": {},
   "outputs": [],
   "source": [
    "import numpy as np\n",
    "import pandas as pd\n",
    "import matplotlib.pyplot as plt\n",
    "\n",
    "%matplotlib inline"
   ]
  },
  {
   "cell_type": "code",
   "execution_count": 3,
   "id": "5732adb4-6fb7-4f9c-bc43-c50d87a2247a",
   "metadata": {},
   "outputs": [],
   "source": [
    "list1 = [1,2,3,4,5]"
   ]
  },
  {
   "cell_type": "code",
   "execution_count": 4,
   "id": "56b07c5a-5bbc-450e-b4be-ff19f870f842",
   "metadata": {},
   "outputs": [
    {
     "data": {
      "text/plain": [
       "[1, 2, 3, 4, 5]"
      ]
     },
     "execution_count": 4,
     "metadata": {},
     "output_type": "execute_result"
    }
   ],
   "source": [
    "list1"
   ]
  },
  {
   "cell_type": "code",
   "execution_count": 5,
   "id": "27db0fe6-37c3-4d6b-a553-f6a840028411",
   "metadata": {},
   "outputs": [
    {
     "data": {
      "text/plain": [
       "[1, 4, 9, 16, 25]"
      ]
     },
     "execution_count": 5,
     "metadata": {},
     "output_type": "execute_result"
    }
   ],
   "source": [
    "#list comprehension\n",
    "[i**2 for i in list1]"
   ]
  },
  {
   "cell_type": "code",
   "execution_count": 6,
   "id": "c2950a16-e50f-4326-b86a-b1778ec61f2c",
   "metadata": {},
   "outputs": [],
   "source": [
    "list2d = [[1,2,3,4,5] , [6,7,8,9,10]]"
   ]
  },
  {
   "cell_type": "code",
   "execution_count": 7,
   "id": "0abd670e-1466-4ba5-9cbb-63ca631d7af0",
   "metadata": {},
   "outputs": [
    {
     "data": {
      "text/plain": [
       "[[1, 2, 3, 4, 5], [6, 7, 8, 9, 10]]"
      ]
     },
     "execution_count": 7,
     "metadata": {},
     "output_type": "execute_result"
    }
   ],
   "source": [
    "list2d"
   ]
  },
  {
   "cell_type": "markdown",
   "id": "93c6bb7f-e227-4632-8f24-7e91d68460a2",
   "metadata": {},
   "source": [
    "### Data"
   ]
  },
  {
   "cell_type": "code",
   "execution_count": 8,
   "id": "ffe0c560-20d8-42e8-9e6f-03ac68cf369b",
   "metadata": {},
   "outputs": [],
   "source": [
    "age = [25,27,35,41,48,56]\n",
    "sex = ['M','F','M','F','M','M']\n",
    "income = [1500,2500,4000,5500,6300,8000]\n",
    "height = [1.5,1.78,2,1.9,1.4,1.6]"
   ]
  },
  {
   "cell_type": "code",
   "execution_count": 9,
   "id": "ba8e5f3a-1d04-42c0-bc48-1056db727dfc",
   "metadata": {},
   "outputs": [],
   "source": [
    "df = pd.DataFrame({\"age\" : age ,\n",
    "                 \"sex\" : sex,\n",
    "                 \"income\" : income ,\n",
    "                  \"height\" : height})"
   ]
  },
  {
   "cell_type": "code",
   "execution_count": 49,
   "id": "7fab1e7b-4bc7-4304-a376-03b73388507d",
   "metadata": {},
   "outputs": [
    {
     "data": {
      "text/html": [
       "<div>\n",
       "<style scoped>\n",
       "    .dataframe tbody tr th:only-of-type {\n",
       "        vertical-align: middle;\n",
       "    }\n",
       "\n",
       "    .dataframe tbody tr th {\n",
       "        vertical-align: top;\n",
       "    }\n",
       "\n",
       "    .dataframe thead th {\n",
       "        text-align: right;\n",
       "    }\n",
       "</style>\n",
       "<table border=\"1\" class=\"dataframe\">\n",
       "  <thead>\n",
       "    <tr style=\"text-align: right;\">\n",
       "      <th></th>\n",
       "      <th>age</th>\n",
       "      <th>sex</th>\n",
       "      <th>income</th>\n",
       "      <th>height</th>\n",
       "    </tr>\n",
       "  </thead>\n",
       "  <tbody>\n",
       "    <tr>\n",
       "      <th>0</th>\n",
       "      <td>25</td>\n",
       "      <td>M</td>\n",
       "      <td>1500</td>\n",
       "      <td>1.50</td>\n",
       "    </tr>\n",
       "    <tr>\n",
       "      <th>1</th>\n",
       "      <td>27</td>\n",
       "      <td>F</td>\n",
       "      <td>2500</td>\n",
       "      <td>1.78</td>\n",
       "    </tr>\n",
       "    <tr>\n",
       "      <th>2</th>\n",
       "      <td>35</td>\n",
       "      <td>M</td>\n",
       "      <td>4000</td>\n",
       "      <td>2.00</td>\n",
       "    </tr>\n",
       "    <tr>\n",
       "      <th>3</th>\n",
       "      <td>41</td>\n",
       "      <td>F</td>\n",
       "      <td>5500</td>\n",
       "      <td>1.90</td>\n",
       "    </tr>\n",
       "    <tr>\n",
       "      <th>4</th>\n",
       "      <td>48</td>\n",
       "      <td>M</td>\n",
       "      <td>6300</td>\n",
       "      <td>1.40</td>\n",
       "    </tr>\n",
       "    <tr>\n",
       "      <th>5</th>\n",
       "      <td>56</td>\n",
       "      <td>M</td>\n",
       "      <td>8000</td>\n",
       "      <td>1.60</td>\n",
       "    </tr>\n",
       "  </tbody>\n",
       "</table>\n",
       "</div>"
      ],
      "text/plain": [
       "   age sex  income  height\n",
       "0   25   M    1500    1.50\n",
       "1   27   F    2500    1.78\n",
       "2   35   M    4000    2.00\n",
       "3   41   F    5500    1.90\n",
       "4   48   M    6300    1.40\n",
       "5   56   M    8000    1.60"
      ]
     },
     "execution_count": 49,
     "metadata": {},
     "output_type": "execute_result"
    }
   ],
   "source": [
    "df"
   ]
  },
  {
   "cell_type": "code",
   "execution_count": 60,
   "id": "961972d7-2fce-4cdb-af20-e9526863b6a0",
   "metadata": {},
   "outputs": [
    {
     "name": "stdout",
     "output_type": "stream",
     "text": [
      "(6, 4)\n",
      "24\n",
      "<bound method DataFrame.nunique of    age sex  income  height\n",
      "0   25   M    1500    1.50\n",
      "1   27   F    2500    1.78\n",
      "2   35   M    4000    2.00\n",
      "3   41   F    5500    1.90\n",
      "4   48   M    6300    1.40\n",
      "5   56   M    8000    1.60>\n",
      "<class 'pandas.core.frame.DataFrame'>\n",
      "RangeIndex: 6 entries, 0 to 5\n",
      "Data columns (total 4 columns):\n",
      " #   Column  Non-Null Count  Dtype  \n",
      "---  ------  --------------  -----  \n",
      " 0   age     6 non-null      int64  \n",
      " 1   sex     6 non-null      object \n",
      " 2   income  6 non-null      int64  \n",
      " 3   height  6 non-null      float64\n",
      "dtypes: float64(1), int64(2), object(1)\n",
      "memory usage: 320.0+ bytes\n",
      "None\n",
      "             age       income    height\n",
      "count   6.000000     6.000000  6.000000\n",
      "mean   38.666667  4633.333333  1.696667\n",
      "std    12.077527  2434.474618  0.235089\n",
      "min    25.000000  1500.000000  1.400000\n",
      "25%    29.000000  2875.000000  1.525000\n",
      "50%    38.000000  4750.000000  1.690000\n",
      "75%    46.250000  6100.000000  1.870000\n",
      "max    56.000000  8000.000000  2.000000\n"
     ]
    }
   ],
   "source": [
    "print(df.shape)\n",
    "print(df.size)\n",
    "print(df.nunique)\n",
    "print(df.info())\n",
    "print(df.describe())"
   ]
  },
  {
   "cell_type": "markdown",
   "id": "63e55e09-9b33-4e15-87b8-9401f3759d37",
   "metadata": {},
   "source": [
    "### Data Mining"
   ]
  },
  {
   "cell_type": "code",
   "execution_count": 11,
   "id": "a9a14fb2-e623-4d74-8d89-312dd84e04ab",
   "metadata": {},
   "outputs": [
    {
     "data": {
      "text/plain": [
       "height\n",
       "1.40    6300.0\n",
       "1.50    1500.0\n",
       "1.60    8000.0\n",
       "1.78    2500.0\n",
       "1.90    5500.0\n",
       "2.00    4000.0\n",
       "Name: income, dtype: float64"
      ]
     },
     "execution_count": 11,
     "metadata": {},
     "output_type": "execute_result"
    }
   ],
   "source": [
    "df.groupby('height')['income'].mean()"
   ]
  },
  {
   "cell_type": "code",
   "execution_count": 12,
   "id": "5d7d7b4f-da22-4e68-ab87-0d80ef094dd2",
   "metadata": {},
   "outputs": [
    {
     "data": {
      "text/plain": [
       "sex\n",
       "F    0.007200\n",
       "M    0.069167\n",
       "Name: height, dtype: float64"
      ]
     },
     "execution_count": 12,
     "metadata": {},
     "output_type": "execute_result"
    }
   ],
   "source": [
    "df.groupby('sex')['height'].var()"
   ]
  },
  {
   "cell_type": "code",
   "execution_count": 13,
   "id": "939daf93-1dfd-4a9b-bbcc-c7575bb8071d",
   "metadata": {},
   "outputs": [
    {
     "data": {
      "text/plain": [
       "sex\n",
       "F    0.084853\n",
       "M    0.262996\n",
       "Name: height, dtype: float64"
      ]
     },
     "execution_count": 13,
     "metadata": {},
     "output_type": "execute_result"
    }
   ],
   "source": [
    "df.groupby('sex')['height'].std()"
   ]
  },
  {
   "cell_type": "code",
   "execution_count": 14,
   "id": "963f6edc-50a9-4b1f-9e3c-8fcbcc402734",
   "metadata": {},
   "outputs": [
    {
     "data": {
      "text/plain": [
       "8000"
      ]
     },
     "execution_count": 14,
     "metadata": {},
     "output_type": "execute_result"
    }
   ],
   "source": [
    "df[(df['height'] < 1.8)  & (df['sex'] == 'M')]['income'].max()"
   ]
  },
  {
   "cell_type": "code",
   "execution_count": 15,
   "id": "8f1da979-7317-4a15-bee9-2af4c93eb297",
   "metadata": {},
   "outputs": [
    {
     "data": {
      "text/plain": [
       "5500"
      ]
     },
     "execution_count": 15,
     "metadata": {},
     "output_type": "execute_result"
    }
   ],
   "source": [
    "df[df['sex'] == 'F']['income'].max()"
   ]
  },
  {
   "cell_type": "markdown",
   "id": "aa38815f-e3e4-4cef-9299-9a1801abfdb6",
   "metadata": {},
   "source": [
    "### Visualisation"
   ]
  },
  {
   "cell_type": "code",
   "execution_count": 18,
   "id": "b68cb6b3-cba2-465a-a43b-699cbd5d06dc",
   "metadata": {},
   "outputs": [
    {
     "data": {
      "image/png": "[encoded data removed]",
      "text/plain": [
       "<Figure size 432x288 with 1 Axes>"
      ]
     },
     "metadata": {
      "needs_background": "light"
     },
     "output_type": "display_data"
    }
   ],
   "source": [
    "plt.plot(df['age'] , df['income'] , label = 'Age vs Income' )\n",
    "plt.xlabel('Age')\n",
    "plt.ylabel('Income')\n",
    "plt.title('Age vs Income')\n",
    "plt.legend()\n",
    "plt.show()"
   ]
  },
  {
   "cell_type": "code",
   "execution_count": 21,
   "id": "b9dbc644-35ff-40cc-ab49-c87557fa4e65",
   "metadata": {},
   "outputs": [
    {
     "data": {
      "image/png": "[encoded data removed]",
      "text/plain": [
       "<Figure size 432x288 with 1 Axes>"
      ]
     },
     "metadata": {
      "needs_background": "light"
     },
     "output_type": "display_data"
    }
   ],
   "source": [
    "plt.scatter(df['age'] , df['income'] , label = 'Scatter' )\n",
    "plt.xlabel('Age')\n",
    "plt.ylabel('Income')\n",
    "plt.title('Age vs Income')\n",
    "plt.legend()\n",
    "plt.show()"
   ]
  },
  {
   "cell_type": "markdown",
   "id": "d1e336da-1789-4a7a-bb0e-eb239375bd8e",
   "metadata": {},
   "source": [
    "### Machine Learning - Linear Regression"
   ]
  },
  {
   "cell_type": "code",
   "execution_count": 42,
   "id": "75ed891a-f0de-4b73-8ed9-9ebb500fedeb",
   "metadata": {},
   "outputs": [],
   "source": [
    "age = [25,27,35,41,48,56,62]\n",
    "income = [1500,2500,4000,5500,6300,8000,10000]"
   ]
  },
  {
   "cell_type": "code",
   "execution_count": 43,
   "id": "fd2a2591-32f9-48e7-962e-513c1d3367ed",
   "metadata": {},
   "outputs": [
    {
     "data": {
      "text/plain": [
       "[25, 27, 35, 41, 48, 56, 62]"
      ]
     },
     "execution_count": 43,
     "metadata": {},
     "output_type": "execute_result"
    }
   ],
   "source": [
    "age"
   ]
  },
  {
   "cell_type": "code",
   "execution_count": 44,
   "id": "97e90e69-671e-4ba6-ae74-fd123fe1151d",
   "metadata": {},
   "outputs": [
    {
     "data": {
      "text/plain": [
       "[1500, 2500, 4000, 5500, 6300, 8000, 10000]"
      ]
     },
     "execution_count": 44,
     "metadata": {},
     "output_type": "execute_result"
    }
   ],
   "source": [
    "income"
   ]
  },
  {
   "cell_type": "code",
   "execution_count": 45,
   "id": "de6acc3a-9f1e-4560-89cc-1182a5b7f038",
   "metadata": {},
   "outputs": [],
   "source": [
    "# polyfit function fits the linear model z to the data points\n",
    "z = np.polyfit(age,income,1)\n",
    "# poly1d functions creates the actual function used to display the data points  \n",
    "p = np.poly1d(z)\n"
   ]
  },
  {
   "cell_type": "code",
   "execution_count": 46,
   "id": "cd4e2331-0788-43d8-a4e0-f7536a651e3a",
   "metadata": {},
   "outputs": [
    {
     "data": {
      "image/png": "[encoded data removed]",
      "text/plain": [
       "<Figure size 432x288 with 1 Axes>"
      ]
     },
     "metadata": {
      "needs_background": "light"
     },
     "output_type": "display_data"
    }
   ],
   "source": [
    "plt.plot(age,p(age) , 'r-')\n",
    "plt.show()"
   ]
  },
  {
   "cell_type": "code",
   "execution_count": 47,
   "id": "84aba1aa-22d7-4037-b39a-4c29ef1e16ce",
   "metadata": {},
   "outputs": [
    {
     "name": "stdout",
     "output_type": "stream",
     "text": [
      " \n",
      "211.8 x - 3495\n"
     ]
    }
   ],
   "source": [
    "# linear regression formula\n",
    "print(np.poly1d(p))"
   ]
  },
  {
   "cell_type": "code",
   "execution_count": 48,
   "id": "be048a0d-1eec-4aab-85ef-4e2223fd427b",
   "metadata": {},
   "outputs": [
    {
     "name": "stdout",
     "output_type": "stream",
     "text": [
      " \n",
      "1.027e+04\n"
     ]
    }
   ],
   "source": [
    "#forecasting\n",
    "print(np.poly1d(p(65)))"
   ]
  },
  {
   "cell_type": "code",
   "execution_count": 63,
   "id": "423866f7-ff0a-4220-923d-8b94a4338cd7",
   "metadata": {},
   "outputs": [
    {
     "data": {
      "image/png": "[encoded data removed]",
      "text/plain": [
       "<Figure size 432x288 with 1 Axes>"
      ]
     },
     "metadata": {
      "needs_background": "light"
     },
     "output_type": "display_data"
    }
   ],
   "source": [
    "import numpy as np\n",
    "import matplotlib.pyplot as plt\n",
    "i=3        # intercept\n",
    "s=2        # slope\n",
    "x=np.linspace(1,10,50)  # from 1 to 10, by 50\n",
    "plt.plot(x, s*x + i)        # abline\n",
    "plt.show()"
   ]
  },
  {
   "cell_type": "code",
   "execution_count": 73,
   "id": "c4ccfc76-b6e6-4ffb-a4f1-994d04acc4fd",
   "metadata": {},
   "outputs": [
    {
     "data": {
      "image/png": "[encoded data removed]",
      "text/plain": [
       "<Figure size 432x288 with 1 Axes>"
      ]
     },
     "metadata": {
      "needs_background": "light"
     },
     "output_type": "display_data"
    }
   ],
   "source": [
    "df.plot(kind='scatter', x='age', y='income', color = \"black\")\n",
    "plt.show()"
   ]
  },
  {
   "cell_type": "code",
   "execution_count": 88,
   "id": "308dc459-7bb0-489f-82ce-16ae42105823",
   "metadata": {},
   "outputs": [],
   "source": [
    "import statsmodels.api as sm\n",
    "fit_1 = sm.OLS(age , income).fit()"
   ]
  },
  {
   "cell_type": "code",
   "execution_count": 82,
   "id": "18d9b5b7-6c32-4abc-aba5-8c964de37020",
   "metadata": {},
   "outputs": [
    {
     "name": "stderr",
     "output_type": "stream",
     "text": [
      "/opt/conda/envs/jupyterhub/lib/python3.9/site-packages/statsmodels/stats/stattools.py:74: ValueWarning: omni_normtest is not valid with less than 8 observations; 7 samples were given.\n",
      "  warn(\"omni_normtest is not valid with less than 8 observations; %i \"\n"
     ]
    },
    {
     "data": {
      "text/html": [
       "<table class=\"simpletable\">\n",
       "<caption>OLS Regression Results</caption>\n",
       "<tr>\n",
       "  <th>Dep. Variable:</th>            <td>y</td>        <th>  R-squared (uncentered):</th>      <td>   0.968</td>\n",
       "</tr>\n",
       "<tr>\n",
       "  <th>Model:</th>                   <td>OLS</td>       <th>  Adj. R-squared (uncentered):</th> <td>   0.963</td>\n",
       "</tr>\n",
       "<tr>\n",
       "  <th>Method:</th>             <td>Least Squares</td>  <th>  F-statistic:       </th>          <td>   182.5</td>\n",
       "</tr>\n",
       "<tr>\n",
       "  <th>Date:</th>             <td>Wed, 09 Mar 2022</td> <th>  Prob (F-statistic):</th>          <td>1.02e-05</td>\n",
       "</tr>\n",
       "<tr>\n",
       "  <th>Time:</th>                 <td>18:07:37</td>     <th>  Log-Likelihood:    </th>          <td> -24.354</td>\n",
       "</tr>\n",
       "<tr>\n",
       "  <th>No. Observations:</th>      <td>     7</td>      <th>  AIC:               </th>          <td>   50.71</td>\n",
       "</tr>\n",
       "<tr>\n",
       "  <th>Df Residuals:</th>          <td>     6</td>      <th>  BIC:               </th>          <td>   50.65</td>\n",
       "</tr>\n",
       "<tr>\n",
       "  <th>Df Model:</th>              <td>     1</td>      <th>                     </th>              <td> </td>   \n",
       "</tr>\n",
       "<tr>\n",
       "  <th>Covariance Type:</th>      <td>nonrobust</td>    <th>                     </th>              <td> </td>   \n",
       "</tr>\n",
       "</table>\n",
       "<table class=\"simpletable\">\n",
       "<tr>\n",
       "   <td></td>     <th>coef</th>     <th>std err</th>      <th>t</th>      <th>P>|t|</th>  <th>[0.025</th>    <th>0.975]</th>  \n",
       "</tr>\n",
       "<tr>\n",
       "  <th>x1</th> <td>    0.0071</td> <td>    0.001</td> <td>   13.510</td> <td> 0.000</td> <td>    0.006</td> <td>    0.008</td>\n",
       "</tr>\n",
       "</table>\n",
       "<table class=\"simpletable\">\n",
       "<tr>\n",
       "  <th>Omnibus:</th>       <td>   nan</td> <th>  Durbin-Watson:     </th> <td>   0.329</td>\n",
       "</tr>\n",
       "<tr>\n",
       "  <th>Prob(Omnibus):</th> <td>   nan</td> <th>  Jarque-Bera (JB):  </th> <td>   0.187</td>\n",
       "</tr>\n",
       "<tr>\n",
       "  <th>Skew:</th>          <td>-0.298</td> <th>  Prob(JB):          </th> <td>   0.911</td>\n",
       "</tr>\n",
       "<tr>\n",
       "  <th>Kurtosis:</th>      <td> 2.467</td> <th>  Cond. No.          </th> <td>    1.00</td>\n",
       "</tr>\n",
       "</table><br/><br/>Notes:<br/>[1] R² is computed without centering (uncentered) since the model does not contain a constant.<br/>[2] Standard Errors assume that the covariance matrix of the errors is correctly specified."
      ],
      "text/plain": [
       "<class 'statsmodels.iolib.summary.Summary'>\n",
       "\"\"\"\n",
       "                                 OLS Regression Results                                \n",
       "=======================================================================================\n",
       "Dep. Variable:                      y   R-squared (uncentered):                   0.968\n",
       "Model:                            OLS   Adj. R-squared (uncentered):              0.963\n",
       "Method:                 Least Squares   F-statistic:                              182.5\n",
       "Date:                Wed, 09 Mar 2022   Prob (F-statistic):                    1.02e-05\n",
       "Time:                        18:07:37   Log-Likelihood:                         -24.354\n",
       "No. Observations:                   7   AIC:                                      50.71\n",
       "Df Residuals:                       6   BIC:                                      50.65\n",
       "Df Model:                           1                                                  \n",
       "Covariance Type:            nonrobust                                                  \n",
       "==============================================================================\n",
       "                 coef    std err          t      P>|t|      [0.025      0.975]\n",
       "------------------------------------------------------------------------------\n",
       "x1             0.0071      0.001     13.510      0.000       0.006       0.008\n",
       "==============================================================================\n",
       "Omnibus:                          nan   Durbin-Watson:                   0.329\n",
       "Prob(Omnibus):                    nan   Jarque-Bera (JB):                0.187\n",
       "Skew:                          -0.298   Prob(JB):                        0.911\n",
       "Kurtosis:                       2.467   Cond. No.                         1.00\n",
       "==============================================================================\n",
       "\n",
       "Notes:\n",
       "[1] R² is computed without centering (uncentered) since the model does not contain a constant.\n",
       "[2] Standard Errors assume that the covariance matrix of the errors is correctly specified.\n",
       "\"\"\""
      ]
     },
     "execution_count": 82,
     "metadata": {},
     "output_type": "execute_result"
    }
   ],
   "source": [
    "fit_1.summary()"
   ]
  },
  {
   "cell_type": "code",
   "execution_count": 83,
   "id": "7c183b4c-95cd-4cb1-8b3e-fa347fa617e9",
   "metadata": {},
   "outputs": [
    {
     "data": {
      "text/plain": [
       "array([0.00712312])"
      ]
     },
     "execution_count": 83,
     "metadata": {},
     "output_type": "execute_result"
    }
   ],
   "source": [
    "fit_1.params"
   ]
  },
  {
   "cell_type": "code",
   "execution_count": 85,
   "id": "f69f0bc8-6a3b-4b43-ac18-f7bd19ced8bd",
   "metadata": {},
   "outputs": [
    {
     "data": {
      "text/plain": [
       "[<matplotlib.lines.Line2D at 0x7f94d8258ca0>]"
      ]
     },
     "execution_count": 85,
     "metadata": {},
     "output_type": "execute_result"
    },
    {
     "data": {
      "image/png": "[encoded data removed]",
      "text/plain": [
       "<Figure size 432x288 with 1 Axes>"
      ]
     },
     "metadata": {
      "needs_background": "light"
     },
     "output_type": "display_data"
    }
   ],
   "source": [
    "plt.plot(income, fit_1.fittedvalues, 'r')"
   ]
  },
  {
   "cell_type": "code",
   "execution_count": 91,
   "id": "2b3b2fee-c270-45d9-9fe7-7b4570d3cbd5",
   "metadata": {},
   "outputs": [
    {
     "ename": "NameError",
     "evalue": "name 'X' is not defined",
     "output_type": "error",
     "traceback": [
      "\u001b[0;31m---------------------------------------------------------------------------\u001b[0m",
      "\u001b[0;31mNameError\u001b[0m                                 Traceback (most recent call last)",
      "Input \u001b[0;32mIn [91]\u001b[0m, in \u001b[0;36m<module>\u001b[0;34m\u001b[0m\n\u001b[1;32m      3\u001b[0m \u001b[38;5;28;01mfrom\u001b[39;00m \u001b[38;5;21;01mmatplotlib\u001b[39;00m \u001b[38;5;28;01mimport\u001b[39;00m pyplot \u001b[38;5;28;01mas\u001b[39;00m plt\n\u001b[1;32m      5\u001b[0m model \u001b[38;5;241m=\u001b[39m LinearRegression()\n\u001b[0;32m----> 6\u001b[0m model\u001b[38;5;241m.\u001b[39mfit(\u001b[43mX\u001b[49m,y)\n\u001b[1;32m      7\u001b[0m predictions \u001b[38;5;241m=\u001b[39m model\u001b[38;5;241m.\u001b[39mpredict(X)\n\u001b[1;32m      9\u001b[0m plt\u001b[38;5;241m.\u001b[39mplot(X,y,\u001b[38;5;124m'\u001b[39m\u001b[38;5;124mo\u001b[39m\u001b[38;5;124m'\u001b[39m)\n",
      "\u001b[0;31mNameError\u001b[0m: name 'X' is not defined"
     ]
    }
   ],
   "source": [
    "import pandas as pd\n",
    "from sklearn.linear_model import LinearRegression\n",
    "from matplotlib import pyplot as plt\n",
    "\n",
    "model = LinearRegression()\n",
    "model.fit(X,y)\n",
    "predictions = model.predict(X)\n",
    "\n",
    "plt.plot(X,y,'o')\n",
    "# change here\n",
    "plt.plot(X, predictions, '-')\n",
    "plt.show()"
   ]
  },
  {
   "cell_type": "code",
   "execution_count": 92,
   "id": "8a888adb-14c3-4260-9160-c72fbdbca03a",
   "metadata": {},
   "outputs": [
    {
     "data": {
      "text/plain": [
       "array([[1.99333333e+02, 4.22166667e+04],\n",
       "       [4.22166667e+04, 9.05333333e+06]])"
      ]
     },
     "execution_count": 92,
     "metadata": {},
     "output_type": "execute_result"
    }
   ],
   "source": [
    "np.cov(age,income)"
   ]
  },
  {
   "cell_type": "code",
   "execution_count": null,
   "id": "b2f8a7bb-e637-41d7-b88b-69050143a43f",
   "metadata": {},
   "outputs": [],
   "source": []
  }
 ],
 "metadata": {
  "kernelspec": {
   "display_name": "Python 3 (ipykernel)",
   "language": "python",
   "name": "python3"
  },
  "language_info": {
   "codemirror_mode": {
    "name": "ipython",
    "version": 3
   },
   "file_extension": ".py",
   "mimetype": "text/x-python",
   "name": "python",
   "nbconvert_exporter": "python",
   "pygments_lexer": "ipython3",
   "version": "3.9.10"
  }
 },
 "nbformat": 4,
 "nbformat_minor": 5
}
