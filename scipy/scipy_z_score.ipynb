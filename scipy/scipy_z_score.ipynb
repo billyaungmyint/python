{
 "cells": [
  {
   "cell_type": "markdown",
   "id": "76410c40-62ed-413b-84c6-15ae5ce63a51",
   "metadata": {},
   "source": [
    "# Z Score"
   ]
  },
  {
   "cell_type": "markdown",
   "id": "e20ec6c9-b3d5-4ed7-b60d-dc85bade893b",
   "metadata": {},
   "source": [
    "### In statistics, a z-score tells us how many standard deviations away a value is from the mean. "
   ]
  },
  {
   "cell_type": "code",
   "execution_count": 37,
   "id": "b28a4974-ea8d-4233-99ef-b635af45bb93",
   "metadata": {},
   "outputs": [],
   "source": [
    "# https://www.statology.org/z-score-python/"
   ]
  },
  {
   "cell_type": "code",
   "execution_count": 23,
   "id": "e7687c23-94ea-4f92-b4a2-14f9923c5c49",
   "metadata": {},
   "outputs": [],
   "source": [
    "import pandas as pd\n",
    "import numpy as np\n",
    "import scipy.stats as stats\n",
    "import matplotlib.pyplot as plt\n",
    "\n",
    "%matplotlib inline"
   ]
  },
  {
   "cell_type": "markdown",
   "id": "245b890b-f8cf-4cf4-bc77-34dd8e7c96f0",
   "metadata": {},
   "source": [
    "#### Numpy 1D"
   ]
  },
  {
   "cell_type": "code",
   "execution_count": 24,
   "id": "82fa738b-a6c7-4d02-b1fb-51027ee5a2de",
   "metadata": {},
   "outputs": [],
   "source": [
    "data = np.array([6, 7, 7, 12, 13, 13, 15, 16, 19, 22])"
   ]
  },
  {
   "cell_type": "code",
   "execution_count": 25,
   "id": "f1f8334e-49d7-4569-8280-7651c099b3bc",
   "metadata": {},
   "outputs": [
    {
     "data": {
      "text/plain": [
       "13.0"
      ]
     },
     "execution_count": 25,
     "metadata": {},
     "output_type": "execute_result"
    }
   ],
   "source": [
    "data.mean()"
   ]
  },
  {
   "cell_type": "code",
   "execution_count": 27,
   "id": "700756f0-e059-454b-b07a-555e8d0bbd33",
   "metadata": {},
   "outputs": [
    {
     "data": {
      "image/png": "[encoded data removed]",
      "text/plain": [
       "<Figure size 432x288 with 1 Axes>"
      ]
     },
     "metadata": {
      "needs_background": "light"
     },
     "output_type": "display_data"
    }
   ],
   "source": [
    "plt.plot(data)\n",
    "plt.show()"
   ]
  },
  {
   "cell_type": "code",
   "execution_count": 13,
   "id": "44f46e7a-fedc-41eb-ba27-536fdbb30bc4",
   "metadata": {},
   "outputs": [
    {
     "data": {
      "text/plain": [
       "array([-1.39443338, -1.19522861, -1.19522861, -0.19920477,  0.        ,\n",
       "        0.        ,  0.39840954,  0.5976143 ,  1.19522861,  1.79284291])"
      ]
     },
     "execution_count": 13,
     "metadata": {},
     "output_type": "execute_result"
    }
   ],
   "source": [
    "stats.zscore(data)\n",
    "# The first value of “6” in the array is 1.394 standard deviations below the mean.\n",
    "# The fifth value of “13” in the array is 0 standard deviations away from the mean, i.e. it is equal to the mean.\n",
    "# The last value of “22” in the array is 1.793 standard deviations above the mean."
   ]
  },
  {
   "cell_type": "markdown",
   "id": "6375fd4c-2613-4529-a777-1b967f31c9d4",
   "metadata": {},
   "source": [
    "#### Numpy Multi Dimensional"
   ]
  },
  {
   "cell_type": "code",
   "execution_count": 15,
   "id": "df995023-36b2-47a7-8a72-b8071263078d",
   "metadata": {},
   "outputs": [],
   "source": [
    "data = np.array([[5, 6, 7, 7, 8],\n",
    "                 [8, 8, 8, 9, 9],\n",
    "                 [2, 2, 4, 4, 5]])"
   ]
  },
  {
   "cell_type": "code",
   "execution_count": 16,
   "id": "c225ca84-7003-4032-be09-150982c5041b",
   "metadata": {},
   "outputs": [
    {
     "data": {
      "text/plain": [
       "6.133333333333334"
      ]
     },
     "execution_count": 16,
     "metadata": {},
     "output_type": "execute_result"
    }
   ],
   "source": [
    "data.mean()"
   ]
  },
  {
   "cell_type": "code",
   "execution_count": 18,
   "id": "bb1bd96e-2db4-4d85-93aa-a13bc6c2ac16",
   "metadata": {},
   "outputs": [
    {
     "data": {
      "text/plain": [
       "array([[-1.56892908, -0.58834841,  0.39223227,  0.39223227,  1.37281295],\n",
       "       [-0.81649658, -0.81649658, -0.81649658,  1.22474487,  1.22474487],\n",
       "       [-1.16666667, -1.16666667,  0.5       ,  0.5       ,  1.33333333]])"
      ]
     },
     "execution_count": 18,
     "metadata": {},
     "output_type": "execute_result"
    }
   ],
   "source": [
    "stats.zscore(data, axis=1)\n",
    "# The first value of “5” in the first array is 1.159 standard deviations below the mean of its array.\n",
    "# The first value of “8” in the second array is .816 standard deviations below the mean of its array.\n",
    "# The first value of “2” in the third array is 1.167 standard deviations below the mean of its array."
   ]
  },
  {
   "cell_type": "markdown",
   "id": "1ae376f4-6f8b-4137-9403-9285624e74e1",
   "metadata": {},
   "source": [
    "#### Pandas DataFrame"
   ]
  },
  {
   "cell_type": "code",
   "execution_count": 29,
   "id": "790124d5-ec20-44c7-ac32-40bb119dd315",
   "metadata": {},
   "outputs": [
    {
     "data": {
      "text/html": [
       "<div>\n",
       "<style scoped>\n",
       "    .dataframe tbody tr th:only-of-type {\n",
       "        vertical-align: middle;\n",
       "    }\n",
       "\n",
       "    .dataframe tbody tr th {\n",
       "        vertical-align: top;\n",
       "    }\n",
       "\n",
       "    .dataframe thead th {\n",
       "        text-align: right;\n",
       "    }\n",
       "</style>\n",
       "<table border=\"1\" class=\"dataframe\">\n",
       "  <thead>\n",
       "    <tr style=\"text-align: right;\">\n",
       "      <th></th>\n",
       "      <th>A</th>\n",
       "      <th>B</th>\n",
       "      <th>C</th>\n",
       "    </tr>\n",
       "  </thead>\n",
       "  <tbody>\n",
       "    <tr>\n",
       "      <th>0</th>\n",
       "      <td>0</td>\n",
       "      <td>9</td>\n",
       "      <td>2</td>\n",
       "    </tr>\n",
       "    <tr>\n",
       "      <th>1</th>\n",
       "      <td>5</td>\n",
       "      <td>0</td>\n",
       "      <td>1</td>\n",
       "    </tr>\n",
       "    <tr>\n",
       "      <th>2</th>\n",
       "      <td>0</td>\n",
       "      <td>8</td>\n",
       "      <td>2</td>\n",
       "    </tr>\n",
       "    <tr>\n",
       "      <th>3</th>\n",
       "      <td>8</td>\n",
       "      <td>0</td>\n",
       "      <td>0</td>\n",
       "    </tr>\n",
       "    <tr>\n",
       "      <th>4</th>\n",
       "      <td>7</td>\n",
       "      <td>1</td>\n",
       "      <td>1</td>\n",
       "    </tr>\n",
       "  </tbody>\n",
       "</table>\n",
       "</div>"
      ],
      "text/plain": [
       "   A  B  C\n",
       "0  0  9  2\n",
       "1  5  0  1\n",
       "2  0  8  2\n",
       "3  8  0  0\n",
       "4  7  1  1"
      ]
     },
     "execution_count": 29,
     "metadata": {},
     "output_type": "execute_result"
    }
   ],
   "source": [
    "data = pd.DataFrame(np.random.randint(0, 10, size=(5, 3)), columns=['A', 'B', 'C'])\n",
    "data"
   ]
  },
  {
   "cell_type": "code",
   "execution_count": 36,
   "id": "de3d15cc-febf-4586-ba76-61e84f7e3f08",
   "metadata": {},
   "outputs": [
    {
     "data": {
      "text/html": [
       "<div>\n",
       "<style scoped>\n",
       "    .dataframe tbody tr th:only-of-type {\n",
       "        vertical-align: middle;\n",
       "    }\n",
       "\n",
       "    .dataframe tbody tr th {\n",
       "        vertical-align: top;\n",
       "    }\n",
       "\n",
       "    .dataframe thead th {\n",
       "        text-align: right;\n",
       "    }\n",
       "</style>\n",
       "<table border=\"1\" class=\"dataframe\">\n",
       "  <thead>\n",
       "    <tr style=\"text-align: right;\">\n",
       "      <th></th>\n",
       "      <th>A</th>\n",
       "      <th>B</th>\n",
       "      <th>C</th>\n",
       "    </tr>\n",
       "  </thead>\n",
       "  <tbody>\n",
       "    <tr>\n",
       "      <th>count</th>\n",
       "      <td>5.000000</td>\n",
       "      <td>5.000000</td>\n",
       "      <td>5.00000</td>\n",
       "    </tr>\n",
       "    <tr>\n",
       "      <th>mean</th>\n",
       "      <td>4.000000</td>\n",
       "      <td>3.600000</td>\n",
       "      <td>1.20000</td>\n",
       "    </tr>\n",
       "    <tr>\n",
       "      <th>std</th>\n",
       "      <td>3.807887</td>\n",
       "      <td>4.505552</td>\n",
       "      <td>0.83666</td>\n",
       "    </tr>\n",
       "    <tr>\n",
       "      <th>min</th>\n",
       "      <td>0.000000</td>\n",
       "      <td>0.000000</td>\n",
       "      <td>0.00000</td>\n",
       "    </tr>\n",
       "    <tr>\n",
       "      <th>25%</th>\n",
       "      <td>0.000000</td>\n",
       "      <td>0.000000</td>\n",
       "      <td>1.00000</td>\n",
       "    </tr>\n",
       "    <tr>\n",
       "      <th>50%</th>\n",
       "      <td>5.000000</td>\n",
       "      <td>1.000000</td>\n",
       "      <td>1.00000</td>\n",
       "    </tr>\n",
       "    <tr>\n",
       "      <th>75%</th>\n",
       "      <td>7.000000</td>\n",
       "      <td>8.000000</td>\n",
       "      <td>2.00000</td>\n",
       "    </tr>\n",
       "    <tr>\n",
       "      <th>max</th>\n",
       "      <td>8.000000</td>\n",
       "      <td>9.000000</td>\n",
       "      <td>2.00000</td>\n",
       "    </tr>\n",
       "  </tbody>\n",
       "</table>\n",
       "</div>"
      ],
      "text/plain": [
       "              A         B        C\n",
       "count  5.000000  5.000000  5.00000\n",
       "mean   4.000000  3.600000  1.20000\n",
       "std    3.807887  4.505552  0.83666\n",
       "min    0.000000  0.000000  0.00000\n",
       "25%    0.000000  0.000000  1.00000\n",
       "50%    5.000000  1.000000  1.00000\n",
       "75%    7.000000  8.000000  2.00000\n",
       "max    8.000000  9.000000  2.00000"
      ]
     },
     "execution_count": 36,
     "metadata": {},
     "output_type": "execute_result"
    }
   ],
   "source": [
    "data.describe()"
   ]
  },
  {
   "cell_type": "code",
   "execution_count": 35,
   "id": "0dbc7a62-a384-4efb-b7ce-84cce7d67594",
   "metadata": {},
   "outputs": [
    {
     "data": {
      "text/plain": [
       "A    4.0\n",
       "B    3.6\n",
       "C    1.2\n",
       "dtype: float64"
      ]
     },
     "execution_count": 35,
     "metadata": {},
     "output_type": "execute_result"
    }
   ],
   "source": [
    "data.mean()"
   ]
  },
  {
   "cell_type": "code",
   "execution_count": 34,
   "id": "c2bb6b20-0b68-4717-a1a4-372d4620835b",
   "metadata": {},
   "outputs": [
    {
     "data": {
      "text/html": [
       "<div>\n",
       "<style scoped>\n",
       "    .dataframe tbody tr th:only-of-type {\n",
       "        vertical-align: middle;\n",
       "    }\n",
       "\n",
       "    .dataframe tbody tr th {\n",
       "        vertical-align: top;\n",
       "    }\n",
       "\n",
       "    .dataframe thead th {\n",
       "        text-align: right;\n",
       "    }\n",
       "</style>\n",
       "<table border=\"1\" class=\"dataframe\">\n",
       "  <thead>\n",
       "    <tr style=\"text-align: right;\">\n",
       "      <th></th>\n",
       "      <th>A</th>\n",
       "      <th>B</th>\n",
       "      <th>C</th>\n",
       "    </tr>\n",
       "  </thead>\n",
       "  <tbody>\n",
       "    <tr>\n",
       "      <th>0</th>\n",
       "      <td>-1.17444</td>\n",
       "      <td>1.339988</td>\n",
       "      <td>1.069045</td>\n",
       "    </tr>\n",
       "    <tr>\n",
       "      <th>1</th>\n",
       "      <td>0.29361</td>\n",
       "      <td>-0.893325</td>\n",
       "      <td>-0.267261</td>\n",
       "    </tr>\n",
       "    <tr>\n",
       "      <th>2</th>\n",
       "      <td>-1.17444</td>\n",
       "      <td>1.091842</td>\n",
       "      <td>1.069045</td>\n",
       "    </tr>\n",
       "    <tr>\n",
       "      <th>3</th>\n",
       "      <td>1.17444</td>\n",
       "      <td>-0.893325</td>\n",
       "      <td>-1.603567</td>\n",
       "    </tr>\n",
       "    <tr>\n",
       "      <th>4</th>\n",
       "      <td>0.88083</td>\n",
       "      <td>-0.645179</td>\n",
       "      <td>-0.267261</td>\n",
       "    </tr>\n",
       "  </tbody>\n",
       "</table>\n",
       "</div>"
      ],
      "text/plain": [
       "         A         B         C\n",
       "0 -1.17444  1.339988  1.069045\n",
       "1  0.29361 -0.893325 -0.267261\n",
       "2 -1.17444  1.091842  1.069045\n",
       "3  1.17444 -0.893325 -1.603567\n",
       "4  0.88083 -0.645179 -0.267261"
      ]
     },
     "execution_count": 34,
     "metadata": {},
     "output_type": "execute_result"
    }
   ],
   "source": [
    "data.apply(stats.zscore)\n",
    "# The z-scores for each individual value are shown relative to the column they’re in.\n",
    "# The first value of “8” in the first column is 0.659 standard deviations above the mean value of its column.\n",
    "# "
   ]
  },
  {
   "cell_type": "code",
   "execution_count": null,
   "id": "5e9d4dd9-f5b6-44d6-b0de-9cd78399b8fd",
   "metadata": {},
   "outputs": [],
   "source": []
  }
 ],
 "metadata": {
  "kernelspec": {
   "display_name": "Python 3 (ipykernel)",
   "language": "python",
   "name": "python3"
  },
  "language_info": {
   "codemirror_mode": {
    "name": "ipython",
    "version": 3
   },
   "file_extension": ".py",
   "mimetype": "text/x-python",
   "name": "python",
   "nbconvert_exporter": "python",
   "pygments_lexer": "ipython3",
   "version": "3.9.10"
  }
 },
 "nbformat": 4,
 "nbformat_minor": 5
}
