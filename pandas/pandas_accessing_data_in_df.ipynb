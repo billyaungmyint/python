{
 "cells": [
  {
   "cell_type": "markdown",
   "id": "e4e3afce-8ab7-4f02-b015-2b579d0b906b",
   "metadata": {},
   "source": [
    "# Pandas accessing data in dataframe"
   ]
  },
  {
   "cell_type": "code",
   "execution_count": 2,
   "id": "8936efbb-3a1e-47b4-81b5-d9c51e3df1ce",
   "metadata": {},
   "outputs": [
    {
     "data": {
      "text/html": [
       "<div>\n",
       "<style scoped>\n",
       "    .dataframe tbody tr th:only-of-type {\n",
       "        vertical-align: middle;\n",
       "    }\n",
       "\n",
       "    .dataframe tbody tr th {\n",
       "        vertical-align: top;\n",
       "    }\n",
       "\n",
       "    .dataframe thead th {\n",
       "        text-align: right;\n",
       "    }\n",
       "</style>\n",
       "<table border=\"1\" class=\"dataframe\">\n",
       "  <thead>\n",
       "    <tr style=\"text-align: right;\">\n",
       "      <th></th>\n",
       "      <th>Date</th>\n",
       "      <th>Day</th>\n",
       "      <th>Time</th>\n",
       "      <th>Gender</th>\n",
       "      <th>BuyCategory</th>\n",
       "      <th>ItemsOrdered</th>\n",
       "      <th>TotalCost</th>\n",
       "      <th>HighItem</th>\n",
       "      <th>Member</th>\n",
       "      <th>Region</th>\n",
       "    </tr>\n",
       "  </thead>\n",
       "  <tbody>\n",
       "    <tr>\n",
       "      <th>0</th>\n",
       "      <td>6-Mar</td>\n",
       "      <td>Mon</td>\n",
       "      <td>Morning</td>\n",
       "      <td>Female</td>\n",
       "      <td>High</td>\n",
       "      <td>4</td>\n",
       "      <td>136.97</td>\n",
       "      <td>79.97</td>\n",
       "      <td>Yes</td>\n",
       "      <td>West</td>\n",
       "    </tr>\n",
       "    <tr>\n",
       "      <th>1</th>\n",
       "      <td>6-Mar</td>\n",
       "      <td>Mon</td>\n",
       "      <td>Morning</td>\n",
       "      <td>Female</td>\n",
       "      <td>Medium</td>\n",
       "      <td>1</td>\n",
       "      <td>25.55</td>\n",
       "      <td>25.55</td>\n",
       "      <td>No</td>\n",
       "      <td>West</td>\n",
       "    </tr>\n",
       "    <tr>\n",
       "      <th>2</th>\n",
       "      <td>6-Mar</td>\n",
       "      <td>Mon</td>\n",
       "      <td>Afternoon</td>\n",
       "      <td>Female</td>\n",
       "      <td>Medium</td>\n",
       "      <td>5</td>\n",
       "      <td>113.95</td>\n",
       "      <td>90.47</td>\n",
       "      <td>Yes</td>\n",
       "      <td>West</td>\n",
       "    </tr>\n",
       "    <tr>\n",
       "      <th>3</th>\n",
       "      <td>6-Mar</td>\n",
       "      <td>Mon</td>\n",
       "      <td>Afternoon</td>\n",
       "      <td>Female</td>\n",
       "      <td>Low</td>\n",
       "      <td>1</td>\n",
       "      <td>6.82</td>\n",
       "      <td>6.82</td>\n",
       "      <td>No</td>\n",
       "      <td>East</td>\n",
       "    </tr>\n",
       "    <tr>\n",
       "      <th>4</th>\n",
       "      <td>6-Mar</td>\n",
       "      <td>Mon</td>\n",
       "      <td>Afternoon</td>\n",
       "      <td>Male</td>\n",
       "      <td>Medium</td>\n",
       "      <td>4</td>\n",
       "      <td>147.32</td>\n",
       "      <td>83.21</td>\n",
       "      <td>Yes</td>\n",
       "      <td>West</td>\n",
       "    </tr>\n",
       "  </tbody>\n",
       "</table>\n",
       "</div>"
      ],
      "text/plain": [
       "    Date  Day       Time  Gender BuyCategory  ItemsOrdered  TotalCost  \\\n",
       "0  6-Mar  Mon    Morning  Female        High             4     136.97   \n",
       "1  6-Mar  Mon    Morning  Female      Medium             1      25.55   \n",
       "2  6-Mar  Mon  Afternoon  Female      Medium             5     113.95   \n",
       "3  6-Mar  Mon  Afternoon  Female         Low             1       6.82   \n",
       "4  6-Mar  Mon  Afternoon    Male      Medium             4     147.32   \n",
       "\n",
       "   HighItem Member Region  \n",
       "0     79.97    Yes   West  \n",
       "1     25.55     No   West  \n",
       "2     90.47    Yes   West  \n",
       "3      6.82     No   East  \n",
       "4     83.21    Yes   West  "
      ]
     },
     "execution_count": 2,
     "metadata": {},
     "output_type": "execute_result"
    }
   ],
   "source": [
    "import pandas as pd\n",
    "df = pd.read_csv('../NUS/ChallengerSales.csv')\n",
    "df.head(5)"
   ]
  },
  {
   "cell_type": "code",
   "execution_count": 5,
   "id": "fca2f5a2-624b-4b31-a960-544f993d1526",
   "metadata": {},
   "outputs": [
    {
     "data": {
      "text/plain": [
       "0      West\n",
       "1      West\n",
       "2      West\n",
       "3      East\n",
       "4      West\n",
       "       ... \n",
       "395    East\n",
       "396    East\n",
       "397    West\n",
       "398    East\n",
       "399    East\n",
       "Name: Region, Length: 400, dtype: object"
      ]
     },
     "execution_count": 5,
     "metadata": {},
     "output_type": "execute_result"
    }
   ],
   "source": [
    "region = df[\"Region\"]\n",
    "region"
   ]
  },
  {
   "cell_type": "code",
   "execution_count": 6,
   "id": "22295f77-05c5-4854-9fdf-be360ecf9583",
   "metadata": {},
   "outputs": [
    {
     "data": {
      "text/plain": [
       "pandas.core.series.Series"
      ]
     },
     "execution_count": 6,
     "metadata": {},
     "output_type": "execute_result"
    }
   ],
   "source": [
    "type(region)"
   ]
  },
  {
   "cell_type": "code",
   "execution_count": 7,
   "id": "93d547c5-0215-4de4-8d81-603db5e62949",
   "metadata": {},
   "outputs": [
    {
     "data": {
      "text/html": [
       "<div>\n",
       "<style scoped>\n",
       "    .dataframe tbody tr th:only-of-type {\n",
       "        vertical-align: middle;\n",
       "    }\n",
       "\n",
       "    .dataframe tbody tr th {\n",
       "        vertical-align: top;\n",
       "    }\n",
       "\n",
       "    .dataframe thead th {\n",
       "        text-align: right;\n",
       "    }\n",
       "</style>\n",
       "<table border=\"1\" class=\"dataframe\">\n",
       "  <thead>\n",
       "    <tr style=\"text-align: right;\">\n",
       "      <th></th>\n",
       "      <th>Region</th>\n",
       "      <th>Day</th>\n",
       "    </tr>\n",
       "  </thead>\n",
       "  <tbody>\n",
       "    <tr>\n",
       "      <th>0</th>\n",
       "      <td>West</td>\n",
       "      <td>Mon</td>\n",
       "    </tr>\n",
       "    <tr>\n",
       "      <th>1</th>\n",
       "      <td>West</td>\n",
       "      <td>Mon</td>\n",
       "    </tr>\n",
       "    <tr>\n",
       "      <th>2</th>\n",
       "      <td>West</td>\n",
       "      <td>Mon</td>\n",
       "    </tr>\n",
       "    <tr>\n",
       "      <th>3</th>\n",
       "      <td>East</td>\n",
       "      <td>Mon</td>\n",
       "    </tr>\n",
       "    <tr>\n",
       "      <th>4</th>\n",
       "      <td>West</td>\n",
       "      <td>Mon</td>\n",
       "    </tr>\n",
       "    <tr>\n",
       "      <th>...</th>\n",
       "      <td>...</td>\n",
       "      <td>...</td>\n",
       "    </tr>\n",
       "    <tr>\n",
       "      <th>395</th>\n",
       "      <td>East</td>\n",
       "      <td>Sat</td>\n",
       "    </tr>\n",
       "    <tr>\n",
       "      <th>396</th>\n",
       "      <td>East</td>\n",
       "      <td>Sat</td>\n",
       "    </tr>\n",
       "    <tr>\n",
       "      <th>397</th>\n",
       "      <td>West</td>\n",
       "      <td>Sat</td>\n",
       "    </tr>\n",
       "    <tr>\n",
       "      <th>398</th>\n",
       "      <td>East</td>\n",
       "      <td>Sat</td>\n",
       "    </tr>\n",
       "    <tr>\n",
       "      <th>399</th>\n",
       "      <td>East</td>\n",
       "      <td>Sat</td>\n",
       "    </tr>\n",
       "  </tbody>\n",
       "</table>\n",
       "<p>400 rows × 2 columns</p>\n",
       "</div>"
      ],
      "text/plain": [
       "    Region  Day\n",
       "0     West  Mon\n",
       "1     West  Mon\n",
       "2     West  Mon\n",
       "3     East  Mon\n",
       "4     West  Mon\n",
       "..     ...  ...\n",
       "395   East  Sat\n",
       "396   East  Sat\n",
       "397   West  Sat\n",
       "398   East  Sat\n",
       "399   East  Sat\n",
       "\n",
       "[400 rows x 2 columns]"
      ]
     },
     "execution_count": 7,
     "metadata": {},
     "output_type": "execute_result"
    }
   ],
   "source": [
    "df[[\"Region\",\"Day\"]]"
   ]
  },
  {
   "cell_type": "code",
   "execution_count": 11,
   "id": "24e90bb5-d873-435d-9398-a46e98ad488a",
   "metadata": {},
   "outputs": [
    {
     "data": {
      "text/plain": [
       "pandas.core.frame.DataFrame"
      ]
     },
     "execution_count": 11,
     "metadata": {},
     "output_type": "execute_result"
    }
   ],
   "source": [
    "type(df[[\"Region\",\"Day\"]])"
   ]
  },
  {
   "cell_type": "code",
   "execution_count": 12,
   "id": "68c6be3d-b074-4246-a741-c78a3864674a",
   "metadata": {},
   "outputs": [
    {
     "data": {
      "text/plain": [
       "'East'"
      ]
     },
     "execution_count": 12,
     "metadata": {},
     "output_type": "execute_result"
    }
   ],
   "source": [
    "df['Region'][5]"
   ]
  },
  {
   "cell_type": "code",
   "execution_count": 13,
   "id": "37b10e90-47ff-409e-aa63-c4a6f901727c",
   "metadata": {},
   "outputs": [
    {
     "data": {
      "text/plain": [
       "Index(['Date', 'Day', 'Time', 'Gender', 'BuyCategory', 'ItemsOrdered',\n",
       "       'TotalCost', 'HighItem', 'Member', 'Region'],\n",
       "      dtype='object')"
      ]
     },
     "execution_count": 13,
     "metadata": {},
     "output_type": "execute_result"
    }
   ],
   "source": [
    "df.columns"
   ]
  },
  {
   "cell_type": "code",
   "execution_count": 15,
   "id": "90ff05bc-5402-41d7-914f-5a9570697bec",
   "metadata": {},
   "outputs": [
    {
     "name": "stdout",
     "output_type": "stream",
     "text": [
      "     Gender Member Region  TotalCost\n",
      "0    Female    Yes   West     136.97\n",
      "1    Female     No   West      25.55\n",
      "2    Female    Yes   West     113.95\n",
      "3    Female     No   East       6.82\n",
      "4      Male    Yes   West     147.32\n",
      "..      ...    ...    ...        ...\n",
      "395    Male     No   East     268.39\n",
      "396  Female     No   East     169.11\n",
      "397    Male     No   West     242.46\n",
      "398    Male     No   East     168.64\n",
      "399  Female     No   East     107.59\n",
      "\n",
      "[400 rows x 4 columns]\n"
     ]
    }
   ],
   "source": [
    "cols_needed = ['Gender','Member','Region','TotalCost']\n",
    "df_short = df[cols_needed]\n",
    "print(df_short)"
   ]
  },
  {
   "cell_type": "code",
   "execution_count": 16,
   "id": "0ac6c267-d902-4136-9a7f-ac8bd4ae6c54",
   "metadata": {},
   "outputs": [
    {
     "data": {
      "text/html": [
       "<div>\n",
       "<style scoped>\n",
       "    .dataframe tbody tr th:only-of-type {\n",
       "        vertical-align: middle;\n",
       "    }\n",
       "\n",
       "    .dataframe tbody tr th {\n",
       "        vertical-align: top;\n",
       "    }\n",
       "\n",
       "    .dataframe thead th {\n",
       "        text-align: right;\n",
       "    }\n",
       "</style>\n",
       "<table border=\"1\" class=\"dataframe\">\n",
       "  <thead>\n",
       "    <tr style=\"text-align: right;\">\n",
       "      <th></th>\n",
       "      <th>Gender</th>\n",
       "      <th>Member</th>\n",
       "      <th>Region</th>\n",
       "      <th>TotalCost</th>\n",
       "    </tr>\n",
       "  </thead>\n",
       "  <tbody>\n",
       "    <tr>\n",
       "      <th>0</th>\n",
       "      <td>Female</td>\n",
       "      <td>Yes</td>\n",
       "      <td>West</td>\n",
       "      <td>136.97</td>\n",
       "    </tr>\n",
       "    <tr>\n",
       "      <th>2</th>\n",
       "      <td>Female</td>\n",
       "      <td>Yes</td>\n",
       "      <td>West</td>\n",
       "      <td>113.95</td>\n",
       "    </tr>\n",
       "    <tr>\n",
       "      <th>4</th>\n",
       "      <td>Male</td>\n",
       "      <td>Yes</td>\n",
       "      <td>West</td>\n",
       "      <td>147.32</td>\n",
       "    </tr>\n",
       "    <tr>\n",
       "      <th>6</th>\n",
       "      <td>Male</td>\n",
       "      <td>No</td>\n",
       "      <td>West</td>\n",
       "      <td>18.65</td>\n",
       "    </tr>\n",
       "    <tr>\n",
       "      <th>8</th>\n",
       "      <td>Male</td>\n",
       "      <td>No</td>\n",
       "      <td>West</td>\n",
       "      <td>25.83</td>\n",
       "    </tr>\n",
       "  </tbody>\n",
       "</table>\n",
       "</div>"
      ],
      "text/plain": [
       "   Gender Member Region  TotalCost\n",
       "0  Female    Yes   West     136.97\n",
       "2  Female    Yes   West     113.95\n",
       "4    Male    Yes   West     147.32\n",
       "6    Male     No   West      18.65\n",
       "8    Male     No   West      25.83"
      ]
     },
     "execution_count": 16,
     "metadata": {},
     "output_type": "execute_result"
    }
   ],
   "source": [
    "df_short2 = df[cols_needed][::2] # start , end , step = 2 so odd rows ( because 0 based ? )\n",
    "df_short2.head(5)"
   ]
  },
  {
   "cell_type": "code",
   "execution_count": 18,
   "id": "94fb17a9-6951-4717-b103-03d10c26b72a",
   "metadata": {},
   "outputs": [
    {
     "data": {
      "text/plain": [
       "'East'"
      ]
     },
     "execution_count": 18,
     "metadata": {},
     "output_type": "execute_result"
    }
   ],
   "source": [
    "df.loc[5,'Region'] #row index followed by the column name"
   ]
  },
  {
   "cell_type": "code",
   "execution_count": 19,
   "id": "482c77da-01ff-4e49-b6cd-128c6af680b4",
   "metadata": {},
   "outputs": [
    {
     "data": {
      "text/plain": [
       "Date                6-Mar\n",
       "Day                   Mon\n",
       "Time            Afternoon\n",
       "Gender             Female\n",
       "BuyCategory        Medium\n",
       "ItemsOrdered            5\n",
       "TotalCost          142.15\n",
       "HighItem             50.9\n",
       "Member                 No\n",
       "Region               East\n",
       "Name: 5, dtype: object"
      ]
     },
     "execution_count": 19,
     "metadata": {},
     "output_type": "execute_result"
    }
   ],
   "source": [
    "df.loc[5] # whole row"
   ]
  },
  {
   "cell_type": "code",
   "execution_count": 21,
   "id": "ba40a0a8-d3c3-4125-9a88-652a85f5379b",
   "metadata": {},
   "outputs": [
    {
     "data": {
      "text/plain": [
       "0      West\n",
       "1      West\n",
       "2      West\n",
       "3      East\n",
       "4      West\n",
       "       ... \n",
       "395    East\n",
       "396    East\n",
       "397    West\n",
       "398    East\n",
       "399    East\n",
       "Name: Region, Length: 400, dtype: object"
      ]
     },
     "execution_count": 21,
     "metadata": {},
     "output_type": "execute_result"
    }
   ],
   "source": [
    "df_demo1 = df.loc[:,'Region'] #all the rows in the region column\n",
    "df_demo1"
   ]
  },
  {
   "cell_type": "code",
   "execution_count": 24,
   "id": "dc208606-3ffd-4ba0-81d2-63c70587f046",
   "metadata": {},
   "outputs": [
    {
     "data": {
      "text/plain": [
       "(200, 4)"
      ]
     },
     "execution_count": 24,
     "metadata": {},
     "output_type": "execute_result"
    }
   ],
   "source": [
    "cols_needed = ['Gender','Member','Region','TotalCost']\n",
    "df_demo2 = df.loc[::2, cols_needed] #odd rows from the original dataset then just look at the specific columns\n",
    "df_demo2.shape"
   ]
  },
  {
   "cell_type": "code",
   "execution_count": 27,
   "id": "743f3c06-4c40-466f-acbe-a5832bd9789e",
   "metadata": {},
   "outputs": [
    {
     "data": {
      "text/html": [
       "<div>\n",
       "<style scoped>\n",
       "    .dataframe tbody tr th:only-of-type {\n",
       "        vertical-align: middle;\n",
       "    }\n",
       "\n",
       "    .dataframe tbody tr th {\n",
       "        vertical-align: top;\n",
       "    }\n",
       "\n",
       "    .dataframe thead th {\n",
       "        text-align: right;\n",
       "    }\n",
       "</style>\n",
       "<table border=\"1\" class=\"dataframe\">\n",
       "  <thead>\n",
       "    <tr style=\"text-align: right;\">\n",
       "      <th></th>\n",
       "      <th>Gender</th>\n",
       "      <th>Member</th>\n",
       "      <th>Region</th>\n",
       "      <th>TotalCost</th>\n",
       "    </tr>\n",
       "  </thead>\n",
       "  <tbody>\n",
       "    <tr>\n",
       "      <th>0</th>\n",
       "      <td>Female</td>\n",
       "      <td>Yes</td>\n",
       "      <td>West</td>\n",
       "      <td>136.97</td>\n",
       "    </tr>\n",
       "    <tr>\n",
       "      <th>5</th>\n",
       "      <td>Female</td>\n",
       "      <td>No</td>\n",
       "      <td>East</td>\n",
       "      <td>142.15</td>\n",
       "    </tr>\n",
       "    <tr>\n",
       "      <th>8</th>\n",
       "      <td>Male</td>\n",
       "      <td>No</td>\n",
       "      <td>West</td>\n",
       "      <td>25.83</td>\n",
       "    </tr>\n",
       "    <tr>\n",
       "      <th>100</th>\n",
       "      <td>Male</td>\n",
       "      <td>No</td>\n",
       "      <td>East</td>\n",
       "      <td>100.02</td>\n",
       "    </tr>\n",
       "  </tbody>\n",
       "</table>\n",
       "</div>"
      ],
      "text/plain": [
       "     Gender Member Region  TotalCost\n",
       "0    Female    Yes   West     136.97\n",
       "5    Female     No   East     142.15\n",
       "8      Male     No   West      25.83\n",
       "100    Male     No   East     100.02"
      ]
     },
     "execution_count": 27,
     "metadata": {},
     "output_type": "execute_result"
    }
   ],
   "source": [
    "cols_needed = ['Gender','Member','Region','TotalCost']\n",
    "rows_needed = [0,5,8,100]\n",
    "df_demo3 = df.loc[rows_needed , cols_needed]\n",
    "df_demo3"
   ]
  },
  {
   "cell_type": "code",
   "execution_count": 30,
   "id": "a3fcc6ec-46ca-44e4-b9e1-e51cd74060f3",
   "metadata": {},
   "outputs": [
    {
     "data": {
      "text/plain": [
       "'Female'"
      ]
     },
     "execution_count": 30,
     "metadata": {},
     "output_type": "execute_result"
    }
   ],
   "source": [
    "df.iloc[5,3]"
   ]
  },
  {
   "cell_type": "code",
   "execution_count": 31,
   "id": "10556993-8c32-47cd-8c92-0d93579325fc",
   "metadata": {},
   "outputs": [
    {
     "data": {
      "text/plain": [
       "10"
      ]
     },
     "execution_count": 31,
     "metadata": {},
     "output_type": "execute_result"
    }
   ],
   "source": [
    "len(df.columns)"
   ]
  },
  {
   "cell_type": "code",
   "execution_count": 35,
   "id": "391d72f3-0820-47a2-a867-93112daf977f",
   "metadata": {},
   "outputs": [
    {
     "name": "stdout",
     "output_type": "stream",
     "text": [
      "Date                6-Mar\n",
      "Day                   Mon\n",
      "Time            Afternoon\n",
      "Gender             Female\n",
      "BuyCategory        Medium\n",
      "ItemsOrdered            5\n",
      "TotalCost          142.15\n",
      "HighItem             50.9\n",
      "Member                 No\n",
      "Region               East\n",
      "Name: 5, dtype: object\n",
      "0      4\n",
      "1      1\n",
      "2      5\n",
      "3      1\n",
      "4      4\n",
      "      ..\n",
      "395    6\n",
      "396    3\n",
      "397    6\n",
      "398    4\n",
      "399    1\n",
      "Name: ItemsOrdered, Length: 400, dtype: int64\n"
     ]
    }
   ],
   "source": [
    "print(df.iloc[5,:])\n",
    "print(df.iloc[:,5])"
   ]
  },
  {
   "cell_type": "code",
   "execution_count": 36,
   "id": "2a2fb994-2f36-47e2-838b-57e556707306",
   "metadata": {},
   "outputs": [
    {
     "data": {
      "text/html": [
       "<div>\n",
       "<style scoped>\n",
       "    .dataframe tbody tr th:only-of-type {\n",
       "        vertical-align: middle;\n",
       "    }\n",
       "\n",
       "    .dataframe tbody tr th {\n",
       "        vertical-align: top;\n",
       "    }\n",
       "\n",
       "    .dataframe thead th {\n",
       "        text-align: right;\n",
       "    }\n",
       "</style>\n",
       "<table border=\"1\" class=\"dataframe\">\n",
       "  <thead>\n",
       "    <tr style=\"text-align: right;\">\n",
       "      <th></th>\n",
       "      <th>Time</th>\n",
       "      <th>Gender</th>\n",
       "      <th>BuyCategory</th>\n",
       "      <th>ItemsOrdered</th>\n",
       "    </tr>\n",
       "  </thead>\n",
       "  <tbody>\n",
       "    <tr>\n",
       "      <th>0</th>\n",
       "      <td>Morning</td>\n",
       "      <td>Female</td>\n",
       "      <td>High</td>\n",
       "      <td>4</td>\n",
       "    </tr>\n",
       "    <tr>\n",
       "      <th>1</th>\n",
       "      <td>Morning</td>\n",
       "      <td>Female</td>\n",
       "      <td>Medium</td>\n",
       "      <td>1</td>\n",
       "    </tr>\n",
       "    <tr>\n",
       "      <th>2</th>\n",
       "      <td>Afternoon</td>\n",
       "      <td>Female</td>\n",
       "      <td>Medium</td>\n",
       "      <td>5</td>\n",
       "    </tr>\n",
       "    <tr>\n",
       "      <th>3</th>\n",
       "      <td>Afternoon</td>\n",
       "      <td>Female</td>\n",
       "      <td>Low</td>\n",
       "      <td>1</td>\n",
       "    </tr>\n",
       "    <tr>\n",
       "      <th>4</th>\n",
       "      <td>Afternoon</td>\n",
       "      <td>Male</td>\n",
       "      <td>Medium</td>\n",
       "      <td>4</td>\n",
       "    </tr>\n",
       "  </tbody>\n",
       "</table>\n",
       "</div>"
      ],
      "text/plain": [
       "        Time  Gender BuyCategory  ItemsOrdered\n",
       "0    Morning  Female        High             4\n",
       "1    Morning  Female      Medium             1\n",
       "2  Afternoon  Female      Medium             5\n",
       "3  Afternoon  Female         Low             1\n",
       "4  Afternoon    Male      Medium             4"
      ]
     },
     "execution_count": 36,
     "metadata": {},
     "output_type": "execute_result"
    }
   ],
   "source": [
    "df.iloc[0:5,2:6]"
   ]
  },
  {
   "cell_type": "code",
   "execution_count": null,
   "id": "92ff90cd-1e73-4fe6-8f0c-ee2b425898ff",
   "metadata": {},
   "outputs": [],
   "source": []
  }
 ],
 "metadata": {
  "kernelspec": {
   "display_name": "Python 3 (ipykernel)",
   "language": "python",
   "name": "python3"
  },
  "language_info": {
   "codemirror_mode": {
    "name": "ipython",
    "version": 3
   },
   "file_extension": ".py",
   "mimetype": "text/x-python",
   "name": "python",
   "nbconvert_exporter": "python",
   "pygments_lexer": "ipython3",
   "version": "3.9.10"
  }
 },
 "nbformat": 4,
 "nbformat_minor": 5
}
