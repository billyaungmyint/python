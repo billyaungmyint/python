{
 "cells": [
  {
   "cell_type": "markdown",
   "id": "ad4a5420-3f3c-4299-b849-05e7d956b5d5",
   "metadata": {},
   "source": [
    "# How to use Jupyter - Markdown"
   ]
  },
  {
   "cell_type": "markdown",
   "id": "a8e65c66-2b51-4afd-9fa2-39d0cfe7e377",
   "metadata": {
    "tags": []
   },
   "source": [
    "##### Line break - 2 spaces after the end of the first line\n",
    "Hello.  \n",
    "Goodbye."
   ]
  },
  {
   "cell_type": "markdown",
   "id": "bfd943f3-f871-4648-bc83-282ef7b2cba8",
   "metadata": {},
   "source": [
    "#### This is a test heading\n",
    "\n",
    "THis is a **sample** test"
   ]
  },
  {
   "cell_type": "markdown",
   "id": "63f43ec0-36e5-447d-8338-363f0dbfba24",
   "metadata": {},
   "source": [
    "This is a first line.\n",
    "\n",
    "This is a second line."
   ]
  },
  {
   "cell_type": "markdown",
   "id": "1a4a6538-264d-42c1-9292-aa384120ce7d",
   "metadata": {},
   "source": [
    "1. Fruits\n",
    "2. Shoes\n",
    "3. Monkeys"
   ]
  },
  {
   "cell_type": "markdown",
   "id": "f3858ee2-9adb-4bc7-8d8d-b64cfe38d63d",
   "metadata": {},
   "source": [
    "#### For unordered list , use dash or asterix or plus signs\n",
    "\n",
    "- Fruits\n",
    "* Shoes\n",
    "+ Monkeys"
   ]
  },
  {
   "cell_type": "markdown",
   "id": "2f6d5535-944b-4547-92e3-87792a588f9c",
   "metadata": {},
   "source": [
    "1. Shoes\n",
    "    - Nike\n",
    "    - Puma\n",
    "2. Clothes\n",
    "    - Uniqlo\n",
    "    - G2000"
   ]
  },
  {
   "cell_type": "markdown",
   "id": "5a1dd357-a1f3-40af-8d37-63c6b85e98c6",
   "metadata": {},
   "source": [
    "This is a **bolded** text.\n",
    "\n",
    "This is __another text__"
   ]
  },
  {
   "cell_type": "markdown",
   "id": "9c7b0c02-82f6-4ca6-9ef9-c1de4f1cbeec",
   "metadata": {},
   "source": [
    "This an *italic* text."
   ]
  },
  {
   "cell_type": "markdown",
   "id": "b1103152-8d57-42b7-8efc-f20524ad897e",
   "metadata": {},
   "source": [
    "This is ***bold and italic*** at the same time!!!!"
   ]
  },
  {
   "cell_type": "markdown",
   "id": "c60fcfae-8e14-4636-8504-8ea000aac19d",
   "metadata": {},
   "source": [
    "`print('Hello World')`"
   ]
  },
  {
   "cell_type": "markdown",
   "id": "4734e68f-2e6b-4ab3-b61b-dc97c6167c7d",
   "metadata": {},
   "source": [
    "another highlighted text : `dnf install python3`"
   ]
  },
  {
   "cell_type": "markdown",
   "id": "51722971-d265-41eb-8362-c8e67f73ba5b",
   "metadata": {},
   "source": [
    "~~Strike through~~"
   ]
  },
  {
   "cell_type": "markdown",
   "id": "1ab045ea-b88f-4074-a059-92e3bbfdbd8a",
   "metadata": {},
   "source": [
    "#### This is a code block using ``` or ~~~~\n",
    "\n",
    "```python\n",
    "def hello():\n",
    "    print('Hello World')\n",
    "```"
   ]
  },
  {
   "cell_type": "markdown",
   "id": "24cf54d2-ec68-459b-8d99-857f2bf454aa",
   "metadata": {},
   "source": [
    "#### Adding tickes and unticked boxes in markdown\n",
    "- [x] Test1\n",
    "- [x] Test2\n",
    "- [ ] Test3"
   ]
  },
  {
   "cell_type": "markdown",
   "id": "e9aad51e-72d1-4e1a-80b2-035dfe9176ac",
   "metadata": {},
   "source": [
    "Test internal link to **[Above](#This-is-a-test-heading)**"
   ]
  },
  {
   "cell_type": "markdown",
   "id": "0d20370f-4088-4fa7-9171-ece016de8442",
   "metadata": {},
   "source": [
    "Test external link to [Google](https://www.google.com.sg)"
   ]
  },
  {
   "cell_type": "markdown",
   "id": "a40220b0-3e3e-4cdf-88e9-a94b026a9882",
   "metadata": {},
   "source": [
    ":)"
   ]
  },
  {
   "cell_type": "markdown",
   "id": "4ffe68e1-4449-4abc-89dc-9f35fee5a0a3",
   "metadata": {},
   "source": [
    "This is [google][1] and this is [Yahoo][2].\n",
    "\n",
    "[1]: <https://google.com.sg> \"Google\"\n",
    "[2]: <https://yahoo.com> \"Yahoo\""
   ]
  },
  {
   "cell_type": "code",
   "execution_count": null,
   "id": "b5b4bf28-4aac-42b0-9f01-462145ebdaac",
   "metadata": {},
   "outputs": [],
   "source": []
  }
 ],
 "metadata": {
  "kernelspec": {
   "display_name": "Python 3 (ipykernel)",
   "language": "python",
   "name": "python3"
  },
  "language_info": {
   "codemirror_mode": {
    "name": "ipython",
    "version": 3
   },
   "file_extension": ".py",
   "mimetype": "text/x-python",
   "name": "python",
   "nbconvert_exporter": "python",
   "pygments_lexer": "ipython3",
   "version": "3.9.7"
  }
 },
 "nbformat": 4,
 "nbformat_minor": 5
}
