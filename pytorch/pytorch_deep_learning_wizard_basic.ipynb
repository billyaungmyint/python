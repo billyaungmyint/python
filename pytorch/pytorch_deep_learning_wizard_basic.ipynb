{
 "cells": [
  {
   "cell_type": "markdown",
   "id": "536ef00b-a59e-43fc-9424-12369cb1b80f",
   "metadata": {},
   "source": [
    "### Creating Tensors - Just like numpy arrays"
   ]
  },
  {
   "cell_type": "code",
   "execution_count": 5,
   "id": "e038cfb9-7b0b-48db-bbdf-79b713a69027",
   "metadata": {},
   "outputs": [],
   "source": [
    "import numpy as np"
   ]
  },
  {
   "cell_type": "code",
   "execution_count": 6,
   "id": "a98dde6d-b32b-475d-8fc1-c405339f1eb4",
   "metadata": {},
   "outputs": [
    {
     "data": {
      "text/plain": [
       "[[1, 2], [3, 4]]"
      ]
     },
     "execution_count": 6,
     "metadata": {},
     "output_type": "execute_result"
    }
   ],
   "source": [
    "arr = [[1,2],[3,4]]\n",
    "arr"
   ]
  },
  {
   "cell_type": "code",
   "execution_count": 9,
   "id": "7eee8e4c-78b4-46d1-8afb-2682eebcdb37",
   "metadata": {},
   "outputs": [
    {
     "name": "stdout",
     "output_type": "stream",
     "text": [
      "(2, 2)\n",
      "4\n"
     ]
    }
   ],
   "source": [
    "x = np.array(arr)\n",
    "\n",
    "print(x.shape)\n",
    "print(x.size)"
   ]
  },
  {
   "cell_type": "code",
   "execution_count": 1,
   "id": "a13b72ab-fee8-4092-9c0d-8b4564a50549",
   "metadata": {},
   "outputs": [],
   "source": [
    "import torch"
   ]
  },
  {
   "cell_type": "code",
   "execution_count": 12,
   "id": "637496b2-f1d5-41df-bde4-ab9516e0ea6d",
   "metadata": {},
   "outputs": [
    {
     "data": {
      "text/plain": [
       "tensor([[1, 2],\n",
       "        [3, 4]])"
      ]
     },
     "execution_count": 12,
     "metadata": {},
     "output_type": "execute_result"
    }
   ],
   "source": [
    "y = torch.tensor(arr)\n",
    "y"
   ]
  },
  {
   "cell_type": "code",
   "execution_count": 13,
   "id": "6744bef0-3ead-401a-84a2-b4ac2889895c",
   "metadata": {},
   "outputs": [
    {
     "data": {
      "text/plain": [
       "torch.Tensor"
      ]
     },
     "execution_count": 13,
     "metadata": {},
     "output_type": "execute_result"
    }
   ],
   "source": [
    "type(y)"
   ]
  },
  {
   "cell_type": "markdown",
   "id": "ade91d48-ad39-414a-b89c-60d5f03ba2c2",
   "metadata": {},
   "source": [
    "### Create Matrices with default values"
   ]
  },
  {
   "cell_type": "code",
   "execution_count": 17,
   "id": "0142e4f0-041f-4a56-b87a-3212751c5d08",
   "metadata": {},
   "outputs": [
    {
     "data": {
      "text/plain": [
       "array([[1., 1., 1.],\n",
       "       [1., 1., 1.]])"
      ]
     },
     "execution_count": 17,
     "metadata": {},
     "output_type": "execute_result"
    }
   ],
   "source": [
    "np.ones((2,3))"
   ]
  },
  {
   "cell_type": "code",
   "execution_count": 18,
   "id": "e62a5185-b4fa-44d3-a0af-08c8ac495cb9",
   "metadata": {},
   "outputs": [
    {
     "data": {
      "text/plain": [
       "tensor([[1., 1., 1.],\n",
       "        [1., 1., 1.]])"
      ]
     },
     "execution_count": 18,
     "metadata": {},
     "output_type": "execute_result"
    }
   ],
   "source": [
    "torch.ones((2,3))"
   ]
  },
  {
   "cell_type": "code",
   "execution_count": 19,
   "id": "27f6c090-e5db-4455-ac73-186b1c03826e",
   "metadata": {},
   "outputs": [
    {
     "data": {
      "text/plain": [
       "array([[0.11315252, 0.35741053],\n",
       "       [0.14157068, 0.35468799]])"
      ]
     },
     "execution_count": 19,
     "metadata": {},
     "output_type": "execute_result"
    }
   ],
   "source": [
    "np.random.rand(2,2)"
   ]
  },
  {
   "cell_type": "code",
   "execution_count": 20,
   "id": "54b8fff9-a244-41d1-93a2-e38508d661fc",
   "metadata": {},
   "outputs": [
    {
     "data": {
      "text/plain": [
       "tensor([[0.8177, 0.4354],\n",
       "        [0.1917, 0.1209]])"
      ]
     },
     "execution_count": 20,
     "metadata": {},
     "output_type": "execute_result"
    }
   ],
   "source": [
    "torch.rand(2,2)"
   ]
  },
  {
   "cell_type": "markdown",
   "id": "bdc56b0f-8202-41eb-932c-4f521c51e076",
   "metadata": {},
   "source": [
    "### Seeds for replicatiability"
   ]
  },
  {
   "cell_type": "code",
   "execution_count": 22,
   "id": "8805f952-c8d7-4e31-ba8d-ad22ef2fac09",
   "metadata": {},
   "outputs": [
    {
     "data": {
      "text/plain": [
       "array([[0.18026969, 0.01947524],\n",
       "       [0.46321853, 0.72493393]])"
      ]
     },
     "execution_count": 22,
     "metadata": {},
     "output_type": "execute_result"
    }
   ],
   "source": [
    "np.random.seed(11)\n",
    "np.random.rand(2,2)"
   ]
  },
  {
   "cell_type": "code",
   "execution_count": 23,
   "id": "309a906d-0de1-45f6-a8d9-9a69cb721b48",
   "metadata": {},
   "outputs": [
    {
     "data": {
      "text/plain": [
       "tensor([[0.1490, 0.4866],\n",
       "        [0.9857, 0.1684]])"
      ]
     },
     "execution_count": 23,
     "metadata": {},
     "output_type": "execute_result"
    }
   ],
   "source": [
    "torch.manual_seed(11)\n",
    "torch.rand(2,2)"
   ]
  },
  {
   "cell_type": "markdown",
   "id": "99569d5a-1758-410b-bbd2-5ec50dfda691",
   "metadata": {},
   "source": [
    "### Seed for GPU"
   ]
  },
  {
   "cell_type": "code",
   "execution_count": 28,
   "id": "12fa0ea3-772a-4390-a2f0-5b289ed2226e",
   "metadata": {},
   "outputs": [
    {
     "data": {
      "text/plain": [
       "False"
      ]
     },
     "execution_count": 28,
     "metadata": {},
     "output_type": "execute_result"
    }
   ],
   "source": [
    "torch.cuda.is_available() \n"
   ]
  },
  {
   "cell_type": "markdown",
   "id": "140c4e33-d02a-440e-8bc6-8b1c0d919638",
   "metadata": {},
   "source": [
    "### Numpy and Torch bridge"
   ]
  },
  {
   "cell_type": "code",
   "execution_count": 31,
   "id": "575bdbaf-5e21-4f65-97e5-a3d58fbb1f96",
   "metadata": {},
   "outputs": [
    {
     "name": "stdout",
     "output_type": "stream",
     "text": [
      "[[1. 1.]\n",
      " [1. 1.]]\n",
      "\n",
      "<class 'numpy.ndarray'>\n"
     ]
    }
   ],
   "source": [
    "np_array = np.ones((2,2))\n",
    "print(np_array)\n",
    "print()\n",
    "print(type(np_array))"
   ]
  },
  {
   "cell_type": "code",
   "execution_count": 34,
   "id": "2a5db6f6-1d21-4ff4-9314-22718b3946b4",
   "metadata": {},
   "outputs": [
    {
     "name": "stdout",
     "output_type": "stream",
     "text": [
      "tensor([[1., 1.],\n",
      "        [1., 1.]], dtype=torch.float64)\n",
      "\n",
      "<class 'torch.Tensor'>\n"
     ]
    }
   ],
   "source": [
    "torch_tensor = torch.from_numpy(np_array)\n",
    "print(torch_tensor)\n",
    "print()\n",
    "print(type(torch_tensor))"
   ]
  },
  {
   "cell_type": "code",
   "execution_count": 36,
   "id": "9fa3d224-f13b-4b85-b331-bec1ab37a094",
   "metadata": {},
   "outputs": [
    {
     "name": "stdout",
     "output_type": "stream",
     "text": [
      "[[1 1]\n",
      " [1 1]]\n",
      "\n",
      "<class 'numpy.ndarray'>\n"
     ]
    }
   ],
   "source": [
    "np_array_new = np.ones((2,2) , dtype=np.int8)\n",
    "print(np_array_new)\n",
    "print()\n",
    "print(type(np_array_new))"
   ]
  },
  {
   "cell_type": "code",
   "execution_count": 37,
   "id": "68f4e33d-b342-466f-b39d-48f335255bf0",
   "metadata": {},
   "outputs": [
    {
     "name": "stdout",
     "output_type": "stream",
     "text": [
      "tensor([[1, 1],\n",
      "        [1, 1]], dtype=torch.int8)\n",
      "\n",
      "<class 'torch.Tensor'>\n"
     ]
    }
   ],
   "source": [
    "torch_tensor_new = torch.from_numpy(np_array_new)\n",
    "print(torch_tensor_new)\n",
    "print()\n",
    "print(type(torch_tensor_new))"
   ]
  },
  {
   "cell_type": "markdown",
   "id": "f62f8959-b02a-4171-b92b-77c217940c9d",
   "metadata": {},
   "source": [
    "### Torch to Numpy"
   ]
  },
  {
   "cell_type": "code",
   "execution_count": 39,
   "id": "29ac4d5c-43d5-44f9-ab59-27f3897ab986",
   "metadata": {},
   "outputs": [
    {
     "data": {
      "text/plain": [
       "tensor([[1., 1.],\n",
       "        [1., 1.]])"
      ]
     },
     "execution_count": 39,
     "metadata": {},
     "output_type": "execute_result"
    }
   ],
   "source": [
    "torch_tensor = torch.ones(2,2)\n",
    "torch_tensor"
   ]
  },
  {
   "cell_type": "code",
   "execution_count": 40,
   "id": "183d399c-ab51-495b-b666-b0b2854ef496",
   "metadata": {},
   "outputs": [
    {
     "data": {
      "text/plain": [
       "torch.Tensor"
      ]
     },
     "execution_count": 40,
     "metadata": {},
     "output_type": "execute_result"
    }
   ],
   "source": [
    "type(torch_tensor)"
   ]
  },
  {
   "cell_type": "code",
   "execution_count": 43,
   "id": "e86b7928-19a9-4212-a56f-3caf3f1402e0",
   "metadata": {},
   "outputs": [
    {
     "data": {
      "text/plain": [
       "array([[1., 1.],\n",
       "       [1., 1.]], dtype=float32)"
      ]
     },
     "execution_count": 43,
     "metadata": {},
     "output_type": "execute_result"
    }
   ],
   "source": [
    "torch_to_numpy = torch_tensor.numpy()\n",
    "torch_to_numpy"
   ]
  },
  {
   "cell_type": "code",
   "execution_count": 44,
   "id": "72480de8-d421-4f31-bdee-4f6e2fa2e989",
   "metadata": {},
   "outputs": [
    {
     "data": {
      "text/plain": [
       "numpy.ndarray"
      ]
     },
     "execution_count": 44,
     "metadata": {},
     "output_type": "execute_result"
    }
   ],
   "source": [
    "type(torch_to_numpy)"
   ]
  },
  {
   "cell_type": "markdown",
   "id": "2f30ba5d-ad4f-4aba-bb08-076d8a1aa034",
   "metadata": {},
   "source": [
    "### Tensor Operations"
   ]
  },
  {
   "cell_type": "markdown",
   "id": "13afd5e4-f79f-4902-a62c-156ebbf23928",
   "metadata": {},
   "source": [
    "##### Reizing Tensors"
   ]
  },
  {
   "cell_type": "code",
   "execution_count": 48,
   "id": "4bf5e6a8-dd83-44f4-a950-45177f064145",
   "metadata": {},
   "outputs": [
    {
     "data": {
      "text/plain": [
       "tensor([[1., 1.],\n",
       "        [1., 1.]])"
      ]
     },
     "execution_count": 48,
     "metadata": {},
     "output_type": "execute_result"
    }
   ],
   "source": [
    "a = torch.ones(2,2)\n",
    "a"
   ]
  },
  {
   "cell_type": "code",
   "execution_count": 49,
   "id": "4281e392-600a-4ce6-896f-a8ba651d4652",
   "metadata": {},
   "outputs": [
    {
     "data": {
      "text/plain": [
       "torch.Size([2, 2])"
      ]
     },
     "execution_count": 49,
     "metadata": {},
     "output_type": "execute_result"
    }
   ],
   "source": [
    "a.size()"
   ]
  },
  {
   "cell_type": "code",
   "execution_count": 50,
   "id": "53d0b6c7-0f7d-458c-9e2b-fc2c026ee6dd",
   "metadata": {},
   "outputs": [
    {
     "data": {
      "text/plain": [
       "tensor([1., 1., 1., 1.])"
      ]
     },
     "execution_count": 50,
     "metadata": {},
     "output_type": "execute_result"
    }
   ],
   "source": [
    "a.view(4)"
   ]
  },
  {
   "cell_type": "code",
   "execution_count": 52,
   "id": "417212a0-338a-43eb-b12a-d66bbb784b11",
   "metadata": {},
   "outputs": [
    {
     "data": {
      "text/plain": [
       "torch.Size([4])"
      ]
     },
     "execution_count": 52,
     "metadata": {},
     "output_type": "execute_result"
    }
   ],
   "source": [
    "a.view(4).size()"
   ]
  },
  {
   "cell_type": "markdown",
   "id": "319520ba-e572-4b9c-87bb-a5898f0ed5e9",
   "metadata": {},
   "source": [
    "#### Element wise addition"
   ]
  },
  {
   "cell_type": "code",
   "execution_count": 54,
   "id": "bcdc42ad-3d03-452e-ba34-215f0e6903ef",
   "metadata": {},
   "outputs": [
    {
     "data": {
      "text/plain": [
       "tensor([[1., 1.],\n",
       "        [1., 1.]])"
      ]
     },
     "execution_count": 54,
     "metadata": {},
     "output_type": "execute_result"
    }
   ],
   "source": [
    "a = torch.ones(2,2)\n",
    "a"
   ]
  },
  {
   "cell_type": "code",
   "execution_count": 55,
   "id": "ea66957a-ed4a-4038-aefd-14da17ada8d6",
   "metadata": {},
   "outputs": [
    {
     "data": {
      "text/plain": [
       "tensor([[1., 1.],\n",
       "        [1., 1.]])"
      ]
     },
     "execution_count": 55,
     "metadata": {},
     "output_type": "execute_result"
    }
   ],
   "source": [
    "b = torch.ones(2,2)\n",
    "b"
   ]
  },
  {
   "cell_type": "code",
   "execution_count": 56,
   "id": "e6d3be0d-0c84-4224-a13f-45e49a6c9ffb",
   "metadata": {},
   "outputs": [
    {
     "data": {
      "text/plain": [
       "tensor([[2., 2.],\n",
       "        [2., 2.]])"
      ]
     },
     "execution_count": 56,
     "metadata": {},
     "output_type": "execute_result"
    }
   ],
   "source": [
    "c = a + b\n",
    "c"
   ]
  },
  {
   "cell_type": "code",
   "execution_count": 57,
   "id": "b46a3a13-8a68-4803-b52c-9bd53762d37f",
   "metadata": {},
   "outputs": [
    {
     "data": {
      "text/plain": [
       "tensor([[2., 2.],\n",
       "        [2., 2.]])"
      ]
     },
     "execution_count": 57,
     "metadata": {},
     "output_type": "execute_result"
    }
   ],
   "source": [
    "c = torch.add(a,b)\n",
    "c"
   ]
  },
  {
   "cell_type": "markdown",
   "id": "fb8b69a9-ed1e-4323-b2a5-d5226fd00720",
   "metadata": {},
   "source": [
    "#### Tensor Mean"
   ]
  },
  {
   "cell_type": "code",
   "execution_count": 67,
   "id": "8aef9f6e-df5f-4cae-afd1-402f11760cfc",
   "metadata": {},
   "outputs": [
    {
     "data": {
      "text/plain": [
       "tensor([ 1,  2,  3,  4,  5,  6,  7,  8,  9, 10])"
      ]
     },
     "execution_count": 67,
     "metadata": {},
     "output_type": "execute_result"
    }
   ],
   "source": [
    "a = torch.tensor([1,2,3,4,5,6,7,8,9,10])\n",
    "a"
   ]
  },
  {
   "cell_type": "code",
   "execution_count": 68,
   "id": "e143bbfa-b055-4ca6-96a8-1448f798ef0e",
   "metadata": {},
   "outputs": [
    {
     "data": {
      "text/plain": [
       "torch.Size([10])"
      ]
     },
     "execution_count": 68,
     "metadata": {},
     "output_type": "execute_result"
    }
   ],
   "source": [
    "a.size()"
   ]
  },
  {
   "cell_type": "code",
   "execution_count": 70,
   "id": "796c403f-5117-4da5-b3dd-1cc77ccce6df",
   "metadata": {},
   "outputs": [
    {
     "data": {
      "text/plain": [
       "tensor(5.5000)"
      ]
     },
     "execution_count": 70,
     "metadata": {},
     "output_type": "execute_result"
    }
   ],
   "source": [
    "a.float().mean() # or a.mean(dim=0)"
   ]
  },
  {
   "cell_type": "markdown",
   "id": "45caa882-e4a9-464c-a9e4-07ac1cc50e02",
   "metadata": {},
   "source": [
    "#### Standard deviation"
   ]
  },
  {
   "cell_type": "code",
   "execution_count": 74,
   "id": "3c466e5b-a910-4fe0-8483-c3a629a8bcf0",
   "metadata": {},
   "outputs": [
    {
     "data": {
      "text/plain": [
       "tensor(3.0277)"
      ]
     },
     "execution_count": 74,
     "metadata": {},
     "output_type": "execute_result"
    }
   ],
   "source": [
    "a.float().std()"
   ]
  }
 ],
 "metadata": {
  "kernelspec": {
   "display_name": "Python 3 (ipykernel)",
   "language": "python",
   "name": "python3"
  },
  "language_info": {
   "codemirror_mode": {
    "name": "ipython",
    "version": 3
   },
   "file_extension": ".py",
   "mimetype": "text/x-python",
   "name": "python",
   "nbconvert_exporter": "python",
   "pygments_lexer": "ipython3",
   "version": "3.9.12"
  }
 },
 "nbformat": 4,
 "nbformat_minor": 5
}
