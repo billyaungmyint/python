{
 "cells": [
  {
   "cell_type": "markdown",
   "id": "73047578-bb63-4d39-bc44-69662d22f167",
   "metadata": {},
   "source": [
    "# pytorch - test"
   ]
  },
  {
   "cell_type": "code",
   "execution_count": 1,
   "id": "8255d3fd-2016-4499-8ba7-ce9e40befa13",
   "metadata": {},
   "outputs": [
    {
     "name": "stdout",
     "output_type": "stream",
     "text": [
      "99 3531.04736328125\n",
      "199 2490.3310546875\n",
      "299 1757.598388671875\n",
      "399 1241.540771484375\n",
      "499 877.9791870117188\n",
      "599 621.780517578125\n",
      "699 441.1924743652344\n",
      "799 313.869873046875\n",
      "899 224.0808563232422\n",
      "999 160.74740600585938\n",
      "1099 116.06541442871094\n",
      "1199 84.53614807128906\n",
      "1299 62.28373336791992\n",
      "1399 46.576175689697266\n",
      "1499 35.486690521240234\n",
      "1599 27.656352996826172\n",
      "1699 22.126569747924805\n",
      "1799 18.220924377441406\n",
      "1899 15.462060928344727\n",
      "1999 13.513031959533691\n",
      "Result: y = -0.07182363420724869 + 0.8660436272621155 x + 0.012390772812068462 x^2 + -0.09465362876653671 x^3\n"
     ]
    }
   ],
   "source": [
    "import torch\n",
    "import math\n",
    "\n",
    "\n",
    "dtype = torch.float\n",
    "device = torch.device(\"cpu\")\n",
    "# device = torch.device(\"cuda:0\") # Uncomment this to run on GPU\n",
    "\n",
    "# Create random input and output data\n",
    "x = torch.linspace(-math.pi, math.pi, 2000, device=device, dtype=dtype)\n",
    "y = torch.sin(x)\n",
    "\n",
    "# Randomly initialize weights\n",
    "a = torch.randn((), device=device, dtype=dtype)\n",
    "b = torch.randn((), device=device, dtype=dtype)\n",
    "c = torch.randn((), device=device, dtype=dtype)\n",
    "d = torch.randn((), device=device, dtype=dtype)\n",
    "\n",
    "learning_rate = 1e-6\n",
    "for t in range(2000):\n",
    "    # Forward pass: compute predicted y\n",
    "    y_pred = a + b * x + c * x ** 2 + d * x ** 3\n",
    "\n",
    "    # Compute and print loss\n",
    "    loss = (y_pred - y).pow(2).sum().item()\n",
    "    if t % 100 == 99:\n",
    "        print(t, loss)\n",
    "\n",
    "    # Backprop to compute gradients of a, b, c, d with respect to loss\n",
    "    grad_y_pred = 2.0 * (y_pred - y)\n",
    "    grad_a = grad_y_pred.sum()\n",
    "    grad_b = (grad_y_pred * x).sum()\n",
    "    grad_c = (grad_y_pred * x ** 2).sum()\n",
    "    grad_d = (grad_y_pred * x ** 3).sum()\n",
    "\n",
    "    # Update weights using gradient descent\n",
    "    a -= learning_rate * grad_a\n",
    "    b -= learning_rate * grad_b\n",
    "    c -= learning_rate * grad_c\n",
    "    d -= learning_rate * grad_d\n",
    "\n",
    "\n",
    "print(f'Result: y = {a.item()} + {b.item()} x + {c.item()} x^2 + {d.item()} x^3')"
   ]
  },
  {
   "cell_type": "code",
   "execution_count": null,
   "id": "f6996e08-5371-469a-8beb-ead7c37ccaff",
   "metadata": {},
   "outputs": [],
   "source": []
  }
 ],
 "metadata": {
  "kernelspec": {
   "display_name": "Python 3 (ipykernel)",
   "language": "python",
   "name": "python3"
  },
  "language_info": {
   "codemirror_mode": {
    "name": "ipython",
    "version": 3
   },
   "file_extension": ".py",
   "mimetype": "text/x-python",
   "name": "python",
   "nbconvert_exporter": "python",
   "pygments_lexer": "ipython3",
   "version": "3.9.7"
  }
 },
 "nbformat": 4,
 "nbformat_minor": 5
}
