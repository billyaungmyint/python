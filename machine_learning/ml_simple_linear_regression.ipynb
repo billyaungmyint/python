{
 "cells": [
  {
   "cell_type": "markdown",
   "id": "1b94c227-a195-4226-94a1-ec0bf60b510f",
   "metadata": {
    "tags": []
   },
   "source": [
    "# Simple Linear Regression - y = mx + b"
   ]
  },
  {
   "cell_type": "code",
   "execution_count": 2,
   "id": "81a5e29c-c21b-45b7-839b-ae6513c91e39",
   "metadata": {},
   "outputs": [],
   "source": [
    "%matplotlib inline\n",
    "import numpy as np\n",
    "import matplotlib.pyplot as plt"
   ]
  },
  {
   "cell_type": "code",
   "execution_count": 3,
   "id": "9d2a58a8-8912-4c8a-b327-9b608faf0117",
   "metadata": {},
   "outputs": [],
   "source": [
    "x = range(0,9)\n",
    "y = (25,33,41,53,59,70,78,86,98)"
   ]
  },
  {
   "cell_type": "code",
   "execution_count": 7,
   "id": "c33a1020-ec19-43e8-9a71-8c341f9d593c",
   "metadata": {},
   "outputs": [
    {
     "data": {
      "image/png": "[encoded data removed]",
      "text/plain": [
       "<Figure size 432x288 with 1 Axes>"
      ]
     },
     "metadata": {
      "needs_background": "light"
     },
     "output_type": "display_data"
    }
   ],
   "source": [
    "#plot the x and y individual points\n",
    "plt.scatter(x,y)\n",
    "\n",
    "# polyfit function fits the linear model z to the data points\n",
    "z = np.polyfit(x,y,1)\n",
    "# poly1d functions creates the actual function used to display the data points  \n",
    "p = np.poly1d(z)\n",
    "\n",
    "# x is x values. y is the result of formula where x = 0 , 1 , 2 and so on.\n",
    "# g- is green colour\n",
    "plt.plot(x,p(x) , 'g-')\n",
    "plt.show()"
   ]
  },
  {
   "cell_type": "code",
   "execution_count": 8,
   "id": "a8dcaad8-bcda-4429-8395-d5e72e311ab8",
   "metadata": {},
   "outputs": [
    {
     "name": "stdout",
     "output_type": "stream",
     "text": [
      " \n",
      "9.033 x + 24.2\n"
     ]
    }
   ],
   "source": [
    "# to get the result of the y = mx + b \n",
    "# this extracts the equation from p using poly1d\n",
    "print(np.poly1d(p))"
   ]
  },
  {
   "cell_type": "code",
   "execution_count": 9,
   "id": "8d75863e-8b06-42f9-82a4-677d15177841",
   "metadata": {},
   "outputs": [
    {
     "name": "stdout",
     "output_type": "stream",
     "text": [
      " \n",
      "78.4\n"
     ]
    }
   ],
   "source": [
    "# if x = 6 ?\n",
    "print(np.poly1d(p(6)))"
   ]
  }
 ],
 "metadata": {
  "kernelspec": {
   "display_name": "Python 3 (ipykernel)",
   "language": "python",
   "name": "python3"
  },
  "language_info": {
   "codemirror_mode": {
    "name": "ipython",
    "version": 3
   },
   "file_extension": ".py",
   "mimetype": "text/x-python",
   "name": "python",
   "nbconvert_exporter": "python",
   "pygments_lexer": "ipython3",
   "version": "3.9.10"
  }
 },
 "nbformat": 4,
 "nbformat_minor": 5
}
