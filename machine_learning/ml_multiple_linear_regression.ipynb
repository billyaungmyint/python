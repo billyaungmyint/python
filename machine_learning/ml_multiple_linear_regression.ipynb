{
 "cells": [
  {
   "cell_type": "markdown",
   "id": "a95d3895-88af-467e-87a3-e11cebb705fc",
   "metadata": {},
   "source": [
    "# Multiple Linear Regression"
   ]
  },
  {
   "cell_type": "markdown",
   "id": "e6dc7923-61d6-4fb4-b521-19f67553ef9a",
   "metadata": {},
   "source": [
    "$y = m_1x_1 + m_2x_2 + b$"
   ]
  },
  {
   "cell_type": "code",
   "execution_count": 11,
   "id": "1be04c65-8008-4002-9f90-5c8035fbea11",
   "metadata": {},
   "outputs": [],
   "source": [
    "from sklearn.linear_model import LinearRegression\n",
    "import pandas as pd\n",
    "%matplotlib inline\n",
    "import numpy as np\n",
    "import matplotlib.pyplot as plt"
   ]
  },
  {
   "cell_type": "code",
   "execution_count": 66,
   "id": "14ad9224-fede-4403-9664-13c63d410d6c",
   "metadata": {},
   "outputs": [],
   "source": [
    "x = range(0,9)\n",
    "i = (0,-1,-3,-4,-5,-7,-8,-9,-11)\n",
    "y = (25,33,41,53,59,70,78,86,98)"
   ]
  },
  {
   "cell_type": "code",
   "execution_count": 67,
   "id": "48feaf1f-df50-4a14-a3ab-58cc90d5cb7a",
   "metadata": {},
   "outputs": [
    {
     "name": "stderr",
     "output_type": "stream",
     "text": [
      "/opt/conda/envs/jupyterhub/lib/python3.9/site-packages/sklearn/base.py:443: UserWarning: X has feature names, but LinearRegression was fitted without feature names\n",
      "  warnings.warn(\n"
     ]
    },
    {
     "data": {
      "image/png": "[encoded data removed]",
      "text/plain": [
       "<Figure size 432x288 with 1 Axes>"
      ]
     },
     "metadata": {
      "needs_background": "light"
     },
     "output_type": "display_data"
    }
   ],
   "source": [
    "studyData = pd.DataFrame({'Grades': y , 'Interrupt':i})\n",
    "\n",
    "plt.scatter(x,y)\n",
    "plt.scatter(x,i)\n",
    "plt.legend(['Grades' , 'Interruptions'])\n",
    "\n",
    "regress = LinearRegression()\n",
    "model = regress.fit(studyData.values , x)\n",
    "studyData_pred = model.predict(studyData)\n",
    "\n",
    "plt.plot(studyData_pred , studyData.values , 'g-')\n",
    "plt.show()"
   ]
  },
  {
   "cell_type": "code",
   "execution_count": 68,
   "id": "a1ff1a29-b326-4aa4-b8b4-575bfb10f7a1",
   "metadata": {},
   "outputs": [
    {
     "name": "stdout",
     "output_type": "stream",
     "text": [
      "7.47\n"
     ]
    }
   ],
   "source": [
    "print(model.predict([[95,-7]]).round(2).item(0))"
   ]
  },
  {
   "cell_type": "code",
   "execution_count": 69,
   "id": "393c3202-78b3-40c9-872d-cf0331c9d8a7",
   "metadata": {},
   "outputs": [
    {
     "name": "stdout",
     "output_type": "stream",
     "text": [
      "[6.29 7.86]\n"
     ]
    }
   ],
   "source": [
    "print(model.predict([[90,0],[98,-8]]).round(2))"
   ]
  }
 ],
 "metadata": {
  "kernelspec": {
   "display_name": "Python 3 (ipykernel)",
   "language": "python",
   "name": "python3"
  },
  "language_info": {
   "codemirror_mode": {
    "name": "ipython",
    "version": 3
   },
   "file_extension": ".py",
   "mimetype": "text/x-python",
   "name": "python",
   "nbconvert_exporter": "python",
   "pygments_lexer": "ipython3",
   "version": "3.9.10"
  }
 },
 "nbformat": 4,
 "nbformat_minor": 5
}
